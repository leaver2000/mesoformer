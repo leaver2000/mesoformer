{
 "cells": [
  {
   "cell_type": "markdown",
   "metadata": {},
   "source": [
    "- primitive types\n",
    "```python\n",
    "x:int = 1\n",
    "x:float = 1.0\n",
    "x:None = None\n",
    "x:str = \"string\"\n",
    "x:bool = True\n",
    "x:bool = False\n",
    "```\n",
    "- operators\n",
    "- variables\n",
    "- keywords (reserved words)\n",
    "```python\n",
    "import module\n",
    "import module as alias\n",
    "from module import Thing1, Thing2\n",
    "from module import Thing1 as alias\n",
    "from module import * # not recommended\n",
    "# \n",
    "import matplotlib.pyplot as plt\n",
    "from numpy.typing import ArrayLike\n",
    "# - data types\n",
    "return\n",
    "yield\n",
    "# - conditional\n",
    "if\n",
    "elif\n",
    "else\n",
    "# - loop\n",
    "while True:...\n",
    "for x in iterable:...\n",
    "# - loop control\n",
    "continue\n",
    "break\n",
    "# - scope\n",
    "match\n",
    "global\n",
    "nonlocal\n",
    "assert\n",
    "pass == ...\n",
    "# - exception handling\n",
    "try\n",
    "except\n",
    "finally\n",
    "raise\n",
    "# - context manager\n",
    "with\n",
    "# - asyncronous programming\n",
    "async\n",
    "await\n",
    "# \n",
    "del\n",
    "lambda\n",
    "class\n",
    "def\n",
    "```\n",
    "\n",
    "- data structures"
   ]
  },
  {
   "cell_type": "code",
   "execution_count": 9,
   "metadata": {},
   "outputs": [
    {
     "ename": "SyntaxError",
     "evalue": "invalid syntax (2648459311.py, line 3)",
     "output_type": "error",
     "traceback": [
      "\u001b[0;36m  Cell \u001b[0;32mIn[9], line 3\u001b[0;36m\u001b[0m\n\u001b[0;31m    def in(self):...\u001b[0m\n\u001b[0m        ^\u001b[0m\n\u001b[0;31mSyntaxError\u001b[0m\u001b[0;31m:\u001b[0m invalid syntax\n"
     ]
    }
   ],
   "source": [
    "int = 1\n",
    "\n",
    "\n",
    "class A:\n",
    "    def in_(self):\n",
    "        ...\n",
    "\n",
    "\n",
    "# return = None"
   ]
  }
 ],
 "metadata": {
  "kernelspec": {
   "display_name": ".venv",
   "language": "python",
   "name": "python3"
  },
  "language_info": {
   "codemirror_mode": {
    "name": "ipython",
    "version": 3
   },
   "file_extension": ".py",
   "mimetype": "text/x-python",
   "name": "python",
   "nbconvert_exporter": "python",
   "pygments_lexer": "ipython3",
   "version": "3.10.12"
  },
  "orig_nbformat": 4
 },
 "nbformat": 4,
 "nbformat_minor": 2
}
