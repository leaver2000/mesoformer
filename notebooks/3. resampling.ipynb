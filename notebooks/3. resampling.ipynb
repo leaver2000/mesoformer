{
 "cells": [
  {
   "cell_type": "code",
   "execution_count": 1,
   "metadata": {},
   "outputs": [
    {
     "data": {
      "text/html": [
       "\n",
       "                <script type=\"application/javascript\" id=\"jupyter_black\">\n",
       "                (function() {\n",
       "                    if (window.IPython === undefined) {\n",
       "                        return\n",
       "                    }\n",
       "                    var msg = \"WARNING: it looks like you might have loaded \" +\n",
       "                        \"jupyter_black in a non-lab notebook with \" +\n",
       "                        \"`is_lab=True`. Please double check, and if \" +\n",
       "                        \"loading with `%load_ext` please review the README!\"\n",
       "                    console.log(msg)\n",
       "                    alert(msg)\n",
       "                })()\n",
       "                </script>\n",
       "                "
      ],
      "text/plain": [
       "<IPython.core.display.HTML object>"
      ]
     },
     "metadata": {},
     "output_type": "display_data"
    }
   ],
   "source": [
    "%load_ext jupyter_black\n",
    "import sys\n",
    "\n",
    "sys.path.append(\"../\")"
   ]
  },
  {
   "cell_type": "code",
   "execution_count": 2,
   "metadata": {},
   "outputs": [
    {
     "name": "stdout",
     "output_type": "stream",
     "text": [
      "Array:\n",
      "[[1 2 3]]\n",
      "Array:\n",
      "[[ True  True False]]\n",
      "Array:\n",
      "[1 2]\n"
     ]
    }
   ],
   "source": [
    "from __future__ import annotations\n",
    "from typing import *\n",
    "\n",
    "import pandas as pd\n",
    "import numpy as np\n",
    "from numpy.typing import NDArray, ArrayLike\n",
    "import matplotlib.pyplot as plt\n",
    "\n",
    "from src.mesoformer.typing import Self, Concatenate, TypeVarTuple, Unpack, NestedSequence\n",
    "from src.mesoformer.generic import Array\n",
    "from src.mesoformer.utils import normalized_scale, sort_unique\n",
    "\n",
    "\n",
    "N = bool | int | slice\n",
    "\n",
    "arr = Array([[1, 2, 3]])  # type: Array[[N, N], int]\n",
    "mask = arr.is_in([1, 2])\n",
    "print(arr, mask, arr[mask], sep=\"\\n\")"
   ]
  },
  {
   "cell_type": "code",
   "execution_count": 3,
   "metadata": {},
   "outputs": [
    {
     "name": "stdout",
     "output_type": "stream",
     "text": [
      "[[1. 1. 1.]] tensor([[1., 1., 1.]])\n"
     ]
    }
   ],
   "source": [
    "from src.mesoformer.typing import TensorLike\n",
    "import torch\n",
    "\n",
    "\n",
    "def f(x: TensorLike[[int, int], int]) -> TensorLike[[int, int], float]:\n",
    "    return x / x\n",
    "\n",
    "\n",
    "print(\n",
    "    f(np.array([[1, 2, 3]])),  # Ok\n",
    "    f(torch.tensor([[1, 2, 3]])),  # Ok\n",
    ")"
   ]
  },
  {
   "cell_type": "code",
   "execution_count": 4,
   "metadata": {},
   "outputs": [],
   "source": [
    "P0 = 1013.25  # - mbar\n",
    "P1 = 25.0  # - mbar\n",
    "STP = sort_unique([P0, *range(1000, 25 - 1, -25), P1]).astype(np.float_)[::-1]\n",
    "ERA5_GRID_RESOLUTION = 30.0  # km / px\n",
    "RATE = ERA5_GRID_RESOLUTION / 2\n",
    "URMA_GRID_RESOLUTION = 2.5  # km / px\n",
    "\n",
    "MESOSCALE_BETA = 200.0  # km"
   ]
  },
  {
   "cell_type": "code",
   "execution_count": 5,
   "metadata": {},
   "outputs": [
    {
     "data": {
      "text/plain": [
       "array([1013.25, 1000.  ,  975.  ,  950.  ,  925.  ,  900.  ,  875.  ,\n",
       "        850.  ,  825.  ,  800.  ,  775.  ,  750.  ,  725.  ,  700.  ,\n",
       "        675.  ,  650.  ,  625.  ,  600.  ,  575.  ,  550.  ,  525.  ,\n",
       "        500.  ,  475.  ,  450.  ,  425.  ,  400.  ,  375.  ,  350.  ,\n",
       "        325.  ,  300.  ,  275.  ,  250.  ,  225.  ,  200.  ,  175.  ,\n",
       "        150.  ,  125.  ,  100.  ,   75.  ,   50.  ,   25.  ])"
      ]
     },
     "execution_count": 5,
     "metadata": {},
     "output_type": "execute_result"
    }
   ],
   "source": [
    "from src.mesoformer.typing import Array, N\n",
    "\n",
    "\n",
    "def arange_troposphere(\n",
    "    start: int = 1000,\n",
    "    stop: int = 25 - 1,\n",
    "    step: int = -25,\n",
    "    *,\n",
    "    p0=P0,\n",
    "    p1=P1,\n",
    ") -> NDArray[np.float_]:\n",
    "    return sort_unique([p0, *range(start, stop, step), p1])[::-1]\n",
    "\n",
    "\n",
    "arange_troposphere()"
   ]
  },
  {
   "cell_type": "code",
   "execution_count": null,
   "metadata": {},
   "outputs": [],
   "source": []
  },
  {
   "cell_type": "code",
   "execution_count": 6,
   "metadata": {},
   "outputs": [],
   "source": [
    "# P0 = 1013.25  # - mbar\n",
    "# P1 = 25.0  # - mbar\n",
    "# STP = sort_unique([P0, *range(1000, 25 - 1, -25), P1]).astype(np.float_)[::-1]\n",
    "# ERA5_GRID_RESOLUTION = 30.0  # km / px\n",
    "# RATE = ERA5_GRID_RESOLUTION / 2\n",
    "# URMA_GRID_RESOLUTION = 2.5  # km / px\n",
    "\n",
    "# MESOSCALE_BETA = 200.0  # km\n",
    "\n",
    "\n",
    "# class Troposphere(Array[[N], np.float64]):\n",
    "#     @classmethod\n",
    "#     def arange(cls, *, p0=P0, p1=P1) -> Troposphere:\n",
    "#         return cls(sort_unique([p0, *range(1000, 25 - 1, -25), p1]).astype(np.float64)[::-1])\n",
    "\n",
    "#     @property\n",
    "#     def log_p(self) -> NDArray[np.float64]:\n",
    "#         return np.log(self._data)\n",
    "\n",
    "#     @property\n",
    "#     def p0(self) -> np.float64:\n",
    "#         return self._data[0]\n",
    "\n",
    "#     @property\n",
    "#     def p1(self) -> np.float64:\n",
    "#         return self._data[-1]\n",
    "\n",
    "\n",
    "# trop = Troposphere.arange()\n",
    "# mask = trop.is_in([1000])\n",
    "# print(\n",
    "#     trop,\n",
    "#     mask,\n",
    "#     trop[mask],\n",
    "#     trop.p0,\n",
    "#     sep=\"\\n\",\n",
    "# )"
   ]
  },
  {
   "cell_type": "code",
   "execution_count": 7,
   "metadata": {},
   "outputs": [
    {
     "data": {
      "text/plain": [
       "mbars:\n",
       "[1013.25  925.00  850.00  700.00  500.00  300.00]\n",
       "dx:\n",
       "[ 200.00 1504.23 1885.10 2338.60 2704.87 2956.21]\n",
       "dy:\n",
       "[ 175.00 1316.20 1649.47 2046.27 2366.76 2586.68]\n",
       "px:\n",
       "[  80.00  601.69  754.04  935.44 1081.95 1182.48]\n",
       "py:\n",
       "[  70.00  526.48  659.79  818.51  946.70 1034.67]\n",
       "scale:\n",
       "[ 1.00  7.52  9.43 11.69 13.52 14.78]"
      ]
     },
     "execution_count": 7,
     "metadata": {},
     "output_type": "execute_result"
    }
   ],
   "source": [
    "from src.mesoformer.utils import normalize\n",
    "\n",
    "P0 = 1013.25  # - mbar\n",
    "P1 = 25.0  # - mbar\n",
    "STP = sort_unique([P0, *range(1000, 25 - 1, -25), P1]).astype(np.float_)[::-1]\n",
    "ERA5_GRID_RESOLUTION = 30.0  # km / px\n",
    "RATE = ERA5_GRID_RESOLUTION / 2\n",
    "URMA_GRID_RESOLUTION = 2.5  # km / px\n",
    "\n",
    "MESOSCALE_BETA = 200.0  # km\n",
    "\n",
    "\n",
    "def arange_troposphere(\n",
    "    start: int = 1000,\n",
    "    stop: int = 25 - 1,\n",
    "    step: int = -25,\n",
    "    *,\n",
    "    p0=P0,\n",
    "    p1=P1,\n",
    ") -> NDArray[np.float_]:\n",
    "    return sort_unique([p0, *range(start, stop, step), p1])[::-1]\n",
    "\n",
    "\n",
    "array2string = lambda x: np.array2string(\n",
    "    x,\n",
    "    max_line_width=72,\n",
    "    precision=2,\n",
    "    separator=\" \",\n",
    "    floatmode=\"fixed\",\n",
    ")\n",
    "\n",
    "\n",
    "def array_repr(**kwargs: NDArray) -> str:\n",
    "    return \"\\n\".join(f\"{k}:\\n{array2string(v)}\" for k, v in kwargs.items())\n",
    "\n",
    "\n",
    "class Mesoscale:\n",
    "    @staticmethod\n",
    "    def _create_scale(x: NDArray[np.float_], rate: float) -> NDArray[np.float_]:\n",
    "        x = normalize(np.log(x))\n",
    "        x *= rate\n",
    "        x += 1\n",
    "        return x\n",
    "\n",
    "    def __init__(\n",
    "        self,\n",
    "        dx: float = 200.0,\n",
    "        dy: float | None = None,\n",
    "        km_px: float = URMA_GRID_RESOLUTION,\n",
    "        *,\n",
    "        mbars: list[float],\n",
    "        rate: float = 1.0,\n",
    "        troposphere: NDArray[np.float_] | None = None,\n",
    "    ) -> None:\n",
    "        super().__init__()\n",
    "\n",
    "        troposphere = troposphere if troposphere is not None else arange_troposphere()\n",
    "        self._mbars = p = sort_unique(mbars)[::-1]\n",
    "        self._mask = mask = np.isin(troposphere, p)\n",
    "        self._scale = scale = self._create_scale(troposphere, rate=rate)[::-1][mask]\n",
    "        self.dx, self.dy = scale[np.newaxis] * np.array([[dx], [dy or dx]])\n",
    "\n",
    "    @property\n",
    "    def mbars(self) -> NDArray[np.float_]:\n",
    "        return self._mbars\n",
    "\n",
    "    def to_pandas(self) -> pd.DataFrame:\n",
    "        return pd.DataFrame(\n",
    "            {\n",
    "                \"dx\": self.dx,\n",
    "                \"dy\": self.dy,\n",
    "                \"px\": self.dx / URMA_GRID_RESOLUTION,\n",
    "                \"py\": self.dy / URMA_GRID_RESOLUTION,\n",
    "            },\n",
    "            index=pd.Index(self.mbars, name=\"hPa\"),\n",
    "        ).sort_index()\n",
    "\n",
    "    def __repr__(self) -> str:\n",
    "        return array_repr(\n",
    "            mbars=self.mbars,\n",
    "            dx=self.dx,\n",
    "            dy=self.dy,\n",
    "            px=self.dx / URMA_GRID_RESOLUTION,\n",
    "            py=self.dy / URMA_GRID_RESOLUTION,\n",
    "            scale=self._scale,\n",
    "        )\n",
    "\n",
    "\n",
    "ms = Mesoscale(200, 175, mbars=[P0, 925.0, 850.0, 700.0, 500.0, 300.0], rate=RATE)\n",
    "ms"
   ]
  },
  {
   "cell_type": "code",
   "execution_count": 8,
   "metadata": {},
   "outputs": [],
   "source": [
    "# import torch\n",
    "# from collections.abc import Sequence\n",
    "# from typing import Union, SupportsIndex, overload\n",
    "# import torch\n",
    "\n",
    "# _ShapeLike = Union[SupportsIndex, Sequence[SupportsIndex]]\n",
    "\n",
    "\n",
    "# # @overload\n",
    "# # def normalize(x: NDArray[np.number]) -> NDArray[np.float32]:\n",
    "# #     ...\n",
    "\n",
    "\n",
    "# # @overload\n",
    "# # def normalize(x: torch.Tensor) -> torch.Tensor:\n",
    "# #     ...\n",
    "\n",
    "\n",
    "# # def normalize(x: torch.Tensor | NDArray[np.number], **kwargs) -> NDArray[np.float32] | torch.Tensor:\n",
    "# #     return x - x.min(**kwargs) / (x.max(**kwargs) - x.min(**kwargs))  # type: ignore\n",
    "# # # def mesoscale(stp=STP, rate: float = 1.0) -> NDArray[np.float_]:\n",
    "# # #     return scale(np.log(stp)[::-1], rate=rate)\n",
    "\n",
    "\n",
    "# # normalize(\n",
    "# #     np.array([1, 3]),\n",
    "# # ), normalize(\n",
    "# #     torch.tensor([1, 3]),\n",
    "# )"
   ]
  }
 ],
 "metadata": {
  "kernelspec": {
   "display_name": ".venv",
   "language": "python",
   "name": "python3"
  },
  "language_info": {
   "codemirror_mode": {
    "name": "ipython",
    "version": 3
   },
   "file_extension": ".py",
   "mimetype": "text/x-python",
   "name": "python",
   "nbconvert_exporter": "python",
   "pygments_lexer": "ipython3",
   "version": "3.10.12"
  },
  "orig_nbformat": 4
 },
 "nbformat": 4,
 "nbformat_minor": 2
}
