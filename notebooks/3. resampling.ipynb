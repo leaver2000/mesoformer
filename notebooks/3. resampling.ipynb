{
 "cells": [
  {
   "cell_type": "code",
   "execution_count": 1,
   "metadata": {},
   "outputs": [
    {
     "data": {
      "text/html": [
       "\n",
       "                <script type=\"application/javascript\" id=\"jupyter_black\">\n",
       "                (function() {\n",
       "                    if (window.IPython === undefined) {\n",
       "                        return\n",
       "                    }\n",
       "                    var msg = \"WARNING: it looks like you might have loaded \" +\n",
       "                        \"jupyter_black in a non-lab notebook with \" +\n",
       "                        \"`is_lab=True`. Please double check, and if \" +\n",
       "                        \"loading with `%load_ext` please review the README!\"\n",
       "                    console.log(msg)\n",
       "                    alert(msg)\n",
       "                })()\n",
       "                </script>\n",
       "                "
      ],
      "text/plain": [
       "<IPython.core.display.HTML object>"
      ]
     },
     "metadata": {},
     "output_type": "display_data"
    }
   ],
   "source": [
    "%load_ext jupyter_black"
   ]
  },
  {
   "cell_type": "code",
   "execution_count": 2,
   "metadata": {},
   "outputs": [
    {
     "data": {
      "text/plain": [
       "p:\n",
       "[925.00 850.00\n",
       "      700.00 500.00\n",
       "      300.00] hPa\n",
       "dx:\n",
       "  [1504.23\n",
       "      1885.10\n",
       "      2338.60\n",
       "      2704.87\n",
       "      2956.21] km\n",
       "dy:[1316.20\n",
       "      1649.47\n",
       "      2046.27\n",
       "      2366.76\n",
       "      2586.68] km"
      ]
     },
     "execution_count": 2,
     "metadata": {},
     "output_type": "execute_result"
    }
   ],
   "source": [
    "from typing import Iterable\n",
    "import pandas as pd\n",
    "import numpy as np\n",
    "from numpy.typing import NDArray, ArrayLike\n",
    "import matplotlib.pyplot as plt\n",
    "\n",
    "\n",
    "# =============================================================================\n",
    "# TODO: these functions can be moved into a separate module\n",
    "def sort_unique(x: ArrayLike) -> NDArray[np.float_]:\n",
    "    return np.sort(np.unique(x))\n",
    "\n",
    "\n",
    "def normalize(x: NDArray[np.number], keepdims: bool = True) -> NDArray[np.float_]:\n",
    "    return (x - x.min(keepdims=keepdims)) / (x.max(keepdims=keepdims) - x.min(keepdims=keepdims))\n",
    "\n",
    "\n",
    "def scale(x: NDArray[np.number], rate: float = 1.0) -> NDArray[np.float_]:\n",
    "    return normalize(x) * rate + 1\n",
    "\n",
    "\n",
    "# =============================================================================\n",
    "P0 = 1013.25  # - mbar\n",
    "P1 = 25.0  # - mbar\n",
    "STP = sort_unique([P0, *range(1000, 25 - 1, -25), P1]).astype(np.float_)[::-1]\n",
    "ERA5_GRID_RESOLUTION = 30.0  # km / px\n",
    "RATE = ERA5_GRID_RESOLUTION / 2\n",
    "URMA_GRID_RESOLUTION = 2.5  # km / px\n",
    "\n",
    "MESOSCALE_BETA = 200.0  # km\n",
    "\n",
    "\n",
    "def mesoscale(rate: float = 1.0) -> NDArray[np.float_]:\n",
    "    return scale(np.log(STP), rate=rate)[::-1]\n",
    "\n",
    "\n",
    "class Mesoscale:\n",
    "    def __init__(\n",
    "        self,\n",
    "        dx: float = 200.0,\n",
    "        dy: float | None = None,\n",
    "        km_px: float = URMA_GRID_RESOLUTION,\n",
    "        *,\n",
    "        pressure: list[float],\n",
    "        rate: float = 1.0,\n",
    "    ) -> None:\n",
    "        self.p = p = sort_unique(pressure)[::-1]\n",
    "        self._scale = scale = mesoscale(rate=rate)[np.newaxis, np.isin(STP, p)]\n",
    "        self.dx, self.dy = scale * np.array([[dx], [dy or dx]])\n",
    "\n",
    "    def to_pandas(self) -> pd.DataFrame:\n",
    "        return pd.DataFrame(\n",
    "            {\n",
    "                \"dx\": self.dx,\n",
    "                \"dy\": self.dy,\n",
    "                \"px\": self.dx / URMA_GRID_RESOLUTION,\n",
    "                \"py\": self.dy / URMA_GRID_RESOLUTION,\n",
    "            },\n",
    "            index=pd.Index(self.p, name=\"hPa\"),\n",
    "        ).sort_index()\n",
    "\n",
    "    def __repr__(self) -> str:\n",
    "        f = lambda x: np.array2string(\n",
    "            x,\n",
    "            prefix=\"aaaaa\",\n",
    "            separator=\" \",\n",
    "            max_line_width=20,\n",
    "            precision=2,\n",
    "            floatmode=\"fixed\",\n",
    "        )\n",
    "        return f\"p:\\n{f(self.p)} hPa\\ndx:\\n  {f(self.dx)} km\\ndy:{f(self.dy)} km\"\n",
    "\n",
    "\n",
    "Mesoscale(200, 175, pressure=[925.0, 850.0, 700.0, 500.0, 300.0], rate=RATE)\n",
    "# .to_pandas()  # .loc[[925, 850, 700, 500, 300], :].sort_index()"
   ]
  },
  {
   "cell_type": "code",
   "execution_count": 63,
   "metadata": {},
   "outputs": [
    {
     "data": {
      "text/plain": [
       "(array([0.5, 2.5]), tensor([0.5000, 2.5000]))"
      ]
     },
     "execution_count": 63,
     "metadata": {},
     "output_type": "execute_result"
    }
   ],
   "source": [
    "import torch\n",
    "from collections.abc import Sequence\n",
    "from typing import Union, SupportsIndex, overload\n",
    "import torch\n",
    "\n",
    "_ShapeLike = Union[SupportsIndex, Sequence[SupportsIndex]]\n",
    "\n",
    "\n",
    "@overload\n",
    "def normalize(x: NDArray[np.number]) -> NDArray[np.float32]:\n",
    "    ...\n",
    "\n",
    "\n",
    "@overload\n",
    "def normalize(x: torch.Tensor) -> torch.Tensor:\n",
    "    ...\n",
    "\n",
    "\n",
    "def normalize(x: torch.Tensor | NDArray[np.number], **kwargs) -> NDArray[np.float32] | torch.Tensor:\n",
    "    return x - x.min(**kwargs) / (x.max(**kwargs) - x.min(**kwargs))  # type: ignore\n",
    "\n",
    "\n",
    "normalize(\n",
    "    np.array([1, 3]),\n",
    "), normalize(\n",
    "    torch.tensor([1, 3]),\n",
    ")"
   ]
  },
  {
   "cell_type": "code",
   "execution_count": 51,
   "metadata": {},
   "outputs": [
    {
     "data": {
      "text/plain": [
       "torch.return_types.min(\n",
       "values=tensor([1]),\n",
       "indices=tensor([0]))"
      ]
     },
     "execution_count": 51,
     "metadata": {},
     "output_type": "execute_result"
    }
   ],
   "source": [
    "torch.tensor([[1, 2, 3, 4, 5, 6, 7, 8, 9, 10]]).min(dim=-1)"
   ]
  },
  {
   "cell_type": "code",
   "execution_count": null,
   "metadata": {},
   "outputs": [],
   "source": []
  },
  {
   "cell_type": "code",
   "execution_count": null,
   "metadata": {},
   "outputs": [],
   "source": []
  }
 ],
 "metadata": {
  "kernelspec": {
   "display_name": ".venv",
   "language": "python",
   "name": "python3"
  },
  "language_info": {
   "codemirror_mode": {
    "name": "ipython",
    "version": 3
   },
   "file_extension": ".py",
   "mimetype": "text/x-python",
   "name": "python",
   "nbconvert_exporter": "python",
   "pygments_lexer": "ipython3",
   "version": "3.10.12"
  },
  "orig_nbformat": 4
 },
 "nbformat": 4,
 "nbformat_minor": 2
}
