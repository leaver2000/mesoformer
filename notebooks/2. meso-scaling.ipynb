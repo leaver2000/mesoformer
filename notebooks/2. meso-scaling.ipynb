{
 "cells": [
  {
   "cell_type": "code",
   "execution_count": 2,
   "metadata": {},
   "outputs": [
    {
     "data": {
      "text/html": [
       "\n",
       "                <script type=\"application/javascript\" id=\"jupyter_black\">\n",
       "                (function() {\n",
       "                    if (window.IPython === undefined) {\n",
       "                        return\n",
       "                    }\n",
       "                    var msg = \"WARNING: it looks like you might have loaded \" +\n",
       "                        \"jupyter_black in a non-lab notebook with \" +\n",
       "                        \"`is_lab=True`. Please double check, and if \" +\n",
       "                        \"loading with `%load_ext` please review the README!\"\n",
       "                    console.log(msg)\n",
       "                    alert(msg)\n",
       "                })()\n",
       "                </script>\n",
       "                "
      ],
      "text/plain": [
       "<IPython.core.display.HTML object>"
      ]
     },
     "metadata": {},
     "output_type": "display_data"
    }
   ],
   "source": [
    "%load_ext jupyter_black"
   ]
  },
  {
   "cell_type": "code",
   "execution_count": 3,
   "metadata": {},
   "outputs": [
    {
     "data": {
      "text/plain": [
       "array([1013.25, 1000.  ,  975.  ,  950.  ,  925.  ,  900.  ,  875.  ,\n",
       "        850.  ,  825.  ,  800.  ,  775.  ,  750.  ,  725.  ,  700.  ,\n",
       "        675.  ,  650.  ,  625.  ,  600.  ,  575.  ,  550.  ,  525.  ,\n",
       "        500.  ,  475.  ,  450.  ,  425.  ,  400.  ,  375.  ,  350.  ,\n",
       "        325.  ,  300.  ,  275.  ,  250.  ,  225.  ,  200.  ,  175.  ,\n",
       "        150.  ,  125.  ,  100.  ,   75.  ,   50.  ,   25.  ])"
      ]
     },
     "execution_count": 3,
     "metadata": {},
     "output_type": "execute_result"
    }
   ],
   "source": [
    "import pandas as pd\n",
    "import numpy as np\n",
    "from numpy.typing import NDArray\n",
    "import matplotlib.pyplot as plt\n",
    "\n",
    "\n",
    "# standard millibar pressure levels\n",
    "pressure_levels = np.array([1013.25, *range(1000, 25 - 11, -25)], dtype=float)\n",
    "pressure_levels"
   ]
  },
  {
   "cell_type": "code",
   "execution_count": 4,
   "metadata": {},
   "outputs": [
    {
     "data": {
      "text/plain": [
       "array([6.92091827, 6.90775528, 6.88243747, 6.85646198, 6.82979374,\n",
       "       6.80239476, 6.77422389, 6.74523635, 6.71538339, 6.68461173,\n",
       "       6.65286303, 6.62007321, 6.58617165, 6.55108034, 6.51471269,\n",
       "       6.47697236, 6.43775165, 6.39692966, 6.35437004, 6.30991828,\n",
       "       6.26339826, 6.2146081 , 6.1633148 , 6.10924758, 6.05208917,\n",
       "       5.99146455, 5.92692603, 5.85793315, 5.78382518, 5.70378247,\n",
       "       5.6167711 , 5.52146092, 5.4161004 , 5.29831737, 5.16478597,\n",
       "       5.01063529, 4.82831374, 4.60517019, 4.31748811, 3.91202301,\n",
       "       3.21887582])"
      ]
     },
     "execution_count": 4,
     "metadata": {},
     "output_type": "execute_result"
    }
   ],
   "source": [
    "logp = np.log(pressure_levels)\n",
    "logp"
   ]
  },
  {
   "cell_type": "code",
   "execution_count": 5,
   "metadata": {},
   "outputs": [
    {
     "data": {
      "text/plain": [
       "array([6.92091827, 0.        ])"
      ]
     },
     "execution_count": 5,
     "metadata": {},
     "output_type": "execute_result"
    }
   ],
   "source": [
    "np.log([1013.25, 1])"
   ]
  },
  {
   "cell_type": "code",
   "execution_count": 6,
   "metadata": {},
   "outputs": [
    {
     "data": {
      "text/plain": [
       "array([1.        , 0.9964444 , 0.98960552, 0.98258899, 0.97538534,\n",
       "       0.96798429, 0.96037474, 0.9525446 , 0.94448068, 0.9361686 ,\n",
       "       0.92759261, 0.91873538, 0.90957786, 0.90009895, 0.89027528,\n",
       "       0.88008082, 0.86948647, 0.85845959, 0.84696334, 0.83495597,\n",
       "       0.82238993, 0.80921068, 0.79535527, 0.78075057, 0.76531088,\n",
       "       0.74893488, 0.73150166, 0.71286523, 0.6928471 , 0.67122587,\n",
       "       0.64772225, 0.62197696, 0.59351685, 0.56170116, 0.52563151,\n",
       "       0.48399215, 0.43474324, 0.37446744, 0.29675843, 0.18723372,\n",
       "       0.        ])"
      ]
     },
     "execution_count": 6,
     "metadata": {},
     "output_type": "execute_result"
    }
   ],
   "source": [
    "def normalize(x: NDArray[np.number], keepdims: bool = True) -> NDArray[np.float_]:\n",
    "    return (x - x.min(keepdims=keepdims)) / (x.max(keepdims=keepdims) - x.min(keepdims=keepdims))\n",
    "\n",
    "\n",
    "norm = normalize(logp)\n",
    "norm"
   ]
  },
  {
   "cell_type": "code",
   "execution_count": 7,
   "metadata": {},
   "outputs": [
    {
     "data": {
      "text/plain": [
       "array([2.        , 1.9964444 , 1.98960552, 1.98258899, 1.97538534,\n",
       "       1.96798429, 1.96037474, 1.9525446 , 1.94448068, 1.9361686 ,\n",
       "       1.92759261, 1.91873538, 1.90957786, 1.90009895, 1.89027528,\n",
       "       1.88008082, 1.86948647, 1.85845959, 1.84696334, 1.83495597,\n",
       "       1.82238993, 1.80921068, 1.79535527, 1.78075057, 1.76531088,\n",
       "       1.74893488, 1.73150166, 1.71286523, 1.6928471 , 1.67122587,\n",
       "       1.64772225, 1.62197696, 1.59351685, 1.56170116, 1.52563151,\n",
       "       1.48399215, 1.43474324, 1.37446744, 1.29675843, 1.18723372,\n",
       "       1.        ])"
      ]
     },
     "execution_count": 7,
     "metadata": {},
     "output_type": "execute_result"
    }
   ],
   "source": [
    "def scale(x: NDArray[np.number], rate: float = 1.0) -> NDArray[np.float_]:\n",
    "    return normalize(x) * rate + 1\n",
    "\n",
    "\n",
    "scale(np.log(pressure_levels))"
   ]
  },
  {
   "cell_type": "code",
   "execution_count": 8,
   "metadata": {},
   "outputs": [],
   "source": [
    "def create_scale(p, rate: float = 1.0) -> NDArray[np.float_]:\n",
    "    s = scale(np.log(pressure_levels), rate=rate)[::-1]\n",
    "    return s[np.isin(pressure_levels, p)]\n",
    "\n",
    "\n",
    "lvls = [1013.25, 925, 850, 700, 500, 300]\n",
    "x = np.c_[lvls, create_scale(lvls, 2.5) * 30]\n",
    "x = np.stack([lvls, create_scale(lvls, 2.5) * 30], axis=1)"
   ]
  },
  {
   "cell_type": "code",
   "execution_count": 15,
   "metadata": {},
   "outputs": [
    {
     "data": {
      "text/html": [
       "<div>\n",
       "<style scoped>\n",
       "    .dataframe tbody tr th:only-of-type {\n",
       "        vertical-align: middle;\n",
       "    }\n",
       "\n",
       "    .dataframe tbody tr th {\n",
       "        vertical-align: top;\n",
       "    }\n",
       "\n",
       "    .dataframe thead th {\n",
       "        text-align: right;\n",
       "    }\n",
       "</style>\n",
       "<table border=\"1\" class=\"dataframe\">\n",
       "  <thead>\n",
       "    <tr style=\"text-align: right;\">\n",
       "      <th></th>\n",
       "      <th>resolution</th>\n",
       "      <th>extent</th>\n",
       "    </tr>\n",
       "    <tr>\n",
       "      <th>hPa</th>\n",
       "      <th></th>\n",
       "      <th></th>\n",
       "    </tr>\n",
       "  </thead>\n",
       "  <tbody>\n",
       "    <tr>\n",
       "      <th>300.0</th>\n",
       "      <td>36.952577</td>\n",
       "      <td>2956.206151</td>\n",
       "    </tr>\n",
       "    <tr>\n",
       "      <th>500.0</th>\n",
       "      <td>33.810849</td>\n",
       "      <td>2704.867923</td>\n",
       "    </tr>\n",
       "    <tr>\n",
       "      <th>700.0</th>\n",
       "      <td>29.232446</td>\n",
       "      <td>2338.595685</td>\n",
       "    </tr>\n",
       "    <tr>\n",
       "      <th>850.0</th>\n",
       "      <td>23.563794</td>\n",
       "      <td>1885.103487</td>\n",
       "    </tr>\n",
       "    <tr>\n",
       "      <th>1000.0</th>\n",
       "      <td>9.521265</td>\n",
       "      <td>761.701162</td>\n",
       "    </tr>\n",
       "  </tbody>\n",
       "</table>\n",
       "</div>"
      ],
      "text/plain": [
       "        resolution       extent\n",
       "hPa                            \n",
       "300.0    36.952577  2956.206151\n",
       "500.0    33.810849  2704.867923\n",
       "700.0    29.232446  2338.595685\n",
       "850.0    23.563794  1885.103487\n",
       "1000.0    9.521265   761.701162"
      ]
     },
     "execution_count": 15,
     "metadata": {},
     "output_type": "execute_result"
    },
    {
     "data": {
      "image/png": "[encoded data removed]",
      "text/plain": [
       "<Figure size 1200x600 with 2 Axes>"
      ]
     },
     "metadata": {},
     "output_type": "display_data"
    }
   ],
   "source": [
    "URMA_GRID_RESOLUTION = 2.5  # km / px\n",
    "ERA5_GRID_RESOLUTION = 30.0  # km / px\n",
    "MESOSCALE_BETA = 200.0  # km\n",
    "RATE = ERA5_GRID_RESOLUTION / 2\n",
    "\n",
    "resolution = scale(np.log(pressure_levels), rate=RATE)[::-1] * URMA_GRID_RESOLUTION\n",
    "extent = scale(np.log(pressure_levels), rate=RATE)[::-1] * MESOSCALE_BETA\n",
    "\n",
    "fig, (ax1, ax2) = plt.subplots(1, 2, figsize=(12, 6))\n",
    "\n",
    "ax1.invert_yaxis()\n",
    "ax2.invert_yaxis()\n",
    "Y = pressure_levels\n",
    "\n",
    "\n",
    "ax1.plot(resolution, Y, linestyle=\"-\", linewidth=0.75, marker=\".\")\n",
    "ax1.set_title(\"resolution\")\n",
    "\n",
    "\n",
    "ax2.plot(extent, Y, linestyle=\"-\", linewidth=0.75, marker=\".\")\n",
    "ax2.set_title(\"extent\")\n",
    "\n",
    "\n",
    "df = pd.DataFrame({\"resolution\": resolution, \"extent\": extent}, index=pd.Index(pressure_levels, name=\"hPa\"))\n",
    "df.loc[[1000, 850, 700, 500, 300]].sort_index()"
   ]
  },
  {
   "cell_type": "code",
   "execution_count": 10,
   "metadata": {},
   "outputs": [
    {
     "data": {
      "text/plain": [
       "(array([ 200.        ,  761.70116227, 1090.27527881, 1323.40232454,\n",
       "        1504.22970961, 1651.97644108, 1776.89452262, 1885.10348681,\n",
       "        1980.55055762, 2065.93087188, 2143.16676098, 2213.67760335,\n",
       "        2278.54129059, 2338.59568489, 2394.50498841, 2446.80464908,\n",
       "        2495.93262867, 2542.25171989, 2586.06582154, 2627.63203414,\n",
       "        2667.16980143, 2704.86792325, 2740.89000832, 2775.37876562,\n",
       "        2808.45941921, 2840.24245286, 2870.82583643, 2900.29684716,\n",
       "        2928.73357125, 2956.20615068, 2982.77782566, 3008.50581135,\n",
       "        3033.44203979, 3057.63379093, 3081.12423223, 3103.95288216,\n",
       "        3126.15601026, 3147.76698381, 3168.8165694 , 3189.33319641,\n",
       "        3200.        ]),\n",
       " array([ 175.        ,  666.48851699,  953.99086896, 1157.97703397,\n",
       "        1316.2009959 , 1445.47938594, 1554.7827073 , 1649.46555096,\n",
       "        1732.98173792, 1807.68951289, 1875.27091586, 1936.96790293,\n",
       "        1993.72362927, 2046.27122428, 2095.19186486, 2140.95406794,\n",
       "        2183.94105008, 2224.4702549 , 2262.80759385, 2299.17802988,\n",
       "        2333.77357625, 2366.75943284, 2398.27875728, 2428.45641992,\n",
       "        2457.40199181, 2485.21214625, 2511.97260687, 2537.75974127,\n",
       "        2562.64187484, 2586.68038185, 2609.93059745, 2632.44258493,\n",
       "        2654.26178482, 2675.42956707, 2695.9837032 , 2715.95877189,\n",
       "        2735.38650898, 2754.29611083, 2772.71449822, 2790.66654686,\n",
       "        2800.        ]))"
      ]
     },
     "execution_count": 10,
     "metadata": {},
     "output_type": "execute_result"
    }
   ],
   "source": [
    "xd, yd = 200, 175\n",
    "s = scale(np.log(pressure_levels), rate=RATE)[np.newaxis, ::-1]\n",
    "x, y = s * np.array([[xd], [yd]])\n",
    "x, y"
   ]
  },
  {
   "cell_type": "code",
   "execution_count": 11,
   "metadata": {},
   "outputs": [
    {
     "data": {
      "text/plain": [
       "array([1013.25, 1000.  ,  975.  ,  950.  ,  925.  ,  900.  ,  875.  ,\n",
       "        850.  ,  825.  ,  800.  ,  775.  ,  750.  ,  725.  ,  700.  ,\n",
       "        675.  ,  650.  ,  625.  ,  600.  ,  575.  ,  550.  ,  525.  ,\n",
       "        500.  ,  475.  ,  450.  ,  425.  ,  400.  ,  375.  ,  350.  ,\n",
       "        325.  ,  300.  ,  275.  ,  250.  ,  225.  ,  200.  ,  175.  ,\n",
       "        150.  ,  125.  ,  100.  ,   75.  ,   50.  ,   25.  ])"
      ]
     },
     "execution_count": 11,
     "metadata": {},
     "output_type": "execute_result"
    }
   ],
   "source": [
    "pressure_levels"
   ]
  },
  {
   "cell_type": "code",
   "execution_count": 12,
   "metadata": {},
   "outputs": [
    {
     "data": {
      "text/plain": [
       "(array([ 200.        ,  761.70116227, 1323.40232454, 1651.97644108,\n",
       "        1885.10348681, 2065.93087188, 2213.67760335, 2338.59568489,\n",
       "        2446.80464908, 2542.25171989, 2627.63203414, 2704.86792325,\n",
       "        2775.37876562, 2840.24245286, 2900.29684716, 2956.20615068,\n",
       "        3008.50581135, 3057.63379093, 3103.95288216, 3147.76698381,\n",
       "        3189.33319641, 3200.        ]),\n",
       " array([ 175.        ,  666.48851699, 1157.97703397, 1445.47938594,\n",
       "        1649.46555096, 1807.68951289, 1936.96790293, 2046.27122428,\n",
       "        2140.95406794, 2224.4702549 , 2299.17802988, 2366.75943284,\n",
       "        2428.45641992, 2485.21214625, 2537.75974127, 2586.68038185,\n",
       "        2632.44258493, 2675.42956707, 2715.95877189, 2754.29611083,\n",
       "        2790.66654686, 2800.        ]))"
      ]
     },
     "execution_count": 12,
     "metadata": {},
     "output_type": "execute_result"
    }
   ],
   "source": [
    "from typing import Iterable\n",
    "\n",
    "P0 = 1013.25\n",
    "\n",
    "\n",
    "def scale(x: NDArray[np.number], rate: float = 1.0) -> NDArray[np.float_]:\n",
    "    return normalize(x) * rate + 1\n",
    "\n",
    "\n",
    "def inverse_log_scale(p: Iterable[float], *, rate: float = 1.0):\n",
    "    p = np.array(sorted({P0, *p, 25.0}, reverse=True), dtype=float)\n",
    "    p = scale(np.log(p), rate=rate)[np.newaxis, ::-1]\n",
    "    return p\n",
    "\n",
    "\n",
    "def mesoscale(\n",
    "    dx: float = 200.0, dy: float | None = None, p: Iterable[float] | None = None, *, rate: float = 1.0\n",
    ") -> tuple[NDArray[np.float_], NDArray[np.float_]]:\n",
    "    p = p or range(1000, 25 - 1, -50)\n",
    "    if dy is None:\n",
    "        dy = dx\n",
    "    x, y = inverse_log_scale(p, rate=rate) * np.array([[dx], [dy]])\n",
    "    return x, y\n",
    "\n",
    "\n",
    "x, y = mesoscale(200, 175, rate=RATE)\n",
    "\n",
    "\n",
    "x, y"
   ]
  },
  {
   "cell_type": "code",
   "execution_count": 13,
   "metadata": {},
   "outputs": [],
   "source": [
    "class Mesoscale:\n",
    "    def __init__(\n",
    "        self,\n",
    "        dx: float = 200.0,\n",
    "        dy: float | None = None,\n",
    "        km_px: float = URMA_GRID_RESOLUTION,\n",
    "        *,\n",
    "        pressure: list[float],\n",
    "        rate: float = 1.0,\n",
    "    ) -> None:\n",
    "        self.p = p = sort_unique(pressure)[::-1]\n",
    "        self._scale = scale = mesoscale(rate=rate)[np.newaxis, np.isin(STP, p)]\n",
    "        self.dx, self.dy = scale * np.array([[dx], [dy or dx]])\n",
    "\n",
    "    def to_pandas(self) -> pd.DataFrame:\n",
    "        return pd.DataFrame(\n",
    "            {\n",
    "                \"dx\": self.dx,\n",
    "                \"dy\": self.dy,\n",
    "                \"px\": self.dx / URMA_GRID_RESOLUTION,\n",
    "                \"py\": self.dy / URMA_GRID_RESOLUTION,\n",
    "            },\n",
    "            index=pd.Index(self.p, name=\"hPa\"),\n",
    "        ).sort_index()\n",
    "\n",
    "    def __repr__(self) -> str:\n",
    "        f = lambda x: np.array2string(\n",
    "            x,\n",
    "            prefix=\"aaaaa\",\n",
    "            separator=\" \",\n",
    "            max_line_width=20,\n",
    "            precision=2,\n",
    "            floatmode=\"fixed\",\n",
    "        )\n",
    "        return f\"p:\\n{f(self.p)} hPa\\ndx:\\n  {f(self.dx)} km\\ndy:{f(self.dy)} km\""
   ]
  }
 ],
 "metadata": {
  "kernelspec": {
   "display_name": ".venv",
   "language": "python",
   "name": "python3"
  },
  "language_info": {
   "codemirror_mode": {
    "name": "ipython",
    "version": 3
   },
   "file_extension": ".py",
   "mimetype": "text/x-python",
   "name": "python",
   "nbconvert_exporter": "python",
   "pygments_lexer": "ipython3",
   "version": "3.10.12"
  },
  "orig_nbformat": 4
 },
 "nbformat": 4,
 "nbformat_minor": 2
}
