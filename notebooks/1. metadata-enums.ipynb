{
  "cells": [
    {
      "cell_type": "code",
      "execution_count": 1,
      "metadata": {},
      "outputs": [
        {
          "data": {
            "text/html": [
              "\n",
              "                <script type=\"application/javascript\" id=\"jupyter_black\">\n",
              "                (function() {\n",
              "                    if (window.IPython === undefined) {\n",
              "                        return\n",
              "                    }\n",
              "                    var msg = \"WARNING: it looks like you might have loaded \" +\n",
              "                        \"jupyter_black in a non-lab notebook with \" +\n",
              "                        \"`is_lab=True`. Please double check, and if \" +\n",
              "                        \"loading with `%load_ext` please review the README!\"\n",
              "                    console.log(msg)\n",
              "                    alert(msg)\n",
              "                })()\n",
              "                </script>\n",
              "                "
            ],
            "text/plain": [
              "<IPython.core.display.HTML object>"
            ]
          },
          "metadata": {},
          "output_type": "display_data"
        }
      ],
      "source": [
        "%load_ext jupyter_black\n",
        "%load_ext autoreload\n",
        "%autoreload 2\n",
        "\n",
        "from typing import Any\n",
        "import pyproj\n",
        "\n",
        "from mesoscaler.enums import ERA5, URMA, Coordinates, Dimensions, IndependentVariables, DependentVariables\n",
        "\n",
        "\n"
      ]
    },
    {
      "cell_type": "markdown",
      "metadata": {},
      "source": [
        "# Coordinates and Dimensions (Independent Variables)"
      ]
    },
    {
      "cell_type": "code",
      "execution_count": 2,
      "metadata": {},
      "outputs": [
        {
          "name": "stdout",
          "output_type": "stream",
          "text": [
            "Coordinates\n",
            "      time: time\n",
            "  vertical: vertical\n",
            "  latitude: latitude\n",
            " longitude: longitude\n",
            "Dimensions\n",
            " T: T\n",
            " Z: Z\n",
            " Y: Y\n",
            " X: X\n"
          ]
        }
      ],
      "source": [
        "print(\n",
        "    Coordinates,\n",
        "    Dimensions,\n",
        "    sep=\"\\n\",\n",
        ")\n",
        "assert Coordinates(\"level\") == Coordinates.vertical == Coordinates(\"height\") == \"vertical\"\n",
        "assert Coordinates.vertical.axis == (Dimensions.Z,)\n",
        "assert all(issubclass(x, IndependentVariables) for x in (Coordinates, Dimensions))"
      ]
    },
    {
      "cell_type": "markdown",
      "metadata": {},
      "source": [
        "# ERA5 and URMA (Dependent Variables)"
      ]
    },
    {
      "cell_type": "code",
      "execution_count": 3,
      "metadata": {},
      "outputs": [
        {
          "name": "stdout",
          "output_type": "stream",
          "text": [
            "ERA5\n",
            " Z: geopotential\n",
            " Q: specific_humidity\n",
            " T: temperature\n",
            " U: u_component_of_wind\n",
            " V: v_component_of_wind\n",
            " W: vertical_velocity\n",
            "URMA\n",
            "    TCC: total_cloud_cover\n",
            "   CEIL: ceiling\n",
            "    U10: u_wind_component_10m\n",
            "    V10: v_wind_component_10m\n",
            "   SI10: wind_speed_10m\n",
            "   GUST: wind_speed_gust\n",
            " WDIR10: wind_direction_10m\n",
            "    T2M: temperature_2m\n",
            "    D2M: dewpoint_temperature_2m\n",
            "    SH2: specific_humidity_2m\n",
            "     SP: surface_pressure\n",
            "    VIS: visibility\n",
            "   OROG: orography\n"
          ]
        }
      ],
      "source": [
        "print(ERA5, URMA, sep=\"\\n\")\n",
        "assert ERA5(\"Z\") is ERA5(\"z\") is ERA5.Z is ERA5(\"geopotential\") and ERA5.Z == \"geopotential\"\n",
        "assert ERA5(\"z\") is ERA5.Z\n",
        "assert ERA5(\"z\") == ERA5.Z\n",
        "assert (\n",
        "    ERA5(\"u\") is ERA5[\"U\"] is ERA5.loc[\"U\"] is ERA5.U is ERA5(\"u_component_of_wind\")\n",
        "    and ERA5.U == \"u_component_of_wind\"\n",
        ")\n",
        "\n",
        "assert set(ERA5).difference(ERA5([\"u\", \"v\"])) == ERA5.difference([\"u\", \"v\"]) == {ERA5.Q, ERA5.T, ERA5.W, ERA5.Z}\n",
        "assert set(ERA5).intersection(ERA5([\"u\", \"v\"])) == ERA5.intersection([\"u\", \"v\"]) == {ERA5.U, ERA5.V}\n",
        "assert all(issubclass(x, DependentVariables) for x in (ERA5, ERA5))"
      ]
    },
    {
      "cell_type": "code",
      "execution_count": 4,
      "metadata": {},
      "outputs": [
        {
          "data": {
            "text/plain": [
              "{u_component_of_wind, v_component_of_wind}"
            ]
          },
          "execution_count": 4,
          "metadata": {},
          "output_type": "execute_result"
        }
      ],
      "source": [
        "ERA5.intersection([\"u\", \"v\"])"
      ]
    },
    {
      "cell_type": "code",
      "execution_count": 5,
      "metadata": {},
      "outputs": [
        {
          "name": "stdout",
          "output_type": "stream",
          "text": [
            "{'crs': <Geographic 2D CRS: EPSG:4326>\n",
            "Name: WGS 84\n",
            "Axis Info [ellipsoidal]:\n",
            "- Lat[north]: Geodetic latitude (degree)\n",
            "- Lon[east]: Geodetic longitude (degree)\n",
            "Area of Use:\n",
            "- name: World.\n",
            "- bounds: (-180.0, -90.0, 180.0, 90.0)\n",
            "Datum: World Geodetic System 1984 ensemble\n",
            "- Ellipsoid: WGS 84\n",
            "- Prime Meridian: Greenwich\n",
            "}\n"
          ]
        }
      ],
      "source": [
        "# the crs is loaded lazily\n",
        "assert \"crs\" not in ERA5.metadata\n",
        "assert isinstance(ERA5.crs, pyproj.CRS)\n",
        "assert \"crs\" in ERA5.metadata\n",
        "\n",
        "print(ERA5.metadata, sep=\"\\n\")"
      ]
    },
    {
      "cell_type": "code",
      "execution_count": 6,
      "metadata": {},
      "outputs": [
        {
          "name": "stdout",
          "output_type": "stream",
          "text": [
            "{'crs': <Geographic 2D CRS: EPSG:4326>\n",
            "Name: WGS 84\n",
            "Axis Info [ellipsoidal]:\n",
            "- Lat[north]: Geodetic latitude (degree)\n",
            "- Lon[east]: Geodetic longitude (degree)\n",
            "Area of Use:\n",
            "- name: World.\n",
            "- bounds: (-180.0, -90.0, 180.0, 90.0)\n",
            "Datum: World Geodetic System 1984 ensemble\n",
            "- Ellipsoid: WGS 84\n",
            "- Prime Meridian: Greenwich\n",
            "}\n",
            "{'units': 'm**2 s**-2'}\n",
            "{'name': 'ERA5', '__mesometa_cls_data__': {'crs': <Geographic 2D CRS: EPSG:4326>\n",
            "Name: WGS 84\n",
            "Axis Info [ellipsoidal]:\n",
            "- Lat[north]: Geodetic latitude (degree)\n",
            "- Lon[east]: Geodetic longitude (degree)\n",
            "Area of Use:\n",
            "- name: World.\n",
            "- bounds: (-180.0, -90.0, 180.0, 90.0)\n",
            "Datum: World Geodetic System 1984 ensemble\n",
            "- Ellipsoid: WGS 84\n",
            "- Prime Meridian: Greenwich\n",
            "}, '__mesometa_member_data__': mappingproxy(defaultdict(<class 'dict'>, {'Z': {'units': 'm**2 s**-2'}, 'Q': {'units': 'kg kg**-1'}, 'T': {'units': 'K'}, 'U': {'units': 'm s**-1'}, 'V': {'units': 'm s**-1'}, 'W': {'units': 'Pa s**-1'}})), '__mesometa_member_aliases__':    Z  Q  T  U  V  W\n",
            "0  z  q  t  u  v  w, '__mesometa_series__': member_names\n",
            "Z           geopotential\n",
            "Q      specific_humidity\n",
            "T            temperature\n",
            "U    u_component_of_wind\n",
            "V    v_component_of_wind\n",
            "W      vertical_velocity\n",
            "Name: ERA5, dtype: category\n",
            "Categories (6, object): ['geopotential', 'specific_humidity', 'temperature', 'u_component_of_wind', 'v_component_of_wind', 'vertical_velocity'], '__mesometa_loc__': <mesoscaler.generic.Loc object at 0x7f2743f76440>}\n"
          ]
        }
      ],
      "source": [
        "print(\n",
        "    ERA5.metadata,\n",
        "    ERA5.Z.metadata,\n",
        "    ERA5.__metadata__,\n",
        "    sep=\"\\n\",\n",
        ")"
      ]
    },
    {
      "cell_type": "code",
      "execution_count": 7,
      "metadata": {},
      "outputs": [
        {
          "ename": "ArrowInvalid",
          "evalue": "Could not convert <str_iterator object at 0x7f2620343e80> with type str_iterator: did not recognize Python value type when inferring an Arrow data type",
          "output_type": "error",
          "traceback": [
            "\u001b[0;31m---------------------------------------------------------------------------\u001b[0m",
            "\u001b[0;31mArrowInvalid\u001b[0m                              Traceback (most recent call last)",
            "\u001b[1;32m/home/leaver/mesoformer/notebooks/1. metadata-enums.ipynb Cell 9\u001b[0m line \u001b[0;36m2\n\u001b[1;32m      <a href='vscode-notebook-cell://wsl%2Bubuntu-22.04/home/leaver/mesoformer/notebooks/1.%20metadata-enums.ipynb#X11sdnNjb2RlLXJlbW90ZQ%3D%3D?line=0'>1</a>\u001b[0m \u001b[39mprint\u001b[39m(\n\u001b[0;32m----> <a href='vscode-notebook-cell://wsl%2Bubuntu-22.04/home/leaver/mesoformer/notebooks/1.%20metadata-enums.ipynb#X11sdnNjb2RlLXJlbW90ZQ%3D%3D?line=1'>2</a>\u001b[0m     ERA5\u001b[39m.\u001b[39;49mdifference(\u001b[39miter\u001b[39;49m(\u001b[39m\"\u001b[39;49m\u001b[39mtuv\u001b[39;49m\u001b[39m\"\u001b[39;49m)),\n\u001b[1;32m      <a href='vscode-notebook-cell://wsl%2Bubuntu-22.04/home/leaver/mesoformer/notebooks/1.%20metadata-enums.ipynb#X11sdnNjb2RlLXJlbW90ZQ%3D%3D?line=2'>3</a>\u001b[0m     ERA5\u001b[39m.\u001b[39mdifference(ERA5(\u001b[39mlist\u001b[39m(\u001b[39m\"\u001b[39m\u001b[39mtuv\u001b[39m\u001b[39m\"\u001b[39m))),\n\u001b[1;32m      <a href='vscode-notebook-cell://wsl%2Bubuntu-22.04/home/leaver/mesoformer/notebooks/1.%20metadata-enums.ipynb#X11sdnNjb2RlLXJlbW90ZQ%3D%3D?line=3'>4</a>\u001b[0m     ERA5(\u001b[39mlist\u001b[39m(\u001b[39m\"\u001b[39m\u001b[39mtuv\u001b[39m\u001b[39m\"\u001b[39m)),\n\u001b[1;32m      <a href='vscode-notebook-cell://wsl%2Bubuntu-22.04/home/leaver/mesoformer/notebooks/1.%20metadata-enums.ipynb#X11sdnNjb2RlLXJlbW90ZQ%3D%3D?line=4'>5</a>\u001b[0m     sep\u001b[39m=\u001b[39m\u001b[39m\"\u001b[39m\u001b[39m\\n\u001b[39;00m\u001b[39m\"\u001b[39m,\n\u001b[1;32m      <a href='vscode-notebook-cell://wsl%2Bubuntu-22.04/home/leaver/mesoformer/notebooks/1.%20metadata-enums.ipynb#X11sdnNjb2RlLXJlbW90ZQ%3D%3D?line=5'>6</a>\u001b[0m )\n",
            "File \u001b[0;32m~/mesoformer/.venv/lib/python3.10/site-packages/mesoscaler/_metadata.py:231\u001b[0m, in \u001b[0;36m_EnumMetaCls.difference\u001b[0;34m(cls, item)\u001b[0m\n\u001b[1;32m    230\u001b[0m \u001b[39mdef\u001b[39;00m \u001b[39mdifference\u001b[39m(\u001b[39mcls\u001b[39m, item: _Item \u001b[39m|\u001b[39m Iterable[_Item], \u001b[39m/\u001b[39m) \u001b[39m-\u001b[39m\u001b[39m>\u001b[39m \u001b[39mset\u001b[39m[Any]:\n\u001b[0;32m--> 231\u001b[0m     \u001b[39mreturn\u001b[39;00m \u001b[39mset\u001b[39m(\u001b[39mcls\u001b[39m)\u001b[39m.\u001b[39mdifference(\u001b[39mcls\u001b[39;49m(item))\n",
            "File \u001b[0;32m~/mesoformer/.venv/lib/python3.10/site-packages/mesoscaler/_metadata.py:210\u001b[0m, in \u001b[0;36m_EnumMetaCls.__call__\u001b[0;34m(cls, item)\u001b[0m\n\u001b[1;32m    208\u001b[0m \u001b[39mif\u001b[39;00m is_scalar(item):\n\u001b[1;32m    209\u001b[0m     \u001b[39mreturn\u001b[39;00m \u001b[39mcls\u001b[39m\u001b[39m.\u001b[39m_scalar_lookup(item)\n\u001b[0;32m--> 210\u001b[0m \u001b[39mreturn\u001b[39;00m \u001b[39mcls\u001b[39m\u001b[39m.\u001b[39mloc[\u001b[39mcls\u001b[39;49m\u001b[39m.\u001b[39;49mis_in(item)]\n",
            "File \u001b[0;32m~/mesoformer/.venv/lib/python3.10/site-packages/mesoscaler/_metadata.py:228\u001b[0m, in \u001b[0;36m_EnumMetaCls.is_in\u001b[0;34m(cls, item)\u001b[0m\n\u001b[1;32m    224\u001b[0m \u001b[39mdef\u001b[39;00m \u001b[39mis_in\u001b[39m(\u001b[39mcls\u001b[39m, item: _Item \u001b[39m|\u001b[39m Iterable[_Item], \u001b[39m/\u001b[39m) \u001b[39m-\u001b[39m\u001b[39m>\u001b[39m pd\u001b[39m.\u001b[39mSeries[\u001b[39mbool\u001b[39m]:\n\u001b[1;32m    225\u001b[0m     \u001b[39m# if the child enum is a tuple we dont want to iter item\u001b[39;00m\n\u001b[1;32m    226\u001b[0m     item \u001b[39m=\u001b[39m \u001b[39mlist\u001b[39m([item] \u001b[39mif\u001b[39;00m \u001b[39mtype\u001b[39m(item) \u001b[39min\u001b[39;00m \u001b[39mcls\u001b[39m\u001b[39m.\u001b[39mmro() \u001b[39mor\u001b[39;00m \u001b[39misinstance\u001b[39m(item, Hashable) \u001b[39melse\u001b[39;00m item)  \u001b[39m# type:ignore\u001b[39;00m\n\u001b[0;32m--> 228\u001b[0m     \u001b[39mreturn\u001b[39;00m \u001b[39mcls\u001b[39m\u001b[39m.\u001b[39m_series\u001b[39m.\u001b[39misin(item) \u001b[39m|\u001b[39m \u001b[39mcls\u001b[39;49m\u001b[39m.\u001b[39;49m_names\u001b[39m.\u001b[39;49misin(item) \u001b[39m|\u001b[39m \u001b[39mcls\u001b[39m\u001b[39m.\u001b[39m_aliases\u001b[39m.\u001b[39misin(item)\u001b[39m.\u001b[39many(axis\u001b[39m=\u001b[39m\u001b[39m0\u001b[39m, skipna\u001b[39m=\u001b[39m\u001b[39mTrue\u001b[39;00m)\n",
            "File \u001b[0;32m~/mesoformer/.venv/lib/python3.10/site-packages/pandas/core/indexes/base.py:6550\u001b[0m, in \u001b[0;36mIndex.isin\u001b[0;34m(self, values, level)\u001b[0m\n\u001b[1;32m   6548\u001b[0m \u001b[39mif\u001b[39;00m level \u001b[39mis\u001b[39;00m \u001b[39mnot\u001b[39;00m \u001b[39mNone\u001b[39;00m:\n\u001b[1;32m   6549\u001b[0m     \u001b[39mself\u001b[39m\u001b[39m.\u001b[39m_validate_index_level(level)\n\u001b[0;32m-> 6550\u001b[0m \u001b[39mreturn\u001b[39;00m algos\u001b[39m.\u001b[39;49misin(\u001b[39mself\u001b[39;49m\u001b[39m.\u001b[39;49m_values, values)\n",
            "File \u001b[0;32m~/mesoformer/.venv/lib/python3.10/site-packages/pandas/core/algorithms.py:505\u001b[0m, in \u001b[0;36misin\u001b[0;34m(comps, values)\u001b[0m\n\u001b[1;32m    502\u001b[0m comps_array \u001b[39m=\u001b[39m extract_array(comps_array, extract_numpy\u001b[39m=\u001b[39m\u001b[39mTrue\u001b[39;00m)\n\u001b[1;32m    503\u001b[0m \u001b[39mif\u001b[39;00m \u001b[39mnot\u001b[39;00m \u001b[39misinstance\u001b[39m(comps_array, np\u001b[39m.\u001b[39mndarray):\n\u001b[1;32m    504\u001b[0m     \u001b[39m# i.e. Extension Array\u001b[39;00m\n\u001b[0;32m--> 505\u001b[0m     \u001b[39mreturn\u001b[39;00m comps_array\u001b[39m.\u001b[39;49misin(values)\n\u001b[1;32m    507\u001b[0m \u001b[39melif\u001b[39;00m needs_i8_conversion(comps_array\u001b[39m.\u001b[39mdtype):\n\u001b[1;32m    508\u001b[0m     \u001b[39m# Dispatch to DatetimeLikeArrayMixin.isin\u001b[39;00m\n\u001b[1;32m    509\u001b[0m     \u001b[39mreturn\u001b[39;00m pd_array(comps_array)\u001b[39m.\u001b[39misin(values)\n",
            "File \u001b[0;32m~/mesoformer/.venv/lib/python3.10/site-packages/pandas/core/arrays/string_arrow.py:209\u001b[0m, in \u001b[0;36mArrowStringArray.isin\u001b[0;34m(self, values)\u001b[0m\n\u001b[1;32m    206\u001b[0m \u001b[39mdef\u001b[39;00m \u001b[39misin\u001b[39m(\u001b[39mself\u001b[39m, values) \u001b[39m-\u001b[39m\u001b[39m>\u001b[39m npt\u001b[39m.\u001b[39mNDArray[np\u001b[39m.\u001b[39mbool_]:\n\u001b[1;32m    207\u001b[0m     value_set \u001b[39m=\u001b[39m [\n\u001b[1;32m    208\u001b[0m         pa_scalar\u001b[39m.\u001b[39mas_py()\n\u001b[0;32m--> 209\u001b[0m         \u001b[39mfor\u001b[39;00m pa_scalar \u001b[39min\u001b[39;00m [pa\u001b[39m.\u001b[39mscalar(value, from_pandas\u001b[39m=\u001b[39m\u001b[39mTrue\u001b[39;00m) \u001b[39mfor\u001b[39;00m value \u001b[39min\u001b[39;00m values]\n\u001b[1;32m    210\u001b[0m         \u001b[39mif\u001b[39;00m pa_scalar\u001b[39m.\u001b[39mtype \u001b[39min\u001b[39;00m (pa\u001b[39m.\u001b[39mstring(), pa\u001b[39m.\u001b[39mnull())\n\u001b[1;32m    211\u001b[0m     ]\n\u001b[1;32m    213\u001b[0m     \u001b[39m# short-circuit to return all False array.\u001b[39;00m\n\u001b[1;32m    214\u001b[0m     \u001b[39mif\u001b[39;00m \u001b[39mnot\u001b[39;00m \u001b[39mlen\u001b[39m(value_set):\n",
            "File \u001b[0;32m~/mesoformer/.venv/lib/python3.10/site-packages/pandas/core/arrays/string_arrow.py:209\u001b[0m, in \u001b[0;36m<listcomp>\u001b[0;34m(.0)\u001b[0m\n\u001b[1;32m    206\u001b[0m \u001b[39mdef\u001b[39;00m \u001b[39misin\u001b[39m(\u001b[39mself\u001b[39m, values) \u001b[39m-\u001b[39m\u001b[39m>\u001b[39m npt\u001b[39m.\u001b[39mNDArray[np\u001b[39m.\u001b[39mbool_]:\n\u001b[1;32m    207\u001b[0m     value_set \u001b[39m=\u001b[39m [\n\u001b[1;32m    208\u001b[0m         pa_scalar\u001b[39m.\u001b[39mas_py()\n\u001b[0;32m--> 209\u001b[0m         \u001b[39mfor\u001b[39;00m pa_scalar \u001b[39min\u001b[39;00m [pa\u001b[39m.\u001b[39;49mscalar(value, from_pandas\u001b[39m=\u001b[39;49m\u001b[39mTrue\u001b[39;49;00m) \u001b[39mfor\u001b[39;00m value \u001b[39min\u001b[39;00m values]\n\u001b[1;32m    210\u001b[0m         \u001b[39mif\u001b[39;00m pa_scalar\u001b[39m.\u001b[39mtype \u001b[39min\u001b[39;00m (pa\u001b[39m.\u001b[39mstring(), pa\u001b[39m.\u001b[39mnull())\n\u001b[1;32m    211\u001b[0m     ]\n\u001b[1;32m    213\u001b[0m     \u001b[39m# short-circuit to return all False array.\u001b[39;00m\n\u001b[1;32m    214\u001b[0m     \u001b[39mif\u001b[39;00m \u001b[39mnot\u001b[39;00m \u001b[39mlen\u001b[39m(value_set):\n",
            "File \u001b[0;32m~/mesoformer/.venv/lib/python3.10/site-packages/pyarrow/scalar.pxi:1120\u001b[0m, in \u001b[0;36mpyarrow.lib.scalar\u001b[0;34m()\u001b[0m\n",
            "File \u001b[0;32m~/mesoformer/.venv/lib/python3.10/site-packages/pyarrow/error.pxi:144\u001b[0m, in \u001b[0;36mpyarrow.lib.pyarrow_internal_check_status\u001b[0;34m()\u001b[0m\n",
            "File \u001b[0;32m~/mesoformer/.venv/lib/python3.10/site-packages/pyarrow/error.pxi:100\u001b[0m, in \u001b[0;36mpyarrow.lib.check_status\u001b[0;34m()\u001b[0m\n",
            "\u001b[0;31mArrowInvalid\u001b[0m: Could not convert <str_iterator object at 0x7f2620343e80> with type str_iterator: did not recognize Python value type when inferring an Arrow data type"
          ]
        }
      ],
      "source": [
        "print(\n",
        "    ERA5.difference(iter(\"tuv\")),\n",
        "    ERA5.difference(ERA5(list(\"tuv\"))),\n",
        "    ERA5(list(\"tuv\")),\n",
        "    sep=\"\\n\",\n",
        ")"
      ]
    },
    {
      "cell_type": "code",
      "execution_count": null,
      "metadata": {},
      "outputs": [],
      "source": [
        "assert Coordinates.intersection([\"vertical\", \"time\", \"latitude\", \"longitude\"]) == set(Coordinates)\n",
        "assert Coordinates.difference(list(Coordinates)) == set() == set(Coordinates).difference(iter(Coordinates))\n",
        "assert Dimensions.intersection([\"time\", \"latitude\", \"longitude\"]) == {Dimensions.T, Dimensions.X, Dimensions.Y}"
      ]
    }
  ],
  "metadata": {
    "kernelspec": {
      "display_name": ".venv",
      "language": "python",
      "name": "python3"
    },
    "language_info": {
      "codemirror_mode": {
        "name": "ipython",
        "version": 3
      },
      "file_extension": ".py",
      "mimetype": "text/x-python",
      "name": "python",
      "nbconvert_exporter": "python",
      "pygments_lexer": "ipython3",
      "version": "3.10.12"
    },
    "orig_nbformat": 4
  },
  "nbformat": 4,
  "nbformat_minor": 2
}
