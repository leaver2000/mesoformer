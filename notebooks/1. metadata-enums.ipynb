{
  "cells": [
    {
      "cell_type": "code",
      "execution_count": 1,
      "metadata": {},
      "outputs": [
        {
          "data": {
            "text/html": [
              "\n",
              "                <script type=\"application/javascript\" id=\"jupyter_black\">\n",
              "                (function() {\n",
              "                    if (window.IPython === undefined) {\n",
              "                        return\n",
              "                    }\n",
              "                    var msg = \"WARNING: it looks like you might have loaded \" +\n",
              "                        \"jupyter_black in a non-lab notebook with \" +\n",
              "                        \"`is_lab=True`. Please double check, and if \" +\n",
              "                        \"loading with `%load_ext` please review the README!\"\n",
              "                    console.log(msg)\n",
              "                    alert(msg)\n",
              "                })()\n",
              "                </script>\n",
              "                "
            ],
            "text/plain": [
              "<IPython.core.display.HTML object>"
            ]
          },
          "metadata": {},
          "output_type": "display_data"
        },
        {
          "name": "stdout",
          "output_type": "stream",
          "text": [
            "member_names\n",
            "TCC             total_cloud_cover\n",
            "CEIL                      ceiling\n",
            "U10          u_wind_component_10m\n",
            "V10          v_wind_component_10m\n",
            "SI10               wind_speed_10m\n",
            "GUST              wind_speed_gust\n",
            "WDIR10         wind_direction_10m\n",
            "T2M                temperature_2m\n",
            "D2M       dewpoint_temperature_2m\n",
            "SH2          specific_humidity_2m\n",
            "SP               surface_pressure\n",
            "VIS                    visibility\n",
            "OROG                    orography\n",
            "Name: URMA, dtype: object\n",
            "Index(['TCC', 'CEIL', 'U10', 'V10', 'SI10', 'GUST', 'WDIR10', 'T2M', 'D2M',\n",
            "       'SH2', 'SP', 'VIS', 'OROG'],\n",
            "      dtype='string', name='member_names')\n",
            "defaultdict(<class 'dict'>, {'TCC': {}, 'CEIL': {}, 'U10': {}, 'V10': {}, 'SI10': {}, 'GUST': {}, 'WDIR10': {}, 'T2M': {}, 'D2M': {}, 'SH2': {}, 'SP': {}, 'VIS': {}, 'OROG': {}})\n",
            "Empty DataFrame\n",
            "Columns: [TCC, CEIL, U10, V10, SI10, GUST, WDIR10, T2M, D2M, SH2, SP, VIS, OROG]\n",
            "Index: []\n"
          ]
        },
        {
          "data": {
            "text/plain": [
              "TCC             total_cloud_cover\n",
              "CEIL                      ceiling\n",
              "U10          u_wind_component_10m\n",
              "V10          v_wind_component_10m\n",
              "SI10               wind_speed_10m\n",
              "GUST              wind_speed_gust\n",
              "WDIR10         wind_direction_10m\n",
              "T2M                temperature_2m\n",
              "D2M       dewpoint_temperature_2m\n",
              "SH2          specific_humidity_2m\n",
              "SP               surface_pressure\n",
              "VIS                    visibility\n",
              "OROG                    orography\n",
              "Name: URMA, dtype: object"
            ]
          },
          "execution_count": 1,
          "metadata": {},
          "output_type": "execute_result"
        }
      ],
      "source": [
        "%load_ext jupyter_black\n",
        "%load_ext autoreload\n",
        "%autoreload 2\n",
        "\n",
        "import pyproj\n",
        "from mesoscaler.enums import ERA5, URMA\n",
        "\n",
        "print(URMA._series, URMA._names, URMA._member_metadata, URMA._aliases,sep='\\n')\n",
        "URMA.to_series()"
      ]
    },
    {
      "cell_type": "code",
      "execution_count": 15,
      "metadata": {},
      "outputs": [
        {
          "data": {
            "text/plain": [
              "TCC             total_cloud_cover\n",
              "CEIL                      ceiling\n",
              "U10          u_wind_component_10m\n",
              "V10          v_wind_component_10m\n",
              "SI10               wind_speed_10m\n",
              "GUST              wind_speed_gust\n",
              "WDIR10         wind_direction_10m\n",
              "T2M                temperature_2m\n",
              "D2M       dewpoint_temperature_2m\n",
              "SH2          specific_humidity_2m\n",
              "SP               surface_pressure\n",
              "VIS                    visibility\n",
              "OROG                    orography\n",
              "Name: URMA, dtype: string"
            ]
          },
          "execution_count": 15,
          "metadata": {},
          "output_type": "execute_result"
        }
      ],
      "source": [
        "import enum\n",
        "\n",
        "from typing import Any\n",
        "\n",
        "_dtypes: dict[type, Any] = {str: \"string\"}\n",
        "dtype = _dtypes.get(next(x for x in URMA.mro() if not issubclass(x, enum.Enum)), \"object\")\n",
        "URMA.to_series().astype(dtype)"
      ]
    },
    {
      "cell_type": "code",
      "execution_count": 2,
      "metadata": {},
      "outputs": [
        {
          "data": {
            "text/plain": [
              "[total_cloud_cover]"
            ]
          },
          "execution_count": 2,
          "metadata": {},
          "output_type": "execute_result"
        }
      ],
      "source": [
        "URMA.loc[[\"TCC\"]]"
      ]
    },
    {
      "cell_type": "code",
      "execution_count": 22,
      "metadata": {},
      "outputs": [
        {
          "data": {
            "text/plain": [
              "'Main menu\\nWikipediaThe Free Encyclopedia\\nSearch Wikipedia\\nSearch\\nCreate account\\nLog in\\nPersonal tools\\nContents hide\\n(Top)\\nUnited States\\nToggle United States subsection\\nUnauthorized practice of law\\nDefinition\\nEnforcement\\nHistory and future\\nAttorney participation\\nSingapore\\nToggle Singapore subsection\\nUnauthorized practice of law\\nSee also\\nReferences\\nExternal links\\nPractice of law\\nArticle\\nTalk\\nRead\\nEdit\\nView history\\nTools\\nFrom Wikipedia, the free encyclopedia\\nNot to be confused with Legal practice.\\nGlobe icon.\\nThe examples and perspective in this article deal primarily with the United States and Singapore and do not represent a worldwide view of the subject. You may improve this article, discuss the issue on the talk page, or create a new article, as appropriate. (December 2016) (Learn how and when to remove this template message)\\nProfessional responsibility\\nDuties to the client\\nConfidentiality\\nAvoiding conflict of interest\\nDue diligence and Competence (law)\\nAvoid commingling\\nAvoid self-dealing\\nEffective assistance\\nAvoid fee splitting\\nWithdrawal from representation\\nDuties to the court\\nDisclosure of perjury\\nDisclosure of adverse authority\\nDuties to the profession\\nLimitations on legal advertising\\nReport misconduct\\nSources of law\\nABA Model Rules\\nPenalties for misconduct\\nDisbarmentJudicial misconduct\\nvte\\nCompetition law\\nBasic concepts\\nHistory of competition law\\nMonopoly and oligopoly\\nCoercive monopoly\\nNatural monopoly\\nBarriers to entry\\nHerfindahl–Hirschman Index\\nMarket concentration\\nMarket power\\nSSNIP test\\nRelevant market\\nMerger control\\nAnti-competitive practices\\nMonopolization\\nCollusion\\nFormation of cartels\\nPrice fixing (cases)\\nBid rigging\\nTacit collusion\\nProduct bundling and tying\\nRefusal to deal\\nGroup boycott\\nEssential facilities\\nExclusive dealing\\nDividing territories\\nPredatory pricing\\nMisuse of patents and copyrights\\nEnforcement authorities and organizations\\nInternational Competition Network\\nList of competition regulators\\nvte\\nIn its most general sense, the practice of law involves giving legal advice to clients, drafting legal documents for clients, and representing clients in legal negotiations and court proceedings such as lawsuits, and is applied to the professional services of a lawyer or attorney at law, barrister, solicitor, or civil law notary. However, there is a substantial amount of overlap between the practice of law and various other professions where clients are represented by agents. These professions include real estate, banking, accounting, and insurance. Moreover, a growing number of legal document assistants (LDAs) are offering services which have traditionally been offered only by lawyers and their employee paralegals. Many documents may now be created by computer-assisted drafting libraries, where the clients are asked a series of questions that are posed by the software in order to construct the legal documents. In addition, regulatory consulting firms also provide advisory services on regulatory compliance that were traditionally provided exclusively by law firms.\\nUnited States\\nIn the United States, the practice of law is conditioned upon admission to practice of law, and specifically admission to the bar of a particular state or other territorial jurisdiction. The American Bar Association and the American Law Institute are among the organizations that are concerned with the interests of lawyers as a profession and the promulgation of uniform standards of professionalism and ethics, but regulation of the practice of law is left to the individual states, and their definitions vary.[1]\\nUnauthorized practice of law\\n\"Unauthorized practice of law\" (UPL) is an act sometimes prohibited by statute, regulation, or court rules.[1]\\nDefinition\\nThe definition of \"unauthorized practice of law\" is variable, and is often conclusory and tautological,[2] i.e., it is the doing of a lawyer\\'s or counselor\\'s work by a non-lawyer for money.[1] There is some agreement that appearing in a legally constituted court in a legal proceeding to represent clients (particularly for a fee) is considered to be unauthorized practice of law.[1][2] But other variations are subject to interpretation and conflicting regulation, particularly as to the scope and breadth of the prohibition.[1] Black\\'s Law Dictionary defines unauthorized practice of law as \"The practice of law by a person, typically a nonlawyer, who has not been licensed or admitted to practice law in a given jurisdiction.\"[2]\\nThe Restatement (Third) of the Law Governing Lawyers notes:\\nThe definitions and tests employed by courts to delineate unauthorized practice by non-lawyers have been vague or conclusory, while jurisdictions have differed significantly in describing what constitutes unauthorized practice in particular areas.\\nCertain activities, such as the representation of another person in litigation, are generally proscribed. Even in that area, many jurisdictions recognize exceptions for such matters as small-claims and landlord-tenant tribunals and certain proceedings in administrative agencies. Moreover, many jurisdictions have authorized law students and others not locally admitted to represent indigent persons or others as part of clinical legal education programs. ...[2][3]\\nWhat is more controversial is out-of-court activities, particularly drafting of documents and giving advice, and whether that is considered to be unauthorized practice of law.[2][3] Some states have defined the \"practice of law\" to include those who appear as a representative in arbitration or act as arbitrators in disputes.[4] For example, there is a growing conflict between the multijurisdictional practice of law in arbitration proceedings in the financial service industry and state regulation of lawyers.[5] With a few exceptions, the general rule is that an appearance at an arbitration does not constitute the practice of law.[6]\\nThe United States bankruptcy court for the Eastern District of Tennessee has held that \"providing clients with explanations or definitions of such legal terms of art ... is, by itself, giving legal advice.\"[7][8] The North Carolina State Bar has held that \"definition of lien law terms, warnings regarding time requirements, and reminders about sending out preliminary notices within five to ten days of beginning work, when combined with its preparation of legal documents [in the manner described], constitute providing legal advice.\"[7][8]\\nTexas law generally prohibits a person who is not an attorney from representing a client in a personal injury or property damage matter, and punishes a violation as a misdemeanor.[9] Some states also criminalize the separate behavior of falsely claiming to be lawyer (in Texas, for example, this is a felony if done to obtain economic benefit).[10]\\nEnforcement\\nCriminal laws and enforcement of \"Unauthorized Practice of Law (UPL)\" statutes is the organized bar\\'s preferred method. In Florida, the unauthorized practice of law is a third degree felony,[11] which is punishable by up to six months in prison[12] and $5000 in fines.[13] New Jersey has a law which makes it a \"disorderly persons offense\" to knowingly to engage in the unauthorized practice of law, and a \"crime in the fourth degree\" to commit UPL if one (a) creates a false impression that one is a lawyer; (b) derives a benefit from UPL, or (c) causes an injury by UPL.[14][15] In a 2015 survey by the American Bar Association, Florida had the largest budget—$1.8 million—nationwide for prosecuting the unauthorized practice of law.[16]\\nThe state has interest in protecting the public from having unqualified persons hold themselves out as licensed professionals, but the existence of laws against unauthorized practice of itself does not guarantee that unlicensed professionals will be detected and those laws enforced.[17][18]\\nHistory and future\\nThe American Bar Association proposed model rules regarding the unauthorized practice of law, which Judge Richard Posner characterized as an attempt to perpetuate a monopoly to the disadvantage of consumers.[14] The judge observed that the legal profession is \"a cartel of providers of services relating to society\\'s laws\" which cartel\\'s focus is to restrict entry. \"Modern economists call it \\'rent seeking\\', but throughout recorded history, skilled crafts and professions have tried to raise their members\\' incomes by using the power of the state to limit entry.\"[14]\\nThe practice of law was not formally regulated in Arizona for a time. However, the Arizona Supreme Court found independent inherent authority to regulate the practice of law.[19] Arizona\\'s statute criminalizing unauthorized practice of law was allowed to lapse from a sunset law in 1985. Rose suggests that legislative proposals to recriminalize the unauthorized practice of law have heretofore failed because of anti-lawyer sentiment in Arizona politics.[20] Moreover, Rose asserts that resentment lingers from an unpopular interpretation of the old statute in State Bar v. Arizona Land Title & Trust Co., 90 Ariz. 76 (1961). This ruling imposed sanctions on a title and realty company engaged in drafting contracts. Rose says, \"Throughout the country, various jurisdictions have developed numerous tests for defining the practice of law. But none is broader nor more all-encompassing than that articulated in Arizona Title.\"[21]\\nAttorney participation\\nIn the United States, the rules of professional conduct generally prohibit an attorney from assisting a non-attorney from engaging in the unauthorized practice of law. An attorney therefore may not partner with or split fees with a non-attorney in the performance of any sort of legal work. Furthermore, an attorney may not employ a disbarred or suspended attorney in a legal practice where former clients of the disbarred or suspended attorney will be represented. [22]\\nSingapore\\nUnauthorized practice of law\\nIn Singapore, it is a criminal offence if an unauthorised person pretends to be a qualified lawyer or carries out any act that may be performed only by a qualified lawyer. The relevant provision is section 33 of the Legal Profession Act. The acts that may be performed only by a qualified lawyer are set out in section 33 of the Legal Profession Act and case law.[citation needed]\\nSee also\\nDisbarment\\nLaw\\nLaw degree\\nLaw Society of British Columbia v. Mangat\\nReferences\\n \"State Definitions of the Practice of Law\" (PDF). American Bar Association. Archived from the original (PDF) on 14 January 2016. Retrieved April 29, 2011.\\n Garner, Bryan A. ed. (1999). Black\\'s Law Dictionary (7th ed.). St. Paul MN: West. pp. 1191–1192. {{cite book}}: |author= has generic name (help)\\n Restatement (Third) of the Law Governing Lawyers (4 cmt c ed.). American Law Institute. 1998.\\n Spector, David M.; Romero, Jessica (First Quarter 2006). \"Arbitration and The Unauthorized Practice of Law\" (PDF). ARIAS Quarterly U.S. AIDA Reinsurance & Insurance Arbitration Society. 13 (1): 16–19. Archived from the original (PDF) on July 25, 2011. Retrieved May 18, 2011.\\n \"BNA INSIGHTS: State Regulation of Unauthorized Practice of Law in Arbitration and Mediation: The Trend Toward Permitting Multijurisdictional Practice in Alternative Dispute Resolution\". Securities Regulation & Law Report. Bureau of National Affairs. August 16, 2010. Retrieved May 18, 2011.\\n Bennett, Steven C. (May 2002). Arbitration: essential concepts. New York: Incisive Media, LLC. pp. 175–178. ISBN 978-0-9705970-8-3. ISBN 0-9705970-8-8.\\n Budde, Nate (11 April 2014). \"Can Software Practice Law? The Unauthorized Practice of Law and Technology\". The Lien & Credit Journal. Archived from the original on 15 April 2014. Retrieved 14 April 2014.\\n North Carolina State Bar v. Lienguard, Inc., 2014 NCBC 11\\n Tex. Gov’t Code sec. 38.123. Chapter 38 of the penal code, containing 38.122 and 38.123 Archived May 1, 2009, at the Wayback Machine\\n Tex. Gov’t Code sec. 38.122\\n §454.23 Fla. Stat. (2016)(\"Any person not licensed or otherwise authorized to practice law in this state who practices law in this state or holds himself or herself out to the public as qualified to practice law in this state ... commits a felony of the third degree.\"\\n §775.082(3)(e) Fla. Stat.(2016)\\n §775.083(1)(c) Fla. Stat. (2016)\\n McCarter, George W.C. (May 1, 2003). \"The ABA\\'s Attack on \"Unauthorized\" Practice of Law and Consumer Choice\". The Federalist Society for Law and Public Policy Studies. Retrieved April 29, 2011.\\n New Jersey General Assembly. \"N.J.S.A. 2C:21-22\". Statutes of New Jersey. New Jersey.\\n Draper, Lindsay (September 2015). \"2015 Survey of Unlicensed Practice of Law Committees\" (PDF). American Bar Association. Retrieved 17 December 2016. The Florida Bar continues to lead the country in funding UPL enforcement, spending approximately $1.8 million annually.\\n Hogan, Daniel B. (1983). \"The effectiveness of licensing: History, evidence, and recommendations\". Law and Human Behavior. 7 (2–3): 117–138. doi:10.1007/BF01044517. S2CID 112414536.\\n Rhode, Deborah L. (1990). \"The Delivery of Legal Services by Non-Lawyers\". Georgetown Journal of Legal Ethics. 4: 209.\\n In re Creasy, 198 Ariz. 539 (2000). See generally Jonathan Rose, \"Unauthorized Practice of Law in Arizona: A Legal and Political Problem That Won\\'t Go Away\", 34 Ariz. St. L.J. 585.\\n Id. at 593.\\n Rose at 588.\\n \"Formal Opinion 1998-01\". nycbar.org. Retrieved 2022-09-15.\\nExternal links\\n\"What Would Happen Without Unauthorized Practice of Law Statutes?\". Lawyerist.com. 2011-12-03. Retrieved 2013-07-02.\\nvte\\nLaw\\nAuthority control databases Edit this at Wikidata\\nCategories: Practice of lawJuristsSolicitorsMonopoly (economics)Competition lawJurisprudence\\nThis page was last edited on 18 September 2023, at 01:54 (UTC).\\nText is available under the Creative Commons Attribution-ShareAlike License 4.0; additional terms may apply. By using this site, you agree to the Terms of Use and Privacy Policy. Wikipedia® is a registered trademark of the Wikimedia Foundation, Inc., a non-profit organization.\\nPrivacy policyAbout WikipediaDisclaimersContact WikipediaCode of ConductDevelopersStatisticsCookie statementMobile viewWikimedia FoundationPowered by MediaWiki\\n'"
            ]
          },
          "execution_count": 22,
          "metadata": {},
          "output_type": "execute_result"
        }
      ],
      "source": [
        "LAW_JARGON = \"\"\"\\\n",
        "Main menu\n",
        "\n",
        "WikipediaThe Free Encyclopedia\n",
        "Search Wikipedia\n",
        "Search\n",
        "Create account\n",
        "Log in\n",
        "\n",
        "Personal tools\n",
        "Contents hide\n",
        "(Top)\n",
        "United States\n",
        "Toggle United States subsection\n",
        "Unauthorized practice of law\n",
        "Definition\n",
        "Enforcement\n",
        "History and future\n",
        "Attorney participation\n",
        "Singapore\n",
        "Toggle Singapore subsection\n",
        "Unauthorized practice of law\n",
        "See also\n",
        "References\n",
        "External links\n",
        "Practice of law\n",
        "\n",
        "Article\n",
        "Talk\n",
        "Read\n",
        "Edit\n",
        "View history\n",
        "\n",
        "Tools\n",
        "From Wikipedia, the free encyclopedia\n",
        "Not to be confused with Legal practice.\n",
        "Globe icon.\n",
        "The examples and perspective in this article deal primarily with the United States and Singapore and do not represent a worldwide view of the subject. You may improve this article, discuss the issue on the talk page, or create a new article, as appropriate. (December 2016) (Learn how and when to remove this template message)\n",
        "Professional responsibility\n",
        "Duties to the client\n",
        "Confidentiality\n",
        "Avoiding conflict of interest\n",
        "Due diligence and Competence (law)\n",
        "Avoid commingling\n",
        "Avoid self-dealing\n",
        "Effective assistance\n",
        "Avoid fee splitting\n",
        "Withdrawal from representation\n",
        "Duties to the court\n",
        "Disclosure of perjury\n",
        "Disclosure of adverse authority\n",
        "Duties to the profession\n",
        "Limitations on legal advertising\n",
        "Report misconduct\n",
        "Sources of law\n",
        "ABA Model Rules\n",
        "Penalties for misconduct\n",
        "DisbarmentJudicial misconduct\n",
        "vte\n",
        "Competition law\n",
        "\n",
        "Basic concepts\n",
        "History of competition law\n",
        "Monopoly and oligopoly\n",
        "Coercive monopoly\n",
        "Natural monopoly\n",
        "Barriers to entry\n",
        "Herfindahl–Hirschman Index\n",
        "Market concentration\n",
        "Market power\n",
        "SSNIP test\n",
        "Relevant market\n",
        "Merger control\n",
        "Anti-competitive practices\n",
        "Monopolization\n",
        "Collusion\n",
        "Formation of cartels\n",
        "Price fixing (cases)\n",
        "Bid rigging\n",
        "Tacit collusion\n",
        "Product bundling and tying\n",
        "Refusal to deal\n",
        "Group boycott\n",
        "Essential facilities\n",
        "Exclusive dealing\n",
        "Dividing territories\n",
        "Predatory pricing\n",
        "Misuse of patents and copyrights\n",
        "Enforcement authorities and organizations\n",
        "International Competition Network\n",
        "List of competition regulators\n",
        "vte\n",
        "In its most general sense, the practice of law involves giving legal advice to clients, drafting legal documents for clients, and representing clients in legal negotiations and court proceedings such as lawsuits, and is applied to the professional services of a lawyer or attorney at law, barrister, solicitor, or civil law notary. However, there is a substantial amount of overlap between the practice of law and various other professions where clients are represented by agents. These professions include real estate, banking, accounting, and insurance. Moreover, a growing number of legal document assistants (LDAs) are offering services which have traditionally been offered only by lawyers and their employee paralegals. Many documents may now be created by computer-assisted drafting libraries, where the clients are asked a series of questions that are posed by the software in order to construct the legal documents. In addition, regulatory consulting firms also provide advisory services on regulatory compliance that were traditionally provided exclusively by law firms.\n",
        "\n",
        "United States\n",
        "In the United States, the practice of law is conditioned upon admission to practice of law, and specifically admission to the bar of a particular state or other territorial jurisdiction. The American Bar Association and the American Law Institute are among the organizations that are concerned with the interests of lawyers as a profession and the promulgation of uniform standards of professionalism and ethics, but regulation of the practice of law is left to the individual states, and their definitions vary.[1]\n",
        "\n",
        "Unauthorized practice of law\n",
        "\"Unauthorized practice of law\" (UPL) is an act sometimes prohibited by statute, regulation, or court rules.[1]\n",
        "\n",
        "Definition\n",
        "The definition of \"unauthorized practice of law\" is variable, and is often conclusory and tautological,[2] i.e., it is the doing of a lawyer's or counselor's work by a non-lawyer for money.[1] There is some agreement that appearing in a legally constituted court in a legal proceeding to represent clients (particularly for a fee) is considered to be unauthorized practice of law.[1][2] But other variations are subject to interpretation and conflicting regulation, particularly as to the scope and breadth of the prohibition.[1] Black's Law Dictionary defines unauthorized practice of law as \"The practice of law by a person, typically a nonlawyer, who has not been licensed or admitted to practice law in a given jurisdiction.\"[2]\n",
        "\n",
        "The Restatement (Third) of the Law Governing Lawyers notes:\n",
        "\n",
        "The definitions and tests employed by courts to delineate unauthorized practice by non-lawyers have been vague or conclusory, while jurisdictions have differed significantly in describing what constitutes unauthorized practice in particular areas.\n",
        "\n",
        "Certain activities, such as the representation of another person in litigation, are generally proscribed. Even in that area, many jurisdictions recognize exceptions for such matters as small-claims and landlord-tenant tribunals and certain proceedings in administrative agencies. Moreover, many jurisdictions have authorized law students and others not locally admitted to represent indigent persons or others as part of clinical legal education programs. ...[2][3]\n",
        "\n",
        "What is more controversial is out-of-court activities, particularly drafting of documents and giving advice, and whether that is considered to be unauthorized practice of law.[2][3] Some states have defined the \"practice of law\" to include those who appear as a representative in arbitration or act as arbitrators in disputes.[4] For example, there is a growing conflict between the multijurisdictional practice of law in arbitration proceedings in the financial service industry and state regulation of lawyers.[5] With a few exceptions, the general rule is that an appearance at an arbitration does not constitute the practice of law.[6]\n",
        "\n",
        "The United States bankruptcy court for the Eastern District of Tennessee has held that \"providing clients with explanations or definitions of such legal terms of art ... is, by itself, giving legal advice.\"[7][8] The North Carolina State Bar has held that \"definition of lien law terms, warnings regarding time requirements, and reminders about sending out preliminary notices within five to ten days of beginning work, when combined with its preparation of legal documents [in the manner described], constitute providing legal advice.\"[7][8]\n",
        "\n",
        "Texas law generally prohibits a person who is not an attorney from representing a client in a personal injury or property damage matter, and punishes a violation as a misdemeanor.[9] Some states also criminalize the separate behavior of falsely claiming to be lawyer (in Texas, for example, this is a felony if done to obtain economic benefit).[10]\n",
        "\n",
        "Enforcement\n",
        "Criminal laws and enforcement of \"Unauthorized Practice of Law (UPL)\" statutes is the organized bar's preferred method. In Florida, the unauthorized practice of law is a third degree felony,[11] which is punishable by up to six months in prison[12] and $5000 in fines.[13] New Jersey has a law which makes it a \"disorderly persons offense\" to knowingly to engage in the unauthorized practice of law, and a \"crime in the fourth degree\" to commit UPL if one (a) creates a false impression that one is a lawyer; (b) derives a benefit from UPL, or (c) causes an injury by UPL.[14][15] In a 2015 survey by the American Bar Association, Florida had the largest budget—$1.8 million—nationwide for prosecuting the unauthorized practice of law.[16]\n",
        "\n",
        "The state has interest in protecting the public from having unqualified persons hold themselves out as licensed professionals, but the existence of laws against unauthorized practice of itself does not guarantee that unlicensed professionals will be detected and those laws enforced.[17][18]\n",
        "\n",
        "History and future\n",
        "The American Bar Association proposed model rules regarding the unauthorized practice of law, which Judge Richard Posner characterized as an attempt to perpetuate a monopoly to the disadvantage of consumers.[14] The judge observed that the legal profession is \"a cartel of providers of services relating to society's laws\" which cartel's focus is to restrict entry. \"Modern economists call it 'rent seeking', but throughout recorded history, skilled crafts and professions have tried to raise their members' incomes by using the power of the state to limit entry.\"[14]\n",
        "\n",
        "The practice of law was not formally regulated in Arizona for a time. However, the Arizona Supreme Court found independent inherent authority to regulate the practice of law.[19] Arizona's statute criminalizing unauthorized practice of law was allowed to lapse from a sunset law in 1985. Rose suggests that legislative proposals to recriminalize the unauthorized practice of law have heretofore failed because of anti-lawyer sentiment in Arizona politics.[20] Moreover, Rose asserts that resentment lingers from an unpopular interpretation of the old statute in State Bar v. Arizona Land Title & Trust Co., 90 Ariz. 76 (1961). This ruling imposed sanctions on a title and realty company engaged in drafting contracts. Rose says, \"Throughout the country, various jurisdictions have developed numerous tests for defining the practice of law. But none is broader nor more all-encompassing than that articulated in Arizona Title.\"[21]\n",
        "\n",
        "Attorney participation\n",
        "In the United States, the rules of professional conduct generally prohibit an attorney from assisting a non-attorney from engaging in the unauthorized practice of law. An attorney therefore may not partner with or split fees with a non-attorney in the performance of any sort of legal work. Furthermore, an attorney may not employ a disbarred or suspended attorney in a legal practice where former clients of the disbarred or suspended attorney will be represented. [22]\n",
        "\n",
        "Singapore\n",
        "Unauthorized practice of law\n",
        "In Singapore, it is a criminal offence if an unauthorised person pretends to be a qualified lawyer or carries out any act that may be performed only by a qualified lawyer. The relevant provision is section 33 of the Legal Profession Act. The acts that may be performed only by a qualified lawyer are set out in section 33 of the Legal Profession Act and case law.[citation needed]\n",
        "\n",
        "See also\n",
        "Disbarment\n",
        "Law\n",
        "Law degree\n",
        "Law Society of British Columbia v. Mangat\n",
        "References\n",
        " \"State Definitions of the Practice of Law\" (PDF). American Bar Association. Archived from the original (PDF) on 14 January 2016. Retrieved April 29, 2011.\n",
        " Garner, Bryan A. ed. (1999). Black's Law Dictionary (7th ed.). St. Paul MN: West. pp. 1191–1192. {{cite book}}: |author= has generic name (help)\n",
        " Restatement (Third) of the Law Governing Lawyers (4 cmt c ed.). American Law Institute. 1998.\n",
        " Spector, David M.; Romero, Jessica (First Quarter 2006). \"Arbitration and The Unauthorized Practice of Law\" (PDF). ARIAS Quarterly U.S. AIDA Reinsurance & Insurance Arbitration Society. 13 (1): 16–19. Archived from the original (PDF) on July 25, 2011. Retrieved May 18, 2011.\n",
        " \"BNA INSIGHTS: State Regulation of Unauthorized Practice of Law in Arbitration and Mediation: The Trend Toward Permitting Multijurisdictional Practice in Alternative Dispute Resolution\". Securities Regulation & Law Report. Bureau of National Affairs. August 16, 2010. Retrieved May 18, 2011.\n",
        " Bennett, Steven C. (May 2002). Arbitration: essential concepts. New York: Incisive Media, LLC. pp. 175–178. ISBN 978-0-9705970-8-3. ISBN 0-9705970-8-8.\n",
        " Budde, Nate (11 April 2014). \"Can Software Practice Law? The Unauthorized Practice of Law and Technology\". The Lien & Credit Journal. Archived from the original on 15 April 2014. Retrieved 14 April 2014.\n",
        " North Carolina State Bar v. Lienguard, Inc., 2014 NCBC 11\n",
        " Tex. Gov’t Code sec. 38.123. Chapter 38 of the penal code, containing 38.122 and 38.123 Archived May 1, 2009, at the Wayback Machine\n",
        " Tex. Gov’t Code sec. 38.122\n",
        " §454.23 Fla. Stat. (2016)(\"Any person not licensed or otherwise authorized to practice law in this state who practices law in this state or holds himself or herself out to the public as qualified to practice law in this state ... commits a felony of the third degree.\"\n",
        " §775.082(3)(e) Fla. Stat.(2016)\n",
        " §775.083(1)(c) Fla. Stat. (2016)\n",
        " McCarter, George W.C. (May 1, 2003). \"The ABA's Attack on \"Unauthorized\" Practice of Law and Consumer Choice\". The Federalist Society for Law and Public Policy Studies. Retrieved April 29, 2011.\n",
        " New Jersey General Assembly. \"N.J.S.A. 2C:21-22\". Statutes of New Jersey. New Jersey.\n",
        " Draper, Lindsay (September 2015). \"2015 Survey of Unlicensed Practice of Law Committees\" (PDF). American Bar Association. Retrieved 17 December 2016. The Florida Bar continues to lead the country in funding UPL enforcement, spending approximately $1.8 million annually.\n",
        " Hogan, Daniel B. (1983). \"The effectiveness of licensing: History, evidence, and recommendations\". Law and Human Behavior. 7 (2–3): 117–138. doi:10.1007/BF01044517. S2CID 112414536.\n",
        " Rhode, Deborah L. (1990). \"The Delivery of Legal Services by Non-Lawyers\". Georgetown Journal of Legal Ethics. 4: 209.\n",
        " In re Creasy, 198 Ariz. 539 (2000). See generally Jonathan Rose, \"Unauthorized Practice of Law in Arizona: A Legal and Political Problem That Won't Go Away\", 34 Ariz. St. L.J. 585.\n",
        " Id. at 593.\n",
        " Rose at 588.\n",
        " \"Formal Opinion 1998-01\". nycbar.org. Retrieved 2022-09-15.\n",
        "External links\n",
        "\"What Would Happen Without Unauthorized Practice of Law Statutes?\". Lawyerist.com. 2011-12-03. Retrieved 2013-07-02.\n",
        "vte\n",
        "Law\n",
        "Authority control databases Edit this at Wikidata\n",
        "Categories: Practice of lawJuristsSolicitorsMonopoly (economics)Competition lawJurisprudence\n",
        "This page was last edited on 18 September 2023, at 01:54 (UTC).\n",
        "Text is available under the Creative Commons Attribution-ShareAlike License 4.0; additional terms may apply. By using this site, you agree to the Terms of Use and Privacy Policy. Wikipedia® is a registered trademark of the Wikimedia Foundation, Inc., a non-profit organization.\n",
        "Privacy policyAbout WikipediaDisclaimersContact WikipediaCode of ConductDevelopersStatisticsCookie statementMobile viewWikimedia FoundationPowered by MediaWiki\n",
        "\"\"\"\n",
        "\n",
        "import re\n",
        "import pandas as pd\n",
        "string = re.sub(r\"\\n+\", \"\\n\", LAW_JARGON) # remove extra newlines\n",
        "s = pd.Series(string.split(\"\\n\"))"
      ]
    },
    {
      "cell_type": "code",
      "execution_count": 3,
      "metadata": {},
      "outputs": [
        {
          "name": "stdout",
          "output_type": "stream",
          "text": [
            "{'crs': <Geographic 2D CRS: EPSG:4326>\n",
            "Name: WGS 84\n",
            "Axis Info [ellipsoidal]:\n",
            "- Lat[north]: Geodetic latitude (degree)\n",
            "- Lon[east]: Geodetic longitude (degree)\n",
            "Area of Use:\n",
            "- name: World.\n",
            "- bounds: (-180.0, -90.0, 180.0, 90.0)\n",
            "Datum: World Geodetic System 1984 ensemble\n",
            "- Ellipsoid: WGS 84\n",
            "- Prime Meridian: Greenwich\n",
            "}\n"
          ]
        }
      ],
      "source": [
        "# the crs is loaded lazily\n",
        "assert \"crs\" not in ERA5.metadata\n",
        "assert isinstance(ERA5.crs, pyproj.CRS)\n",
        "assert \"crs\" in ERA5.metadata\n",
        "\n",
        "print(ERA5.metadata, sep=\"\\n\")"
      ]
    },
    {
      "cell_type": "code",
      "execution_count": 4,
      "metadata": {},
      "outputs": [
        {
          "name": "stdout",
          "output_type": "stream",
          "text": [
            "{'crs': <Geographic 2D CRS: EPSG:4326>\n",
            "Name: WGS 84\n",
            "Axis Info [ellipsoidal]:\n",
            "- Lat[north]: Geodetic latitude (degree)\n",
            "- Lon[east]: Geodetic longitude (degree)\n",
            "Area of Use:\n",
            "- name: World.\n",
            "- bounds: (-180.0, -90.0, 180.0, 90.0)\n",
            "Datum: World Geodetic System 1984 ensemble\n",
            "- Ellipsoid: WGS 84\n",
            "- Prime Meridian: Greenwich\n",
            "}\n",
            "{'units': 'm**2 s**-2'}\n",
            "{'name': 'ERA5', '__mesometa_cls_data__': {'crs': <Geographic 2D CRS: EPSG:4326>\n",
            "Name: WGS 84\n",
            "Axis Info [ellipsoidal]:\n",
            "- Lat[north]: Geodetic latitude (degree)\n",
            "- Lon[east]: Geodetic longitude (degree)\n",
            "Area of Use:\n",
            "- name: World.\n",
            "- bounds: (-180.0, -90.0, 180.0, 90.0)\n",
            "Datum: World Geodetic System 1984 ensemble\n",
            "- Ellipsoid: WGS 84\n",
            "- Prime Meridian: Greenwich\n",
            "}, '__mesometa_member_data__': mappingproxy(defaultdict(<class 'dict'>, {'Z': {'units': 'm**2 s**-2'}, 'Q': {'units': 'kg kg**-1'}, 'T': {'units': 'K'}, 'U': {'units': 'm s**-1'}, 'V': {'units': 'm s**-1'}, 'W': {'units': 'Pa s**-1'}})), '__mesometa_member_aliases__':    Z  Q  T  U  V  W\n",
            "0  z  q  t  u  v  w, '__mesometa_series__': member_names\n",
            "Z           geopotential\n",
            "Q      specific_humidity\n",
            "T            temperature\n",
            "U    u_component_of_wind\n",
            "V    v_component_of_wind\n",
            "W      vertical_velocity\n",
            "Name: ERA5, dtype: object, '__mesometa_loc__': <mesoscaler.generic.Loc object at 0x7fbe0315dc00>}\n"
          ]
        }
      ],
      "source": [
        "print(\n",
        "    ERA5.metadata,\n",
        "    ERA5.Z.metadata,\n",
        "    ERA5.__metadata__,\n",
        "    sep=\"\\n\",\n",
        ")"
      ]
    },
    {
      "cell_type": "code",
      "execution_count": 5,
      "metadata": {},
      "outputs": [
        {
          "data": {
            "text/plain": [
              "(True, True)"
            ]
          },
          "execution_count": 5,
          "metadata": {},
          "output_type": "execute_result"
        }
      ],
      "source": [
        "assert ERA5(\"z\") is ERA5.Z and ERA5.Z is ERA5(\"geopotential\") and ERA5.Z == \"geopotential\"\n",
        "# assert ERA5((\"z\", \"t\")) == ERA5(list(\"zt\"))\n",
        "# assert\n",
        "# assert set(ERA5.difference(iter(\"tuv\"))) == set(ERA5).difference(ERA5(iter(\"tuv\")))\n",
        "ERA5(\"z\") == ERA5.Z, set(ERA5.difference(iter(\"tuv\"))) == set(ERA5).difference(ERA5(iter(\"tuv\")))"
      ]
    },
    {
      "cell_type": "code",
      "execution_count": 6,
      "metadata": {},
      "outputs": [
        {
          "name": "stdout",
          "output_type": "stream",
          "text": [
            "{temperature, v_component_of_wind, u_component_of_wind, specific_humidity, vertical_velocity, geopotential}\n",
            "{temperature, v_component_of_wind, u_component_of_wind, specific_humidity, vertical_velocity, geopotential}\n"
          ]
        }
      ],
      "source": [
        "print(\n",
        "    ERA5.difference(iter(\"tuv\")),\n",
        "    ERA5.difference(ERA5(iter(\"tuv\"))),\n",
        "    sep=\"\\n\",\n",
        ")"
      ]
    }
  ],
  "metadata": {
    "kernelspec": {
      "display_name": ".venv",
      "language": "python",
      "name": "python3"
    },
    "language_info": {
      "codemirror_mode": {
        "name": "ipython",
        "version": 3
      },
      "file_extension": ".py",
      "mimetype": "text/x-python",
      "name": "python",
      "nbconvert_exporter": "python",
      "pygments_lexer": "ipython3",
      "version": "3.10.12"
    },
    "orig_nbformat": 4
  },
  "nbformat": 4,
  "nbformat_minor": 2
}
