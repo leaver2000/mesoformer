{
 "cells": [
  {
   "cell_type": "code",
   "execution_count": 1,
   "metadata": {},
   "outputs": [
    {
     "data": {
      "text/html": [
       "\n",
       "                <script type=\"application/javascript\" id=\"jupyter_black\">\n",
       "                (function() {\n",
       "                    if (window.IPython === undefined) {\n",
       "                        return\n",
       "                    }\n",
       "                    var msg = \"WARNING: it looks like you might have loaded \" +\n",
       "                        \"jupyter_black in a non-lab notebook with \" +\n",
       "                        \"`is_lab=True`. Please double check, and if \" +\n",
       "                        \"loading with `%load_ext` please review the README!\"\n",
       "                    console.log(msg)\n",
       "                    alert(msg)\n",
       "                })()\n",
       "                </script>\n",
       "                "
      ],
      "text/plain": [
       "<IPython.core.display.HTML object>"
      ]
     },
     "metadata": {},
     "output_type": "display_data"
    }
   ],
   "source": [
    "%load_ext jupyter_black\n",
    "%load_ext autoreload\n",
    "%autoreload 2\n",
    "import sys\n",
    "\n",
    "sys.path.append(\"../\")"
   ]
  },
  {
   "cell_type": "code",
   "execution_count": 9,
   "metadata": {},
   "outputs": [
    {
     "data": {
      "text/plain": [
       "DatasetMetadata:\n",
       "        title: URMA\n",
       "  institution: NOAA/NWS/NCEP/EMC\n",
       "       source: Unrestricted Mesoscale Analysis (URMA) 2.5km CONUS\n",
       "      history: ...\n",
       "      comment: Unrestricted Mesoscale Analysis (URMA) 2.5km CONUS\n",
       "  coordinates: [{'short_name': 'lat', 'long_name': 'latitude', 'standard_name': 'latitude', 'units': 'degrees_north'}, {'short_name': 'lon', 'long_name': 'longitude', 'standard_name': 'longitude', 'units': 'degrees_east'}, {'short_name': 'time', 'long_name': 'initial time of forecast', 'standard_name': 'time', 'units': 'hours since 1900-01-01 00:00:00.0'}]\n",
       "          crs: \n",
       "  <Projected CRS: {\"$schema\": \"https://proj.org/schemas/v0.2/projjso ...>\n",
       "    Name: NDFD\n",
       "    Axis Info [cartesian]:\n",
       "    - E[east]: Easting (metre)\n",
       "    - N[north]: Northing (metre)\n",
       "    Area of Use:\n",
       "    - undefined\n",
       "    Coordinate Operation:\n",
       "    - name: unknown\n",
       "    - method: Lambert Conic Conformal (1SP)\n",
       "    Datum: World Geodetic System 1984 ensemble\n",
       "    - Ellipsoid: WGS 84\n",
       "    - Prime Meridian: Greenwich"
      ]
     },
     "execution_count": 9,
     "metadata": {},
     "output_type": "execute_result"
    }
   ],
   "source": [
    "from src.mesoformer.datasets.metadata import DatasetMetadata, ERA5Enum, URMAEnum, find_enums\n",
    "\n",
    "DatasetMetadata.from_title(\"urma\")"
   ]
  },
  {
   "cell_type": "code",
   "execution_count": 3,
   "metadata": {},
   "outputs": [
    {
     "data": {
      "text/plain": [
       "DatasetMetadata:\n",
       "        title: ERA5\n",
       "  institution: ECMWF\n",
       "       source: \n",
       "      history: \n",
       "      comment: \n",
       "  coordinates: [{'short_name': 'lat', 'long_name': 'latitude', 'standard_name': 'latitude', 'units': 'degrees_north'}, {'short_name': 'lon', 'long_name': 'longitude', 'standard_name': 'longitude', 'units': 'degrees_east'}, {'short_name': 'time', 'long_name': 'initial time of forecast', 'standard_name': 'time', 'units': 'hours since 1900-01-01 00:00:00.0'}, {'short_name': 'level', 'long_name': 'air pressure', 'standard_name': 'level', 'stored_direction': 'decreasing', 'units': 'hPa'}]\n",
       "          crs: \n",
       "  <Geographic 2D CRS: EPSG:4326>\n",
       "    Name: WGS 84\n",
       "    Axis Info [ellipsoidal]:\n",
       "    - Lat[north]: Geodetic latitude (degree)\n",
       "    - Lon[east]: Geodetic longitude (degree)\n",
       "    Area of Use:\n",
       "    - name: World.\n",
       "    - bounds: (-180.0, -90.0, 180.0, 90.0)\n",
       "    Datum: World Geodetic System 1984 ensemble\n",
       "    - Ellipsoid: WGS 84\n",
       "    - Prime Meridian: Greenwich"
      ]
     },
     "execution_count": 3,
     "metadata": {},
     "output_type": "execute_result"
    }
   ],
   "source": [
    "DatasetMetadata.from_title(\"era5\")"
   ]
  },
  {
   "cell_type": "code",
   "execution_count": 4,
   "metadata": {},
   "outputs": [
    {
     "data": {
      "text/plain": [
       "<Projected CRS: {\"$schema\": \"https://proj.org/schemas/v0.2/projjso ...>\n",
       "Name: NDFD\n",
       "Axis Info [cartesian]:\n",
       "- E[east]: Easting (metre)\n",
       "- N[north]: Northing (metre)\n",
       "Area of Use:\n",
       "- undefined\n",
       "Coordinate Operation:\n",
       "- name: unknown\n",
       "- method: Lambert Conic Conformal (1SP)\n",
       "Datum: World Geodetic System 1984 ensemble\n",
       "- Ellipsoid: WGS 84\n",
       "- Prime Meridian: Greenwich"
      ]
     },
     "execution_count": 4,
     "metadata": {},
     "output_type": "execute_result"
    }
   ],
   "source": [
    "URMAEnum."
   ]
  },
  {
   "cell_type": "code",
   "execution_count": 5,
   "metadata": {},
   "outputs": [
    {
     "name": "stdout",
     "output_type": "stream",
     "text": [
      "geopotential\n"
     ]
    }
   ],
   "source": [
    "assert ERA5Enum(\"z\") is ERA5Enum.Z and ERA5Enum.Z is ERA5Enum(\"geopotential\") and ERA5Enum.Z == \"geopotential\"\n",
    "print(ERA5Enum.Z)"
   ]
  },
  {
   "cell_type": "code",
   "execution_count": 6,
   "metadata": {},
   "outputs": [
    {
     "data": {
      "text/plain": [
       "[ERA5Enum['temperature'], ERA5Enum['geopotential']]"
      ]
     },
     "execution_count": 6,
     "metadata": {},
     "output_type": "execute_result"
    }
   ],
   "source": [
    "assert ERA5Enum(\"z\", \"t\") == ERA5Enum((\"z\", \"t\")) == ERA5Enum(iter(\"zt\"))\n",
    "dvars = ERA5Enum(\"t\", \"geopotential\")\n",
    "dvars"
   ]
  },
  {
   "cell_type": "code",
   "execution_count": 7,
   "metadata": {},
   "outputs": [
    {
     "data": {
      "text/plain": [
       "({ERA5Enum['temperature'],\n",
       "  ERA5Enum['u_component_of_wind'],\n",
       "  ERA5Enum['v_component_of_wind']},\n",
       " {ERA5Enum['geopotential'],\n",
       "  ERA5Enum['specific_humidity'],\n",
       "  ERA5Enum['vertical_velocity']})"
      ]
     },
     "execution_count": 7,
     "metadata": {},
     "output_type": "execute_result"
    }
   ],
   "source": [
    "assert ERA5Enum.difference(list(\"tuv\")) == set(ERA5Enum).difference(ERA5Enum(list(\"tuv\")))\n",
    "assert ERA5Enum.intersection(list(\"tuv\")) == set(ERA5Enum).intersection(ERA5Enum(list(\"tuv\")))\n",
    "\n",
    "\n",
    "ERA5Enum.intersection(list(\"tuv\")), ERA5Enum.difference(list(\"tuv\"))"
   ]
  },
  {
   "cell_type": "code",
   "execution_count": 11,
   "metadata": {},
   "outputs": [
    {
     "data": {
      "text/plain": [
       "[ERA5Enum['temperature'], URMAEnum['temperature_2m']]"
      ]
     },
     "execution_count": 11,
     "metadata": {},
     "output_type": "execute_result"
    }
   ],
   "source": [
    "find_enums([\"t\", \"t2m\"])"
   ]
  },
  {
   "cell_type": "code",
   "execution_count": 15,
   "metadata": {},
   "outputs": [
    {
     "data": {
      "text/plain": [
       "[ERA5Enum['v_component_of_wind'],\n",
       " ERA5Enum['temperature'],\n",
       " ERA5Enum['u_component_of_wind']]"
      ]
     },
     "execution_count": 15,
     "metadata": {},
     "output_type": "execute_result"
    }
   ],
   "source": [
    "find_enums(list(\"tuv\"))"
   ]
  }
 ],
 "metadata": {
  "kernelspec": {
   "display_name": ".venv",
   "language": "python",
   "name": "python3"
  },
  "language_info": {
   "codemirror_mode": {
    "name": "ipython",
    "version": 3
   },
   "file_extension": ".py",
   "mimetype": "text/x-python",
   "name": "python",
   "nbconvert_exporter": "python",
   "pygments_lexer": "ipython3",
   "version": "3.10.12"
  },
  "orig_nbformat": 4
 },
 "nbformat": 4,
 "nbformat_minor": 2
}
