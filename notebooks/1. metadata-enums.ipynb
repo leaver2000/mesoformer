{
  "cells": [
    {
      "cell_type": "code",
      "execution_count": 1,
      "metadata": {},
      "outputs": [
        {
          "data": {
            "text/html": [
              "\n",
              "                <script type=\"application/javascript\" id=\"jupyter_black\">\n",
              "                (function() {\n",
              "                    if (window.IPython === undefined) {\n",
              "                        return\n",
              "                    }\n",
              "                    var msg = \"WARNING: it looks like you might have loaded \" +\n",
              "                        \"jupyter_black in a non-lab notebook with \" +\n",
              "                        \"`is_lab=True`. Please double check, and if \" +\n",
              "                        \"loading with `%load_ext` please review the README!\"\n",
              "                    console.log(msg)\n",
              "                    alert(msg)\n",
              "                })()\n",
              "                </script>\n",
              "                "
            ],
            "text/plain": [
              "<IPython.core.display.HTML object>"
            ]
          },
          "metadata": {},
          "output_type": "display_data"
        },
        {
          "name": "stdout",
          "output_type": "stream",
          "text": [
            "member_names\n",
            "TCC             total_cloud_cover\n",
            "CEIL                      ceiling\n",
            "U10          u_wind_component_10m\n",
            "V10          v_wind_component_10m\n",
            "SI10               wind_speed_10m\n",
            "GUST              wind_speed_gust\n",
            "WDIR10         wind_direction_10m\n",
            "T2M                temperature_2m\n",
            "D2M       dewpoint_temperature_2m\n",
            "SH2          specific_humidity_2m\n",
            "SP               surface_pressure\n",
            "VIS                    visibility\n",
            "OROG                    orography\n",
            "Name: URMA, dtype: object\n",
            "Index(['TCC', 'CEIL', 'U10', 'V10', 'SI10', 'GUST', 'WDIR10', 'T2M', 'D2M',\n",
            "       'SH2', 'SP', 'VIS', 'OROG'],\n",
            "      dtype='string', name='member_names')\n",
            "defaultdict(<class 'dict'>, {'TCC': {}, 'CEIL': {}, 'U10': {}, 'V10': {}, 'SI10': {}, 'GUST': {}, 'WDIR10': {}, 'T2M': {}, 'D2M': {}, 'SH2': {}, 'SP': {}, 'VIS': {}, 'OROG': {}})\n",
            "Empty DataFrame\n",
            "Columns: [TCC, CEIL, U10, V10, SI10, GUST, WDIR10, T2M, D2M, SH2, SP, VIS, OROG]\n",
            "Index: []\n"
          ]
        },
        {
          "data": {
            "text/plain": [
              "TCC             total_cloud_cover\n",
              "CEIL                      ceiling\n",
              "U10          u_wind_component_10m\n",
              "V10          v_wind_component_10m\n",
              "SI10               wind_speed_10m\n",
              "GUST              wind_speed_gust\n",
              "WDIR10         wind_direction_10m\n",
              "T2M                temperature_2m\n",
              "D2M       dewpoint_temperature_2m\n",
              "SH2          specific_humidity_2m\n",
              "SP               surface_pressure\n",
              "VIS                    visibility\n",
              "OROG                    orography\n",
              "Name: URMA, dtype: object"
            ]
          },
          "execution_count": 1,
          "metadata": {},
          "output_type": "execute_result"
        }
      ],
      "source": [
        "%load_ext jupyter_black\n",
        "%load_ext autoreload\n",
        "%autoreload 2\n",
        "\n",
        "import pyproj\n",
        "from mesoscaler.enums import ERA5, URMA\n",
        "\n",
        "print(URMA._series, URMA._names, URMA._member_metadata, URMA._aliases,sep='\\n')\n",
        "URMA.to_series()"
      ]
    },
    {
      "cell_type": "code",
      "execution_count": 15,
      "metadata": {},
      "outputs": [
        {
          "data": {
            "text/plain": [
              "TCC             total_cloud_cover\n",
              "CEIL                      ceiling\n",
              "U10          u_wind_component_10m\n",
              "V10          v_wind_component_10m\n",
              "SI10               wind_speed_10m\n",
              "GUST              wind_speed_gust\n",
              "WDIR10         wind_direction_10m\n",
              "T2M                temperature_2m\n",
              "D2M       dewpoint_temperature_2m\n",
              "SH2          specific_humidity_2m\n",
              "SP               surface_pressure\n",
              "VIS                    visibility\n",
              "OROG                    orography\n",
              "Name: URMA, dtype: string"
            ]
          },
          "execution_count": 15,
          "metadata": {},
          "output_type": "execute_result"
        }
      ],
      "source": [
        "import enum\n",
        "\n",
        "from typing import Any\n",
        "\n",
        "_dtypes: dict[type, Any] = {str: \"string\"}\n",
        "dtype = _dtypes.get(next(x for x in URMA.mro() if not issubclass(x, enum.Enum)), \"object\")\n",
        "URMA.to_series().astype(dtype)"
      ]
    },
    {
      "cell_type": "code",
      "execution_count": 2,
      "metadata": {},
      "outputs": [
        {
          "data": {
            "text/plain": [
              "[total_cloud_cover]"
            ]
          },
          "execution_count": 2,
          "metadata": {},
          "output_type": "execute_result"
        }
      ],
      "source": [
        "URMA.loc[[\"TCC\"]]"
      ]
    },
    {
      "cell_type": "code",
      "execution_count": 3,
      "metadata": {},
      "outputs": [
        {
          "name": "stdout",
          "output_type": "stream",
          "text": [
            "{'crs': <Geographic 2D CRS: EPSG:4326>\n",
            "Name: WGS 84\n",
            "Axis Info [ellipsoidal]:\n",
            "- Lat[north]: Geodetic latitude (degree)\n",
            "- Lon[east]: Geodetic longitude (degree)\n",
            "Area of Use:\n",
            "- name: World.\n",
            "- bounds: (-180.0, -90.0, 180.0, 90.0)\n",
            "Datum: World Geodetic System 1984 ensemble\n",
            "- Ellipsoid: WGS 84\n",
            "- Prime Meridian: Greenwich\n",
            "}\n"
          ]
        }
      ],
      "source": [
        "# the crs is loaded lazily\n",
        "assert \"crs\" not in ERA5.metadata\n",
        "assert isinstance(ERA5.crs, pyproj.CRS)\n",
        "assert \"crs\" in ERA5.metadata\n",
        "\n",
        "print(ERA5.metadata, sep=\"\\n\")"
      ]
    },
    {
      "cell_type": "code",
      "execution_count": 4,
      "metadata": {},
      "outputs": [
        {
          "name": "stdout",
          "output_type": "stream",
          "text": [
            "{'crs': <Geographic 2D CRS: EPSG:4326>\n",
            "Name: WGS 84\n",
            "Axis Info [ellipsoidal]:\n",
            "- Lat[north]: Geodetic latitude (degree)\n",
            "- Lon[east]: Geodetic longitude (degree)\n",
            "Area of Use:\n",
            "- name: World.\n",
            "- bounds: (-180.0, -90.0, 180.0, 90.0)\n",
            "Datum: World Geodetic System 1984 ensemble\n",
            "- Ellipsoid: WGS 84\n",
            "- Prime Meridian: Greenwich\n",
            "}\n",
            "{'units': 'm**2 s**-2'}\n",
            "{'name': 'ERA5', '__mesometa_cls_data__': {'crs': <Geographic 2D CRS: EPSG:4326>\n",
            "Name: WGS 84\n",
            "Axis Info [ellipsoidal]:\n",
            "- Lat[north]: Geodetic latitude (degree)\n",
            "- Lon[east]: Geodetic longitude (degree)\n",
            "Area of Use:\n",
            "- name: World.\n",
            "- bounds: (-180.0, -90.0, 180.0, 90.0)\n",
            "Datum: World Geodetic System 1984 ensemble\n",
            "- Ellipsoid: WGS 84\n",
            "- Prime Meridian: Greenwich\n",
            "}, '__mesometa_member_data__': mappingproxy(defaultdict(<class 'dict'>, {'Z': {'units': 'm**2 s**-2'}, 'Q': {'units': 'kg kg**-1'}, 'T': {'units': 'K'}, 'U': {'units': 'm s**-1'}, 'V': {'units': 'm s**-1'}, 'W': {'units': 'Pa s**-1'}})), '__mesometa_member_aliases__':    Z  Q  T  U  V  W\n",
            "0  z  q  t  u  v  w, '__mesometa_series__': member_names\n",
            "Z           geopotential\n",
            "Q      specific_humidity\n",
            "T            temperature\n",
            "U    u_component_of_wind\n",
            "V    v_component_of_wind\n",
            "W      vertical_velocity\n",
            "Name: ERA5, dtype: object, '__mesometa_loc__': <mesoscaler.generic.Loc object at 0x7fbe0315dc00>}\n"
          ]
        }
      ],
      "source": [
        "print(\n",
        "    ERA5.metadata,\n",
        "    ERA5.Z.metadata,\n",
        "    ERA5.__metadata__,\n",
        "    sep=\"\\n\",\n",
        ")"
      ]
    },
    {
      "cell_type": "code",
      "execution_count": 5,
      "metadata": {},
      "outputs": [
        {
          "data": {
            "text/plain": [
              "(True, True)"
            ]
          },
          "execution_count": 5,
          "metadata": {},
          "output_type": "execute_result"
        }
      ],
      "source": [
        "assert ERA5(\"z\") is ERA5.Z and ERA5.Z is ERA5(\"geopotential\") and ERA5.Z == \"geopotential\"\n",
        "# assert ERA5((\"z\", \"t\")) == ERA5(list(\"zt\"))\n",
        "# assert\n",
        "# assert set(ERA5.difference(iter(\"tuv\"))) == set(ERA5).difference(ERA5(iter(\"tuv\")))\n",
        "ERA5(\"z\") == ERA5.Z, set(ERA5.difference(iter(\"tuv\"))) == set(ERA5).difference(ERA5(iter(\"tuv\")))"
      ]
    },
    {
      "cell_type": "code",
      "execution_count": 6,
      "metadata": {},
      "outputs": [
        {
          "name": "stdout",
          "output_type": "stream",
          "text": [
            "{temperature, v_component_of_wind, u_component_of_wind, specific_humidity, vertical_velocity, geopotential}\n",
            "{temperature, v_component_of_wind, u_component_of_wind, specific_humidity, vertical_velocity, geopotential}\n"
          ]
        }
      ],
      "source": [
        "print(\n",
        "    ERA5.difference(iter(\"tuv\")),\n",
        "    ERA5.difference(ERA5(iter(\"tuv\"))),\n",
        "    sep=\"\\n\",\n",
        ")"
      ]
    }
  ],
  "metadata": {
    "kernelspec": {
      "display_name": ".venv",
      "language": "python",
      "name": "python3"
    },
    "language_info": {
      "codemirror_mode": {
        "name": "ipython",
        "version": 3
      },
      "file_extension": ".py",
      "mimetype": "text/x-python",
      "name": "python",
      "nbconvert_exporter": "python",
      "pygments_lexer": "ipython3",
      "version": "3.10.12"
    },
    "orig_nbformat": 4
  },
  "nbformat": 4,
  "nbformat_minor": 2
}
