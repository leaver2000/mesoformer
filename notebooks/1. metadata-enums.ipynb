{
 "cells": [
  {
   "cell_type": "code",
   "execution_count": 1,
   "metadata": {},
   "outputs": [
    {
     "data": {
      "text/html": [
       "\n",
       "                <script type=\"application/javascript\" id=\"jupyter_black\">\n",
       "                (function() {\n",
       "                    if (window.IPython === undefined) {\n",
       "                        return\n",
       "                    }\n",
       "                    var msg = \"WARNING: it looks like you might have loaded \" +\n",
       "                        \"jupyter_black in a non-lab notebook with \" +\n",
       "                        \"`is_lab=True`. Please double check, and if \" +\n",
       "                        \"loading with `%load_ext` please review the README!\"\n",
       "                    console.log(msg)\n",
       "                    alert(msg)\n",
       "                })()\n",
       "                </script>\n",
       "                "
      ],
      "text/plain": [
       "<IPython.core.display.HTML object>"
      ]
     },
     "metadata": {},
     "output_type": "display_data"
    },
    {
     "name": "stdout",
     "output_type": "stream",
     "text": [
      "{'name': 'ERA5', 'data':                         0  1\n",
      "name                        \n",
      "Z            geopotential  z\n",
      "Q       specific_humidity  q\n",
      "T             temperature  t\n",
      "U     u_component_of_wind  u\n",
      "V     v_component_of_wind  v\n",
      "W       vertical_velocity  w, 'class_metadata': {}, 'member_metadata': mappingproxy(defaultdict(<class 'dict'>, {'Z': {'units': 'm**2 s**-2'}, 'Q': {'units': 'kg kg**-1'}, 'T': {'units': 'K'}, 'U': {'units': 'm s**-1'}, 'V': {'units': 'm s**-1'}, 'W': {'units': 'Pa s**-1'}}))}\n"
     ]
    }
   ],
   "source": [
    "%load_ext jupyter_black\n",
    "%load_ext autoreload\n",
    "%autoreload 2\n",
    "import sys\n",
    "\n",
    "sys.path.append(\"../\")\n",
    "\n",
    "\n",
    "import pyproj\n",
    "from src.mesoformer.enums import ERA5, URMA\n",
    "from src.mesoformer.enum_table import TableEnum\n",
    "\n",
    "print(ERA5.__metadata__, sep=\"\\n\")"
   ]
  },
  {
   "cell_type": "code",
   "execution_count": 2,
   "metadata": {},
   "outputs": [
    {
     "name": "stdout",
     "output_type": "stream",
     "text": [
      "Dimensions:\n",
      "alias:\n",
      "      0          1               2              3         4\n",
      "name                                                       \n",
      "T     T       time               t           None      None\n",
      "Z     Z      level          height              z  altitude\n",
      "Y     Y          y        latitude  grid_latitude      None\n",
      "X     X  longitude  grid_longitude              x      None\n",
      "member_metadata:\n",
      "{'T': {}, 'Z': {}, 'Y': {}, 'X': {}}\n",
      "class_metadata:\n",
      "{}\n",
      "\n",
      "Coordinates:\n",
      "alias:\n",
      "                   0               1       2      3\n",
      "name                                               \n",
      "time            time            None    None   None\n",
      "vertical    vertical        altitude  height  level\n",
      "latitude    latitude   grid_latitude    None   None\n",
      "longitude  longitude  grid_longitude    None   None\n",
      "member_metadata:\n",
      "{'time': {'axis': (T,)}, 'vertical': {'axis': (Z,)}, 'latitude': {'axis': (Y, X)}, 'longitude': {'axis': (Y, X)}, 'axis': {}}\n",
      "class_metadata:\n",
      "{}\n",
      "\n",
      "ERA5:\n",
      "alias:\n",
      "                        0  1\n",
      "name                        \n",
      "Z            geopotential  z\n",
      "Q       specific_humidity  q\n",
      "T             temperature  t\n",
      "U     u_component_of_wind  u\n",
      "V     v_component_of_wind  v\n",
      "W       vertical_velocity  w\n",
      "member_metadata:\n",
      "{'Z': {'units': 'm**2 s**-2'}, 'Q': {'units': 'kg kg**-1'}, 'T': {'units': 'K'}, 'U': {'units': 'm s**-1'}, 'V': {'units': 'm s**-1'}, 'W': {'units': 'Pa s**-1'}}\n",
      "class_metadata:\n",
      "{}\n",
      "\n",
      "URMA:\n",
      "alias:\n",
      "                              0\n",
      "name                           \n",
      "TCC           total_cloud_cover\n",
      "CEIL                    ceiling\n",
      "U10        u_wind_component_10m\n",
      "V10        v_wind_component_10m\n",
      "SI10             wind_speed_10m\n",
      "GUST            wind_speed_gust\n",
      "WDIR10       wind_direction_10m\n",
      "T2M              temperature_2m\n",
      "D2M     dewpoint_temperature_2m\n",
      "SH2        specific_humidity_2m\n",
      "SP             surface_pressure\n",
      "VIS                  visibility\n",
      "OROG                  orography\n",
      "member_metadata:\n",
      "{'TCC': {}, 'CEIL': {}, 'U10': {}, 'V10': {}, 'SI10': {}, 'GUST': {}, 'WDIR10': {}, 'T2M': {}, 'D2M': {}, 'SH2': {}, 'SP': {}, 'VIS': {}, 'OROG': {}}\n",
      "class_metadata:\n",
      "{}\n",
      "\n"
     ]
    }
   ],
   "source": [
    "URMA.describe()"
   ]
  },
  {
   "cell_type": "code",
   "execution_count": 3,
   "metadata": {},
   "outputs": [
    {
     "name": "stdout",
     "output_type": "stream",
     "text": [
      "{'crs': <Geographic 2D CRS: EPSG:4326>\n",
      "Name: WGS 84\n",
      "Axis Info [ellipsoidal]:\n",
      "- Lat[north]: Geodetic latitude (degree)\n",
      "- Lon[east]: Geodetic longitude (degree)\n",
      "Area of Use:\n",
      "- name: World.\n",
      "- bounds: (-180.0, -90.0, 180.0, 90.0)\n",
      "Datum: World Geodetic System 1984 ensemble\n",
      "- Ellipsoid: WGS 84\n",
      "- Prime Meridian: Greenwich\n",
      "}\n"
     ]
    }
   ],
   "source": [
    "# the crs is loaded lazily\n",
    "assert \"crs\" not in ERA5.metadata\n",
    "assert isinstance(ERA5.crs, pyproj.CRS)\n",
    "assert \"crs\" in ERA5.metadata\n",
    "\n",
    "print(ERA5.metadata, sep=\"\\n\")"
   ]
  },
  {
   "cell_type": "code",
   "execution_count": 4,
   "metadata": {},
   "outputs": [
    {
     "name": "stdout",
     "output_type": "stream",
     "text": [
      "{'crs': <Geographic 2D CRS: EPSG:4326>\n",
      "Name: WGS 84\n",
      "Axis Info [ellipsoidal]:\n",
      "- Lat[north]: Geodetic latitude (degree)\n",
      "- Lon[east]: Geodetic longitude (degree)\n",
      "Area of Use:\n",
      "- name: World.\n",
      "- bounds: (-180.0, -90.0, 180.0, 90.0)\n",
      "Datum: World Geodetic System 1984 ensemble\n",
      "- Ellipsoid: WGS 84\n",
      "- Prime Meridian: Greenwich\n",
      "}\n",
      "{'units': 'm**2 s**-2'}\n",
      "{'name': 'ERA5', 'data':                         0  1\n",
      "name                        \n",
      "Z            geopotential  z\n",
      "Q       specific_humidity  q\n",
      "T             temperature  t\n",
      "U     u_component_of_wind  u\n",
      "V     v_component_of_wind  v\n",
      "W       vertical_velocity  w, 'class_metadata': {'crs': <Geographic 2D CRS: EPSG:4326>\n",
      "Name: WGS 84\n",
      "Axis Info [ellipsoidal]:\n",
      "- Lat[north]: Geodetic latitude (degree)\n",
      "- Lon[east]: Geodetic longitude (degree)\n",
      "Area of Use:\n",
      "- name: World.\n",
      "- bounds: (-180.0, -90.0, 180.0, 90.0)\n",
      "Datum: World Geodetic System 1984 ensemble\n",
      "- Ellipsoid: WGS 84\n",
      "- Prime Meridian: Greenwich\n",
      "}, 'member_metadata': mappingproxy(defaultdict(<class 'dict'>, {'Z': {'units': 'm**2 s**-2'}, 'Q': {'units': 'kg kg**-1'}, 'T': {'units': 'K'}, 'U': {'units': 'm s**-1'}, 'V': {'units': 'm s**-1'}, 'W': {'units': 'Pa s**-1'}}))}\n"
     ]
    }
   ],
   "source": [
    "print(\n",
    "    ERA5.metadata,\n",
    "    ERA5.Z.metadata,\n",
    "    ERA5.__metadata__,\n",
    "    sep=\"\\n\",\n",
    ")"
   ]
  },
  {
   "cell_type": "code",
   "execution_count": 5,
   "metadata": {},
   "outputs": [],
   "source": [
    "assert ERA5(\"z\") is ERA5.Z and ERA5.Z is ERA5(\"geopotential\") and ERA5.Z == \"geopotential\"\n",
    "assert ERA5((\"z\", \"t\")) == ERA5(list(\"zt\"))\n",
    "assert ERA5(\"z\") == ERA5.Z\n",
    "assert set(ERA5.difference(iter(\"tuv\"))) == set(ERA5).difference(ERA5(iter(\"tuv\")))"
   ]
  },
  {
   "cell_type": "code",
   "execution_count": 6,
   "metadata": {},
   "outputs": [
    {
     "name": "stdout",
     "output_type": "stream",
     "text": [
      "[geopotential, specific_humidity, vertical_velocity]\n",
      "[geopotential, specific_humidity, vertical_velocity]\n"
     ]
    }
   ],
   "source": [
    "print(\n",
    "    ERA5.difference(iter(\"tuv\")),\n",
    "    ERA5.difference(ERA5(iter(\"tuv\"))),\n",
    "    sep=\"\\n\",\n",
    ")"
   ]
  }
 ],
 "metadata": {
  "kernelspec": {
   "display_name": ".venv",
   "language": "python",
   "name": "python3"
  },
  "language_info": {
   "codemirror_mode": {
    "name": "ipython",
    "version": 3
   },
   "file_extension": ".py",
   "mimetype": "text/x-python",
   "name": "python",
   "nbconvert_exporter": "python",
   "pygments_lexer": "ipython3",
   "version": "3.10.12"
  },
  "orig_nbformat": 4
 },
 "nbformat": 4,
 "nbformat_minor": 2
}
