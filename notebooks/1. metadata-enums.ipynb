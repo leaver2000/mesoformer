{
 "cells": [
  {
   "cell_type": "code",
   "execution_count": 1,
   "metadata": {},
   "outputs": [
    {
     "data": {
      "text/html": [
       "\n",
       "                <script type=\"application/javascript\" id=\"jupyter_black\">\n",
       "                (function() {\n",
       "                    if (window.IPython === undefined) {\n",
       "                        return\n",
       "                    }\n",
       "                    var msg = \"WARNING: it looks like you might have loaded \" +\n",
       "                        \"jupyter_black in a non-lab notebook with \" +\n",
       "                        \"`is_lab=True`. Please double check, and if \" +\n",
       "                        \"loading with `%load_ext` please review the README!\"\n",
       "                    console.log(msg)\n",
       "                    alert(msg)\n",
       "                })()\n",
       "                </script>\n",
       "                "
      ],
      "text/plain": [
       "<IPython.core.display.HTML object>"
      ]
     },
     "metadata": {},
     "output_type": "display_data"
    }
   ],
   "source": [
    "%load_ext jupyter_black\n",
    "%load_ext autoreload\n",
    "%autoreload 2\n",
    "import sys\n",
    "\n",
    "sys.path.append(\"../\")"
   ]
  },
  {
   "cell_type": "code",
   "execution_count": 2,
   "metadata": {},
   "outputs": [
    {
     "data": {
      "text/plain": [
       "DatasetMetadata:\n",
       "        title: URMA\n",
       "  institution: NOAA/NWS/NCEP/EMC\n",
       "       source: Unrestricted Mesoscale Analysis (URMA) 2.5km CONUS\n",
       "      history: ...\n",
       "      comment: Unrestricted Mesoscale Analysis (URMA) 2.5km CONUS\n",
       "  coordinates: [{'short_name': 'lat', 'long_name': 'latitude', 'standard_name': 'latitude', 'units': 'degrees_north'}, {'short_name': 'lon', 'long_name': 'longitude', 'standard_name': 'longitude', 'units': 'degrees_east'}, {'short_name': 'time', 'long_name': 'initial time of forecast', 'standard_name': 'time', 'units': 'hours since 1900-01-01 00:00:00.0'}]\n",
       "          crs: \n",
       "  <Projected CRS: {\"$schema\": \"https://proj.org/schemas/v0.2/projjso ...>\n",
       "    Name: NDFD\n",
       "    Axis Info [cartesian]:\n",
       "    - E[east]: Easting (metre)\n",
       "    - N[north]: Northing (metre)\n",
       "    Area of Use:\n",
       "    - undefined\n",
       "    Coordinate Operation:\n",
       "    - name: unknown\n",
       "    - method: Lambert Conic Conformal (1SP)\n",
       "    Datum: World Geodetic System 1984 ensemble\n",
       "    - Ellipsoid: WGS 84\n",
       "    - Prime Meridian: Greenwich"
      ]
     },
     "execution_count": 2,
     "metadata": {},
     "output_type": "execute_result"
    }
   ],
   "source": [
    "from src.mesoformer.datasets.metadata import DatasetMetadata\n",
    "\n",
    "DatasetMetadata.from_title(\"urma\")"
   ]
  },
  {
   "cell_type": "code",
   "execution_count": 3,
   "metadata": {},
   "outputs": [
    {
     "data": {
      "text/plain": [
       "DatasetMetadata:\n",
       "        title: ERA5\n",
       "  institution: ECMWF\n",
       "       source: \n",
       "      history: \n",
       "      comment: \n",
       "  coordinates: [{'short_name': 'lat', 'long_name': 'latitude', 'standard_name': 'latitude', 'units': 'degrees_north'}, {'short_name': 'lon', 'long_name': 'longitude', 'standard_name': 'longitude', 'units': 'degrees_east'}, {'short_name': 'time', 'long_name': 'initial time of forecast', 'standard_name': 'time', 'units': 'hours since 1900-01-01 00:00:00.0'}, {'short_name': 'level', 'long_name': 'air pressure', 'standard_name': 'level', 'stored_direction': 'decreasing', 'units': 'hPa'}]\n",
       "          crs: \n",
       "  <Geographic 2D CRS: EPSG:4326>\n",
       "    Name: WGS 84\n",
       "    Axis Info [ellipsoidal]:\n",
       "    - Lat[north]: Geodetic latitude (degree)\n",
       "    - Lon[east]: Geodetic longitude (degree)\n",
       "    Area of Use:\n",
       "    - name: World.\n",
       "    - bounds: (-180.0, -90.0, 180.0, 90.0)\n",
       "    Datum: World Geodetic System 1984 ensemble\n",
       "    - Ellipsoid: WGS 84\n",
       "    - Prime Meridian: Greenwich"
      ]
     },
     "execution_count": 3,
     "metadata": {},
     "output_type": "execute_result"
    }
   ],
   "source": [
    "DatasetMetadata.from_title(\"era5\")"
   ]
  },
  {
   "cell_type": "code",
   "execution_count": 4,
   "metadata": {},
   "outputs": [
    {
     "data": {
      "text/html": [
       "<div>\n",
       "<style scoped>\n",
       "    .dataframe tbody tr th:only-of-type {\n",
       "        vertical-align: middle;\n",
       "    }\n",
       "\n",
       "    .dataframe tbody tr th {\n",
       "        vertical-align: top;\n",
       "    }\n",
       "\n",
       "    .dataframe thead th {\n",
       "        text-align: right;\n",
       "    }\n",
       "</style>\n",
       "<table border=\"1\" class=\"dataframe\">\n",
       "  <thead>\n",
       "    <tr style=\"text-align: right;\">\n",
       "      <th></th>\n",
       "      <th>short_name</th>\n",
       "      <th>standard_name</th>\n",
       "      <th>long_name</th>\n",
       "      <th>coordinates</th>\n",
       "      <th>type_of_level</th>\n",
       "      <th>levels</th>\n",
       "      <th>description</th>\n",
       "      <th>units</th>\n",
       "    </tr>\n",
       "    <tr>\n",
       "      <th>member_name</th>\n",
       "      <th></th>\n",
       "      <th></th>\n",
       "      <th></th>\n",
       "      <th></th>\n",
       "      <th></th>\n",
       "      <th></th>\n",
       "      <th></th>\n",
       "      <th></th>\n",
       "    </tr>\n",
       "  </thead>\n",
       "  <tbody>\n",
       "    <tr>\n",
       "      <th>CEIL</th>\n",
       "      <td>ceil</td>\n",
       "      <td>ceiling</td>\n",
       "      <td>cloud ceiling</td>\n",
       "      <td>[latitude, longitude, time]</td>\n",
       "      <td>cloudCeiling</td>\n",
       "      <td>[0]</td>\n",
       "      <td></td>\n",
       "      <td>m</td>\n",
       "    </tr>\n",
       "    <tr>\n",
       "      <th>D2M</th>\n",
       "      <td>d2m</td>\n",
       "      <td>dewpoint_temperature_2m</td>\n",
       "      <td>2 meter dewpoint temperature</td>\n",
       "      <td>[latitude, longitude, time]</td>\n",
       "      <td>heightAboveGround</td>\n",
       "      <td>[2]</td>\n",
       "      <td></td>\n",
       "      <td>K</td>\n",
       "    </tr>\n",
       "    <tr>\n",
       "      <th>SH2</th>\n",
       "      <td>sh2</td>\n",
       "      <td>specific_humidity_2m</td>\n",
       "      <td>2 meter specific humidity</td>\n",
       "      <td>[latitude, longitude, time]</td>\n",
       "      <td>heightAboveGround</td>\n",
       "      <td>[2]</td>\n",
       "      <td></td>\n",
       "      <td>kg kg**-1</td>\n",
       "    </tr>\n",
       "    <tr>\n",
       "      <th>SP</th>\n",
       "      <td>sp</td>\n",
       "      <td>surface_pressure</td>\n",
       "      <td>surface pressure</td>\n",
       "      <td>[latitude, longitude, time]</td>\n",
       "      <td>surface</td>\n",
       "      <td>[0]</td>\n",
       "      <td></td>\n",
       "      <td>Pa</td>\n",
       "    </tr>\n",
       "    <tr>\n",
       "      <th>T2M</th>\n",
       "      <td>t2m</td>\n",
       "      <td>temperature_2m</td>\n",
       "      <td>2 meter temperature</td>\n",
       "      <td>[latitude, longitude, time]</td>\n",
       "      <td>heightAboveGround</td>\n",
       "      <td>[2]</td>\n",
       "      <td></td>\n",
       "      <td>K</td>\n",
       "    </tr>\n",
       "    <tr>\n",
       "      <th>TCC</th>\n",
       "      <td>tcc</td>\n",
       "      <td>total_cloud_cover</td>\n",
       "      <td>total cloud cover</td>\n",
       "      <td>[latitude, longitude, time]</td>\n",
       "      <td>atmosphereSingleLayer</td>\n",
       "      <td>[0]</td>\n",
       "      <td></td>\n",
       "      <td>%</td>\n",
       "    </tr>\n",
       "    <tr>\n",
       "      <th>U10</th>\n",
       "      <td>u10</td>\n",
       "      <td>u_wind_component_10m</td>\n",
       "      <td>10 meter u wind component</td>\n",
       "      <td>[latitude, longitude, time]</td>\n",
       "      <td>heightAboveGround</td>\n",
       "      <td>[10]</td>\n",
       "      <td></td>\n",
       "      <td>m s**-1</td>\n",
       "    </tr>\n",
       "    <tr>\n",
       "      <th>V10</th>\n",
       "      <td>v10</td>\n",
       "      <td>v_wind_component_10m</td>\n",
       "      <td>10 meter v wind component</td>\n",
       "      <td>[latitude, longitude, time]</td>\n",
       "      <td>heightAboveGround</td>\n",
       "      <td>[10]</td>\n",
       "      <td></td>\n",
       "      <td>m s**-1</td>\n",
       "    </tr>\n",
       "    <tr>\n",
       "      <th>VIS</th>\n",
       "      <td>vis</td>\n",
       "      <td>visibility</td>\n",
       "      <td>visibility</td>\n",
       "      <td>[latitude, longitude, time]</td>\n",
       "      <td>surface</td>\n",
       "      <td>[0]</td>\n",
       "      <td></td>\n",
       "      <td>m</td>\n",
       "    </tr>\n",
       "    <tr>\n",
       "      <th>WDIR10</th>\n",
       "      <td>wdir10</td>\n",
       "      <td>wind_direction_10m</td>\n",
       "      <td>10 meter wind direction</td>\n",
       "      <td>[latitude, longitude, time]</td>\n",
       "      <td>heightAboveGround</td>\n",
       "      <td>[10]</td>\n",
       "      <td></td>\n",
       "      <td>Degree true</td>\n",
       "    </tr>\n",
       "    <tr>\n",
       "      <th>SI10</th>\n",
       "      <td>si10</td>\n",
       "      <td>wind_speed_10m</td>\n",
       "      <td>10 meter wind speed</td>\n",
       "      <td>[latitude, longitude, time]</td>\n",
       "      <td>heightAboveGround</td>\n",
       "      <td>[10]</td>\n",
       "      <td></td>\n",
       "      <td>m s**-1</td>\n",
       "    </tr>\n",
       "    <tr>\n",
       "      <th>GUST</th>\n",
       "      <td>gust</td>\n",
       "      <td>wind_speed_gust</td>\n",
       "      <td>wind speed gust</td>\n",
       "      <td>[latitude, longitude, time]</td>\n",
       "      <td>heightAboveGround</td>\n",
       "      <td>[0]</td>\n",
       "      <td></td>\n",
       "      <td>m s**-1</td>\n",
       "    </tr>\n",
       "    <tr>\n",
       "      <th>OROG</th>\n",
       "      <td>orog</td>\n",
       "      <td>orography</td>\n",
       "      <td>surface orography</td>\n",
       "      <td>[latitude, longitude]</td>\n",
       "      <td>surface</td>\n",
       "      <td>[0]</td>\n",
       "      <td></td>\n",
       "      <td>m</td>\n",
       "    </tr>\n",
       "  </tbody>\n",
       "</table>\n",
       "</div>"
      ],
      "text/plain": [
       "            short_name            standard_name                     long_name  \\\n",
       "member_name                                                                     \n",
       "CEIL              ceil                  ceiling                 cloud ceiling   \n",
       "D2M                d2m  dewpoint_temperature_2m  2 meter dewpoint temperature   \n",
       "SH2                sh2     specific_humidity_2m     2 meter specific humidity   \n",
       "SP                  sp         surface_pressure              surface pressure   \n",
       "T2M                t2m           temperature_2m           2 meter temperature   \n",
       "TCC                tcc        total_cloud_cover             total cloud cover   \n",
       "U10                u10     u_wind_component_10m     10 meter u wind component   \n",
       "V10                v10     v_wind_component_10m     10 meter v wind component   \n",
       "VIS                vis               visibility                    visibility   \n",
       "WDIR10          wdir10       wind_direction_10m       10 meter wind direction   \n",
       "SI10              si10           wind_speed_10m           10 meter wind speed   \n",
       "GUST              gust          wind_speed_gust               wind speed gust   \n",
       "OROG              orog                orography             surface orography   \n",
       "\n",
       "                             coordinates          type_of_level levels  \\\n",
       "member_name                                                              \n",
       "CEIL         [latitude, longitude, time]           cloudCeiling    [0]   \n",
       "D2M          [latitude, longitude, time]      heightAboveGround    [2]   \n",
       "SH2          [latitude, longitude, time]      heightAboveGround    [2]   \n",
       "SP           [latitude, longitude, time]                surface    [0]   \n",
       "T2M          [latitude, longitude, time]      heightAboveGround    [2]   \n",
       "TCC          [latitude, longitude, time]  atmosphereSingleLayer    [0]   \n",
       "U10          [latitude, longitude, time]      heightAboveGround   [10]   \n",
       "V10          [latitude, longitude, time]      heightAboveGround   [10]   \n",
       "VIS          [latitude, longitude, time]                surface    [0]   \n",
       "WDIR10       [latitude, longitude, time]      heightAboveGround   [10]   \n",
       "SI10         [latitude, longitude, time]      heightAboveGround   [10]   \n",
       "GUST         [latitude, longitude, time]      heightAboveGround    [0]   \n",
       "OROG               [latitude, longitude]                surface    [0]   \n",
       "\n",
       "            description        units  \n",
       "member_name                           \n",
       "CEIL                               m  \n",
       "D2M                                K  \n",
       "SH2                        kg kg**-1  \n",
       "SP                                Pa  \n",
       "T2M                                K  \n",
       "TCC                                %  \n",
       "U10                          m s**-1  \n",
       "V10                          m s**-1  \n",
       "VIS                                m  \n",
       "WDIR10                   Degree true  \n",
       "SI10                         m s**-1  \n",
       "GUST                         m s**-1  \n",
       "OROG                               m  "
      ]
     },
     "execution_count": 4,
     "metadata": {},
     "output_type": "execute_result"
    }
   ],
   "source": [
    "from src.mesoformer.datasets.metadata import ERA5Enum, URMAEnum\n",
    "\n",
    "URMAEnum.to_dataframe()"
   ]
  },
  {
   "cell_type": "code",
   "execution_count": 5,
   "metadata": {},
   "outputs": [
    {
     "data": {
      "text/plain": [
       "<Projected CRS: {\"$schema\": \"https://proj.org/schemas/v0.2/projjso ...>\n",
       "Name: NDFD\n",
       "Axis Info [cartesian]:\n",
       "- E[east]: Easting (metre)\n",
       "- N[north]: Northing (metre)\n",
       "Area of Use:\n",
       "- undefined\n",
       "Coordinate Operation:\n",
       "- name: unknown\n",
       "- method: Lambert Conic Conformal (1SP)\n",
       "Datum: World Geodetic System 1984 ensemble\n",
       "- Ellipsoid: WGS 84\n",
       "- Prime Meridian: Greenwich"
      ]
     },
     "execution_count": 5,
     "metadata": {},
     "output_type": "execute_result"
    }
   ],
   "source": [
    "URMAEnum.crs"
   ]
  },
  {
   "cell_type": "code",
   "execution_count": 6,
   "metadata": {},
   "outputs": [
    {
     "name": "stdout",
     "output_type": "stream",
     "text": [
      "z\n"
     ]
    }
   ],
   "source": [
    "assert ERA5Enum(\"z\") is ERA5Enum.Z and ERA5Enum.Z is ERA5Enum(\"geopotential\") and ERA5Enum.Z == \"geopotential\"\n",
    "print(ERA5Enum.Z.short_name)"
   ]
  },
  {
   "cell_type": "code",
   "execution_count": 7,
   "metadata": {},
   "outputs": [
    {
     "data": {
      "text/plain": [
       "[ERA5Enum['temperature'], ERA5Enum['geopotential']]"
      ]
     },
     "execution_count": 7,
     "metadata": {},
     "output_type": "execute_result"
    }
   ],
   "source": [
    "assert ERA5Enum(\"z\", \"t\") == ERA5Enum((\"z\", \"t\")) == ERA5Enum(iter(\"zt\"))\n",
    "dvars = ERA5Enum(\"t\", \"geopotential\")\n",
    "dvars"
   ]
  }
 ],
 "metadata": {
  "kernelspec": {
   "display_name": ".venv",
   "language": "python",
   "name": "python3"
  },
  "language_info": {
   "codemirror_mode": {
    "name": "ipython",
    "version": 3
   },
   "file_extension": ".py",
   "mimetype": "text/x-python",
   "name": "python",
   "nbconvert_exporter": "python",
   "pygments_lexer": "ipython3",
   "version": "3.10.12"
  },
  "orig_nbformat": 4
 },
 "nbformat": 4,
 "nbformat_minor": 2
}
