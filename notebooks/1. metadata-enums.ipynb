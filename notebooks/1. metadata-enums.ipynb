{
  "cells": [
    {
      "cell_type": "code",
      "execution_count": 1,
      "metadata": {},
      "outputs": [
        {
          "data": {
            "text/html": [
              "\n",
              "                <script type=\"application/javascript\" id=\"jupyter_black\">\n",
              "                (function() {\n",
              "                    if (window.IPython === undefined) {\n",
              "                        return\n",
              "                    }\n",
              "                    var msg = \"WARNING: it looks like you might have loaded \" +\n",
              "                        \"jupyter_black in a non-lab notebook with \" +\n",
              "                        \"`is_lab=True`. Please double check, and if \" +\n",
              "                        \"loading with `%load_ext` please review the README!\"\n",
              "                    console.log(msg)\n",
              "                    alert(msg)\n",
              "                })()\n",
              "                </script>\n",
              "                "
            ],
            "text/plain": [
              "<IPython.core.display.HTML object>"
            ]
          },
          "metadata": {},
          "output_type": "display_data"
        },
        {
          "name": "stdout",
          "output_type": "stream",
          "text": [
            "member_names\n",
            "TCC             total_cloud_cover\n",
            "CEIL                      ceiling\n",
            "U10          u_wind_component_10m\n",
            "V10          v_wind_component_10m\n",
            "SI10               wind_speed_10m\n",
            "GUST              wind_speed_gust\n",
            "WDIR10         wind_direction_10m\n",
            "T2M                temperature_2m\n",
            "D2M       dewpoint_temperature_2m\n",
            "SH2          specific_humidity_2m\n",
            "SP               surface_pressure\n",
            "VIS                    visibility\n",
            "OROG                    orography\n",
            "Name: URMA, dtype: object\n",
            "Index(['TCC', 'CEIL', 'U10', 'V10', 'SI10', 'GUST', 'WDIR10', 'T2M', 'D2M',\n",
            "       'SH2', 'SP', 'VIS', 'OROG'],\n",
            "      dtype='string', name='member_names')\n",
            "defaultdict(<class 'dict'>, {'TCC': {}, 'CEIL': {}, 'U10': {}, 'V10': {}, 'SI10': {}, 'GUST': {}, 'WDIR10': {}, 'T2M': {}, 'D2M': {}, 'SH2': {}, 'SP': {}, 'VIS': {}, 'OROG': {}})\n",
            "Empty DataFrame\n",
            "Columns: [TCC, CEIL, U10, V10, SI10, GUST, WDIR10, T2M, D2M, SH2, SP, VIS, OROG]\n",
            "Index: []\n"
          ]
        },
        {
          "data": {
            "text/plain": [
              "TCC             total_cloud_cover\n",
              "CEIL                      ceiling\n",
              "U10          u_wind_component_10m\n",
              "V10          v_wind_component_10m\n",
              "SI10               wind_speed_10m\n",
              "GUST              wind_speed_gust\n",
              "WDIR10         wind_direction_10m\n",
              "T2M                temperature_2m\n",
              "D2M       dewpoint_temperature_2m\n",
              "SH2          specific_humidity_2m\n",
              "SP               surface_pressure\n",
              "VIS                    visibility\n",
              "OROG                    orography\n",
              "Name: URMA, dtype: object"
            ]
          },
          "execution_count": 1,
          "metadata": {},
          "output_type": "execute_result"
        }
      ],
      "source": [
        "%load_ext jupyter_black\n",
        "%load_ext autoreload\n",
        "%autoreload 2\n",
        "import sys\n",
        "\n",
        "sys.path.append(\"../\")\n",
        "\n",
        "\n",
        "import pyproj\n",
        "\n",
        "from src.mesoscaler.enums import ERA5, URMA, Coordinates, Dimensions\n",
        "from src.mesoscaler.enum_table import TableEnum\n",
        "print(URMA._series, URMA._names, URMA._member_metadata, URMA._aliases,sep='\\n')\n",
        "URMA.to_series()"
      ]
    },
    {
      "cell_type": "code",
      "execution_count": null,
      "metadata": {},
      "outputs": [],
      "source": []
    },
    {
      "cell_type": "code",
      "execution_count": null,
      "metadata": {},
      "outputs": [],
      "source": [
        "from __future__ import annotations\n",
        "from typing import Generic, TypeVar, Mapping, Callable, Protocol, overload, Hashable, Any, Iterable\n",
        "\n",
        "# from src.mesoscaler.typing import Scalar\n",
        "K = TypeVar(\"K\", bound=Hashable)\n",
        "V = TypeVar(\"V\")\n",
        "\n",
        "\n",
        "class MyMap(Mapping[K, V]):\n",
        "    def __init__(self, data: Mapping[K, V] | Iterable[tuple[K, V]]) -> None:\n",
        "        super().__init__()\n",
        "        self._data = dict(data)\n",
        "\n",
        "    @overload\n",
        "    def __getitem__(self, key: K) -> V:\n",
        "        ...\n",
        "\n",
        "    @overload\n",
        "    def __getitem__(self, key: list[K]) -> list[V]:\n",
        "        ...\n",
        "\n",
        "    def __getitem__(self, key: K | list[K]) -> V | list[V]:\n",
        "        if isinstance(key, list):\n",
        "            return [self._data[k] for k in key]\n",
        "        return self._data[key]\n",
        "\n",
        "    def __iter__(self) -> Iterable[K]:\n",
        "        return iter(self._data)\n",
        "\n",
        "    def __len__(self) -> int:\n",
        "        return len(self._data)"
      ]
    },
    {
      "cell_type": "code",
      "execution_count": null,
      "metadata": {},
      "outputs": [],
      "source": [
        "URMA.loc[[\"TCC\"]]"
      ]
    },
    {
      "cell_type": "code",
      "execution_count": null,
      "metadata": {},
      "outputs": [],
      "source": []
    },
    {
      "cell_type": "code",
      "execution_count": null,
      "metadata": {},
      "outputs": [],
      "source": [
        "# the crs is loaded lazily\n",
        "assert \"crs\" not in ERA5.metadata\n",
        "assert isinstance(ERA5.crs, pyproj.CRS)\n",
        "assert \"crs\" in ERA5.metadata\n",
        "\n",
        "print(ERA5.metadata, sep=\"\\n\")"
      ]
    },
    {
      "cell_type": "code",
      "execution_count": null,
      "metadata": {},
      "outputs": [],
      "source": [
        "print(\n",
        "    ERA5.metadata,\n",
        "    ERA5.Z.metadata,\n",
        "    ERA5.__metadata__,\n",
        "    sep=\"\\n\",\n",
        ")"
      ]
    },
    {
      "cell_type": "code",
      "execution_count": null,
      "metadata": {},
      "outputs": [],
      "source": [
        "assert ERA5(\"z\") is ERA5.Z and ERA5.Z is ERA5(\"geopotential\") and ERA5.Z == \"geopotential\"\n",
        "# assert ERA5((\"z\", \"t\")) == ERA5(list(\"zt\"))\n",
        "# assert\n",
        "# assert set(ERA5.difference(iter(\"tuv\"))) == set(ERA5).difference(ERA5(iter(\"tuv\")))\n",
        "ERA5(\"z\") == ERA5.Z, set(ERA5.difference(iter(\"tuv\"))) == set(ERA5).difference(ERA5(iter(\"tuv\")))"
      ]
    },
    {
      "cell_type": "code",
      "execution_count": null,
      "metadata": {},
      "outputs": [],
      "source": [
        "print(\n",
        "    ERA5.difference(iter(\"tuv\")),\n",
        "    ERA5.difference(ERA5(iter(\"tuv\"))),\n",
        "    sep=\"\\n\",\n",
        ")"
      ]
    }
  ],
  "metadata": {
    "kernelspec": {
      "display_name": ".venv",
      "language": "python",
      "name": "python3"
    },
    "language_info": {
      "codemirror_mode": {
        "name": "ipython",
        "version": 3
      },
      "file_extension": ".py",
      "mimetype": "text/x-python",
      "name": "python",
      "nbconvert_exporter": "python",
      "pygments_lexer": "ipython3",
      "version": "3.10.12"
    },
    "orig_nbformat": 4
  },
  "nbformat": 4,
  "nbformat_minor": 2
}
