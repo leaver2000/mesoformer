{
 "cells": [
  {
   "cell_type": "code",
   "execution_count": 1,
   "metadata": {},
   "outputs": [
    {
     "data": {
      "text/html": [
       "\n",
       "                <script type=\"application/javascript\" id=\"jupyter_black\">\n",
       "                (function() {\n",
       "                    if (window.IPython === undefined) {\n",
       "                        return\n",
       "                    }\n",
       "                    var msg = \"WARNING: it looks like you might have loaded \" +\n",
       "                        \"jupyter_black in a non-lab notebook with \" +\n",
       "                        \"`is_lab=True`. Please double check, and if \" +\n",
       "                        \"loading with `%load_ext` please review the README!\"\n",
       "                    console.log(msg)\n",
       "                    alert(msg)\n",
       "                })()\n",
       "                </script>\n",
       "                "
      ],
      "text/plain": [
       "<IPython.core.display.HTML object>"
      ]
     },
     "metadata": {},
     "output_type": "display_data"
    },
    {
     "name": "stdout",
     "output_type": "stream",
     "text": [
      "geopotential geopotential\n"
     ]
    },
    {
     "data": {
      "text/plain": [
       "False"
      ]
     },
     "execution_count": 1,
     "metadata": {},
     "output_type": "execute_result"
    }
   ],
   "source": [
    "%load_ext jupyter_black\n",
    "%load_ext autoreload\n",
    "%autoreload 2\n",
    "import sys\n",
    "\n",
    "sys.path.append(\"../\")\n",
    "from src.mesoformer.datasets.metadata import DatasetMetadata, ERA5Enum\n",
    "\n",
    "\n",
    "# x = ERA5Enum.intersection([\"z\"])\n",
    "import pandas as pd\n",
    "\n",
    "# def mask_index(df: pd.DataFrame) -> pd.Index:\n",
    "# ERA5Enum._member_map_.where(lambda df: df == \"z\").dropna(how=\"all\").index\n",
    "# m = ERA5Enum._member_map_.index[(ERA5Enum._member_map_ == \"z\").any(axis=1)]\n",
    "# m\n",
    "\n",
    "print(ERA5Enum(\"z\"), ERA5Enum[\"Z\"])\n",
    "# x = ERA5Enum.intersection(\"z\")\n",
    "# x\n",
    "ERA5Enum.to_frame().duplicated().any()\n",
    "# z = ERA5Enum[\"Z\"]\n",
    "# z = ERA5Enum(\"z\")\n",
    "# mask = (ERA5Enum._member_map_ == \"z\").any(axis=1)\n",
    "# ERA5Enum.mask_index(lambda df: df == \"z\")\n",
    "# ERA5Enum[mask[mask].index]"
   ]
  },
  {
   "cell_type": "code",
   "execution_count": null,
   "metadata": {},
   "outputs": [],
   "source": [
    "class Descriptor:\n",
    "    def __get__(self, obj, objtype):\n",
    "        print(obj, objtype)\n",
    "        print(\"get\")\n",
    "\n",
    "\n",
    "class A:\n",
    "    x = Descriptor()\n",
    "\n",
    "\n",
    "type(A.x)"
   ]
  },
  {
   "cell_type": "code",
   "execution_count": null,
   "metadata": {},
   "outputs": [],
   "source": [
    "from src.mesoformer.datasets.metadata import DatasetMetadata, ERA5Enum, URMAEnum, find_enums\n",
    "\n",
    "md = DatasetMetadata.from_title(\"urma\")\n",
    "\n",
    "# df = md.dvars[[\"long_name\", \"short_name\", \"standard_name\"]]\n",
    "# df.index = df.short_name.str.upper()\n",
    "# df.T.to_dict(\"list\")\n",
    "\n",
    "x = ERA5Enum([\"geopotential\"])\n",
    "\n",
    "x"
   ]
  },
  {
   "cell_type": "code",
   "execution_count": null,
   "metadata": {},
   "outputs": [],
   "source": [
    "DatasetMetadata.from_title(\"era5\")"
   ]
  },
  {
   "cell_type": "code",
   "execution_count": null,
   "metadata": {},
   "outputs": [],
   "source": [
    "ERA5Enum._member_map_\n",
    "ERA5Enum.md.dvars[[\"long_name\", \"short_name\", \"standard_name\"]]\n",
    "ERA5Enum[\"Z\"]\n",
    "\n",
    "# [[\"long_name\", \"description\"]]"
   ]
  },
  {
   "cell_type": "code",
   "execution_count": null,
   "metadata": {},
   "outputs": [],
   "source": [
    "ERA5Enum(\"z\") is ERA5Enum.Z and ERA5Enum.Z is ERA5Enum(\"geopotential\") and ERA5Enum.Z == \"geopotential\"\n",
    "print(ERA5Enum.Z)"
   ]
  },
  {
   "cell_type": "code",
   "execution_count": null,
   "metadata": {},
   "outputs": [],
   "source": [
    "assert ERA5Enum(\"z\", \"t\") == ERA5Enum((\"z\", \"t\")) == ERA5Enum(iter(\"zt\"))\n",
    "dvars = ERA5Enum(\"t\", \"geopotential\")\n",
    "dvars"
   ]
  },
  {
   "cell_type": "code",
   "execution_count": null,
   "metadata": {},
   "outputs": [],
   "source": [
    "assert ERA5Enum.difference(list(\"tuv\")) == set(ERA5Enum).difference(ERA5Enum(list(\"tuv\")))\n",
    "assert ERA5Enum.intersection(list(\"tuv\")) == set(ERA5Enum).intersection(ERA5Enum(list(\"tuv\")))\n",
    "\n",
    "\n",
    "ERA5Enum.intersection(list(\"tuv\")), ERA5Enum.difference(list(\"tuv\"))"
   ]
  },
  {
   "cell_type": "code",
   "execution_count": null,
   "metadata": {},
   "outputs": [],
   "source": [
    "find_enums([\"t\", \"t2m\"])"
   ]
  },
  {
   "cell_type": "code",
   "execution_count": null,
   "metadata": {},
   "outputs": [],
   "source": [
    "find_enums(list(\"tuv\"))"
   ]
  }
 ],
 "metadata": {
  "kernelspec": {
   "display_name": ".venv",
   "language": "python",
   "name": "python3"
  },
  "language_info": {
   "codemirror_mode": {
    "name": "ipython",
    "version": 3
   },
   "file_extension": ".py",
   "mimetype": "text/x-python",
   "name": "python",
   "nbconvert_exporter": "python",
   "pygments_lexer": "ipython3",
   "version": "3.10.12"
  },
  "orig_nbformat": 4
 },
 "nbformat": 4,
 "nbformat_minor": 2
}
