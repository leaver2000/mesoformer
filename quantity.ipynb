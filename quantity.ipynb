{
 "cells": [
  {
   "cell_type": "code",
   "execution_count": 1,
   "metadata": {},
   "outputs": [
    {
     "data": {
      "text/html": [
       "\n",
       "                <script type=\"application/javascript\" id=\"jupyter_black\">\n",
       "                (function() {\n",
       "                    if (window.IPython === undefined) {\n",
       "                        return\n",
       "                    }\n",
       "                    var msg = \"WARNING: it looks like you might have loaded \" +\n",
       "                        \"jupyter_black in a non-lab notebook with \" +\n",
       "                        \"`is_lab=True`. Please double check, and if \" +\n",
       "                        \"loading with `%load_ext` please review the README!\"\n",
       "                    console.log(msg)\n",
       "                    alert(msg)\n",
       "                })()\n",
       "                </script>\n",
       "                "
      ],
      "text/plain": [
       "<IPython.core.display.HTML object>"
      ]
     },
     "metadata": {},
     "output_type": "display_data"
    }
   ],
   "source": [
    "%load_ext jupyter_black\n",
    "%load_ext autoreload\n",
    "%autoreload 2"
   ]
  },
  {
   "cell_type": "code",
   "execution_count": 2,
   "metadata": {},
   "outputs": [],
   "source": [
    "from __future__ import annotations\n",
    "\n",
    "from typing import *  # pyright: ignore\n",
    "from decimal import Decimal\n",
    "from fractions import Fraction\n",
    "\n",
    "import numpy as np\n",
    "from numpy.typing import NDArray as _NDArray\n",
    "\n",
    "_T = TypeVar(\"_T\", bound=Any)\n",
    "NDArray: TypeAlias = _NDArray[_T]\n",
    "NestedSequence: TypeAlias = \"Sequence[_T | NestedSequence[_T]]\"\n",
    "\n",
    "Scalar: TypeAlias = float | int | Decimal | Fraction | np.number[Any]\n",
    "ScalarT = TypeVar(\"ScalarT\", bound=Scalar)\n",
    "\n",
    "\n",
    "ArrayLike: TypeAlias = \"NDArray[ScalarT] | NestedSequence[ScalarT]\""
   ]
  },
  {
   "cell_type": "code",
   "execution_count": 3,
   "metadata": {},
   "outputs": [],
   "source": [
    "import metpy.units\n",
    "import metpy.calc\n",
    "\n",
    "import pint\n",
    "from pint.registry import Quantity, Unit\n",
    "from pint.facets.plain import PlainQuantity, PlainUnit\n",
    "\n",
    "\n",
    "if TYPE_CHECKING:\n",
    "    from literal_unit import LiteralUnit  # pyright: ignore\n",
    "else:\n",
    "    LiteralUnit = str"
   ]
  },
  {
   "cell_type": "code",
   "execution_count": 25,
   "metadata": {},
   "outputs": [
    {
     "data": {
      "text/plain": [
       "(<Unit('pixel / inch')>, <Unit('pixel / inch')>)"
      ]
     },
     "execution_count": 25,
     "metadata": {},
     "output_type": "execute_result"
    }
   ],
   "source": [
    "import pint.registry\n",
    "\n",
    "\n",
    "ureg = pint.UnitRegistry()\n",
    "\n",
    "\n",
    "def unit(x: Any):\n",
    "    return ureg.Unit(x)\n",
    "\n",
    "\n",
    "# ureg = pint.registry.GenericUnitRegistry()\n",
    "ureg.default_format = \".3f~P\"\n",
    "\n",
    "# • [time]\n",
    "s = unit(\"second\")\n",
    "min_ = unit(\"minute\")\n",
    "hr = unit(\"hour\")\n",
    "\n",
    "\n",
    "# • [temperature]\n",
    "K = unit(\"kelvin\")\n",
    "C = unit(\"celsius\")\n",
    "F = unit(\"fahrenheit\")\n",
    "\n",
    "\n",
    "# • [length]\n",
    "m = unit(\"meter\")\n",
    "km = unit(\"kilometer\")\n",
    "\n",
    "in_ = unit(\"inch\")\n",
    "ft = unit(\"foot\")\n",
    "mi = unit(\"mile\")\n",
    "\n",
    "\n",
    "# • pressure\n",
    "Pa = unit(\"pascal\")\n",
    "hPa = unit(\"hectopascal\")\n",
    "kPa = unit(\"kilopascal\")\n",
    "mbar = unit(\"millibar\")\n",
    "\n",
    "# • energy\n",
    "J = unit(\"joule\")\n",
    "kJ = unit(\"kilojoule\")\n",
    "cal = unit(\"calorie\")\n",
    "kcal = unit(\"kilocalorie\")\n",
    "mol = unit(\"mole\")\n",
    "\n",
    "# - [mass]\n",
    "kg = unit(\"kilogram\")\n",
    "\n",
    "\n",
    "# - angle\n",
    "deg = unit(\"degree\")\n",
    "rad = unit(\"radian\")\n",
    "\n",
    "\n",
    "dimensionless = unit(\"dimensionless\")\n",
    "# - speed\n",
    "mps = m / s\n",
    "kph = km / hr\n",
    "mph = mi / hr\n",
    "kts = unit(\"knot\")\n",
    "\n",
    "# - image processing\n",
    "px = unit(\"pixel\")\n",
    "dpi = unit(\"dot/inch\")\n",
    "ppi = unit(\"pixel/inch\")\n"
   ]
  },
  {
   "cell_type": "code",
   "execution_count": 5,
   "metadata": {},
   "outputs": [],
   "source": [
    "from src.mesoformer.utils import as_any_array\n",
    "\n",
    "\n",
    "def unit(x: Any):\n",
    "    return ureg(x).units\n",
    "\n",
    "\n",
    "def isscaler(x: Any) -> TypeGuard[Scalar]:\n",
    "    return np.isscalar(x.magnitude if isinstance(x, Quantity) else x)\n",
    "\n",
    "\n",
    "@overload\n",
    "def quantity(\n",
    "    x: ScalarT,\n",
    "    unit: pint.Unit | Quantity | LiteralUnit | PlainUnit | PlainQuantity = dimensionless,\n",
    ") -> PlainQuantity[ScalarT]:\n",
    "    ...\n",
    "\n",
    "\n",
    "@overload\n",
    "def quantity(\n",
    "    x: ArrayLike[ScalarT],\n",
    "    unit: pint.Unit | Quantity | LiteralUnit | PlainUnit | PlainQuantity = dimensionless,\n",
    ") -> PlainQuantity[NDArray[ScalarT]]:  # type: ignore\n",
    "    ...\n",
    "\n",
    "\n",
    "def quantity(\n",
    "    x: ScalarT | ArrayLike[ScalarT],\n",
    "    unit: pint.Unit | Quantity | LiteralUnit | PlainUnit | PlainQuantity = dimensionless,\n",
    ") -> PlainQuantity[ScalarT] | PlainQuantity[NDArray[ScalarT]]:  # type: ignore\n",
    "    unit = ureg(unit) if isinstance(unit, str) else unit\n",
    "    return (x if isscaler(x) else np.asanyarray(x)) * unit  # type: ignore\n",
    "\n",
    "\n",
    "@as_any_array(np.float32)\n",
    "def normalize(x: NDArray[np.number]) -> NDArray[np.float_]:\n",
    "    return (x - x.min(keepdims=True)) / (x.max(keepdims=True) - x.min(keepdims=True))\n",
    "\n",
    "\n",
    "@ureg.wraps(dimensionless, hPa)\n",
    "def log_p(x) -> Quantity:\n",
    "    return np.log(x)\n",
    "\n",
    "\n",
    "@ureg.wraps(dimensionless, hPa)\n",
    "def exp_p(x) -> Quantity:\n",
    "    return np.exp(x)"
   ]
  },
  {
   "cell_type": "code",
   "execution_count": 6,
   "metadata": {},
   "outputs": [],
   "source": [
    "EARTH_GRAVITY = g = quantity(9.80665, m / s**2)\n",
    "\"\"\">>> EARTH_GRAVITY `little g`\"\"\"\n",
    "GRAVITATIONAL_CONSTANT = G = quantity(6.67408e-11, m**3 / kg / s**2)\n",
    "\"\"\"`big G`\"\"\" \"\"\n",
    "EARTH_RADIUS = Re = quantity(6371008.7714, m)\n",
    "GEOCENTRIC_GRAVITATIONAL_CONSTANT = GM = quantity(3986005e8, m**3 / s**2)\n",
    "EARTH_MASS = Me = GEOCENTRIC_GRAVITATIONAL_CONSTANT / GRAVITATIONAL_CONSTANT\n",
    "\n",
    "\n",
    "ABSOLUTE_ZERO = K0 = quantity(-273.15, K)\n",
    "MOLAR_GAS_CONSTANT = R = quantity(8.314462618, J / mol / K)\n",
    "\n",
    "\n",
    "STANDARD_TEMPERATURE = t0 = quantity(288.0, K)\n",
    "\"\"\"Standard temperature at sea level.\"\"\"\n",
    "STANDARD_PRESSURE = p0 = quantity(1013.25, hPa)\n",
    "\"\"\"Standard pressure at sea level.\"\"\"\n",
    "STANDARD_LAPSE_RATE = gamma = quantity(6.5, K / km)\n",
    "\"\"\"Standard lapse rate.\"\"\"\n",
    "\n",
    "MOLAR_GAS_CONSTANT = R = quantity(8.314462618, J / mol / K)\n",
    "DRY_AIR_MOLECULAR_WEIGHT_RATIO = Md = quantity(28.96546e-3, kg / mol)\n",
    "\n",
    "# Dry air\n",
    "\n",
    "DRY_AIR_GAS_CONST = Rd = quantity(R / Md)\n",
    "# Md = dry_air_molecular_weight = units.Quantity(28.96546e-3, 'kg / mol')\n",
    "# Rd = dry_air_gas_constant = R / Md\n",
    "DRY_AIR_SPECIFIC_HEAT_RATIO = dash_r = quantity(1.4)\n",
    "DRY_AIR_SPECIFIC_HEAT_PRESSURE = Cp_d = quantity(dash_r * Rd / (dash_r - 1))\n",
    "DRY_AIR_SPECIFIC_HEAT_VOLUME = Cv_d = quantity(Cp_d / dash_r)\n",
    "P0 = pot_temp_ref_press = 1000.0 * mbar\n",
    "DRY_AIR_DENSITY_STP = rho_d = quantity(P0 / (Rd * -K0)).to(kg / m**3)\n",
    "# rho_d = dry_air_density_stp = quantity(P0 / (Rd * -K0)).to(\"kg / m^3\")\n",
    "# Dry air\n",
    "DRY_AIR_MOLECULAR_WEIGHT_RATIO = Md = 28.96546e-3 * kg / mol\n",
    "DRY_AIR_GAS_CONST = Rd = R / Md\n",
    "# Md = dry_air_molecular_weight = units.Quantity(28.96546e-3, 'kg / mol')\n",
    "# Rd = dry_air_gas_constant = R / Md\n",
    "# dry_air_spec_heat_ratio = 1.4 * dimensionless\n",
    "# Cp_d = dry_air_spec_heat_press = dry_air_spec_heat_ratio * Rd / (dry_air_spec_heat_ratio - 1)\n",
    "# Cv_d = dry_air_spec_heat_vol = Cp_d / dry_air_spec_heat_ratio\n",
    "# P0 = pot_temp_ref_press = 1000.0 * mbar\n",
    "# rho_d = dry_air_density_stp = quantity(P0 / (Rd * -K0)).to(kg / m**3)\n",
    "# Cp_d, Cv_d, _CP, Cv_d / Cp_d"
   ]
  },
  {
   "cell_type": "code",
   "execution_count": 19,
   "metadata": {},
   "outputs": [],
   "source": [
    "from numbers import Number\n",
    "\n",
    "\n",
    "def pressure2height(pressure: PlainQuantity[NDArray[Any]]) -> PlainQuantity[float]:\n",
    "    return t0 / gamma * (1 - (pressure / p0) ** (Rd * gamma / g))\n",
    "\n",
    "\n",
    "def height2pressure(height: PlainQuantity[float | int] | NDArray) -> PlainQuantity[float]:\n",
    "    return p0 * (1 - (gamma / t0) * height) ** (g / (Rd * gamma))\n",
    "\n",
    "\n",
    "STANDARD_ATMOSPHERE = p_levels = [1013.25, *map(float, range(1000, 25 - 11, -25))]\n",
    "# levels = [850.0, 700.0, 500.0, 300.0]\n",
    "assert np.all(pressure2height(p_levels * hPa) == metpy.calc.pressure_to_height_std(p_levels * metpy.units.units.hPa))\n",
    "\n",
    "heights = pressure2height(p_levels * hPa)\n",
    "assert np.all(\n",
    "    metpy.calc.height_to_pressure_std(metpy.calc.pressure_to_height_std(p_levels * metpy.units.units.hPa))\n",
    "    == height2pressure(pressure2height(p_levels * hPa))\n",
    ")"
   ]
  },
  {
   "cell_type": "code",
   "execution_count": 8,
   "metadata": {},
   "outputs": [
    {
     "data": {
      "text/html": [
       "<table><tbody><tr><th>Magnitude</th><td style='text-align:left;'><pre>[1013.25 1000.0 975.0 950.0 925.0 900.0 875.0 850.0 825.0 800.0 775.0<br> 750.0 725.0 700.0 675.0 650.0 625.0 600.0 575.0 550.0 525.0 500.0 475.0<br> 450.0 425.0 400.0 375.0 350.0 325.0 300.0 275.0 250.0 225.0 200.0 175.0<br> 150.0 125.0 100.0 75.0 50.0 25.0]</pre></td></tr><tr><th>Units</th><td style='text-align:left;'>hPa</td></tr></tbody></table>"
      ],
      "text/latex": [
       "$\\begin{pmatrix} &  &  &  &  &  &  &  &  &  &  &  &  &  &  &  &  &  &  &  &  &  &  &  &  &  &  &  &  &  &  &  &  &  &  &  &  &  &  &  & \\end{pmatrix}\\ \\mathrm{hPa}$"
      ],
      "text/plain": [
       "array([1013.25, 1000.  ,  975.  ,  950.  ,  925.  ,  900.  ,  875.  ,\n",
       "        850.  ,  825.  ,  800.  ,  775.  ,  750.  ,  725.  ,  700.  ,\n",
       "        675.  ,  650.  ,  625.  ,  600.  ,  575.  ,  550.  ,  525.  ,\n",
       "        500.  ,  475.  ,  450.  ,  425.  ,  400.  ,  375.  ,  350.  ,\n",
       "        325.  ,  300.  ,  275.  ,  250.  ,  225.  ,  200.  ,  175.  ,\n",
       "        150.  ,  125.  ,  100.  ,   75.  ,   50.  ,   25.  ]) <Unit('hectopascal')>"
      ]
     },
     "execution_count": 8,
     "metadata": {},
     "output_type": "execute_result"
    }
   ],
   "source": [
    "import matplotlib.pyplot as plt\n",
    "\n",
    "p_levels = quantity([1013.25, *map(float, range(1000, 25 - 11, -25))], unit=hPa)\n",
    "p_levels"
   ]
  },
  {
   "cell_type": "code",
   "execution_count": 18,
   "metadata": {},
   "outputs": [
    {
     "data": {
      "text/html": [
       "<table><tbody><tr><th>Magnitude</th><td style='text-align:left;'><pre>[-0.0 0.11082463191827029 0.3232070008045167 0.5400457639046174<br> 0.7615554828072778 0.9879671974242984 1.2195301902939262<br> 1.4565139962849931 1.6992107001633152 1.947937573358983<br> 2.2030401123457213 2.464895554945448 2.7339169684442477 3.010558025783667<br> 3.2953186148078832 3.588751462706507 3.891470006302654 4.204157802769398<br> 4.527579860480632 4.862596384290676 5.21017958563185 5.571434423209202<br> 5.947624441471662 6.340204302290991 6.7508612240611585 7.181568453172953<br> 7.634655260977472 8.112900062019325 8.619656564404572 9.159028242671463<br> 9.736115444461602 10.357375151717509 11.031162002595584<br> 11.768573960438642 12.58483772014436 13.501714709781766 14.55200350500616<br> 15.788845929720818 17.307853736092145 19.312405402539174<br> 22.400622183232443]</pre></td></tr><tr><th>Units</th><td style='text-align:left;'>km</td></tr></tbody></table>"
      ],
      "text/latex": [
       "$\\begin{pmatrix} &  &  &  &  &  &  &  &  &  &  &  &  &  &  &  &  &  &  &  &  &  &  &  &  &  &  &  &  &  &  &  &  &  &  &  &  &  &  &  & \\end{pmatrix}\\ \\mathrm{km}$"
      ],
      "text/plain": [
       "array([-0.        ,  0.11082463,  0.323207  ,  0.54004576,  0.76155548,\n",
       "        0.9879672 ,  1.21953019,  1.456514  ,  1.6992107 ,  1.94793757,\n",
       "        2.20304011,  2.46489555,  2.73391697,  3.01055803,  3.29531861,\n",
       "        3.58875146,  3.89147001,  4.2041578 ,  4.52757986,  4.86259638,\n",
       "        5.21017959,  5.57143442,  5.94762444,  6.3402043 ,  6.75086122,\n",
       "        7.18156845,  7.63465526,  8.11290006,  8.61965656,  9.15902824,\n",
       "        9.73611544, 10.35737515, 11.031162  , 11.76857396, 12.58483772,\n",
       "       13.50171471, 14.55200351, 15.78884593, 17.30785374, 19.3124054 ,\n",
       "       22.40062218]) <Unit('kilometer')>"
      ]
     },
     "execution_count": 18,
     "metadata": {},
     "output_type": "execute_result"
    }
   ],
   "source": [
    "p_heights = pressure2height(p_levels)\n",
    "p_heights"
   ]
  },
  {
   "cell_type": "code",
   "execution_count": 10,
   "metadata": {},
   "outputs": [],
   "source": [
    "import pandas as pd\n",
    "import matplotlib.pyplot as plt\n",
    "\n",
    "ureg.setup_matplotlib()\n",
    "plot_kwargs: dict[str, Any] = dict(linestyle=\"-\", linewidth=0.75, marker=\".\")\n",
    "\n",
    "\n",
    "def plot_over_y(y: Any, x_dict: dict[str, Any], ax=None, **kwargs):\n",
    "    ax = ax or plt.gca()\n",
    "    legends = list(x_dict.keys())\n",
    "    for key in legends:\n",
    "        ax.plot(y, np.asanyarray(x_dict[key]), label=key, **(kwargs | plot_kwargs))\n",
    "\n",
    "    ax.legend()"
   ]
  },
  {
   "cell_type": "code",
   "execution_count": 11,
   "metadata": {},
   "outputs": [
    {
     "data": {
      "image/png": "[encoded data removed]",
      "text/plain": [
       "<Figure size 800x600 with 1 Axes>"
      ]
     },
     "metadata": {},
     "output_type": "display_data"
    }
   ],
   "source": [
    "fig = plt.figure(figsize=(8, 6))\n",
    "ax = fig.add_subplot(111)\n",
    "ax.invert_xaxis()\n",
    "\n",
    "norm_data = {\n",
    "    \"height\": normalize(p_heights),\n",
    "    \"log_p\": normalize(log_p(p_levels)),\n",
    "    \"scale\": normalize(log_p(p_levels))[::-1],  # type: ignore\n",
    "}\n",
    "plot_over_y(p_levels, norm_data)\n",
    "\n",
    "\n",
    "plt.show()"
   ]
  },
  {
   "cell_type": "code",
   "execution_count": 12,
   "metadata": {},
   "outputs": [
    {
     "data": {
      "text/plain": [
       "(array([1.        , 0.99644434, 0.98960555, 0.98258895, 0.9753853 ,\n",
       "        0.96798426, 0.96037465, 0.95254457, 0.94448066, 0.93616855,\n",
       "        0.9275926 , 0.9187354 , 0.9095778 , 0.90009886, 0.89027524,\n",
       "        0.8800808 , 0.86948645, 0.8584596 , 0.8469633 , 0.834956  ,\n",
       "        0.82238984, 0.80921066, 0.79535526, 0.7807506 , 0.7653108 ,\n",
       "        0.74893486, 0.73150164, 0.7128652 , 0.69284713, 0.67122585,\n",
       "        0.64772224, 0.621977  , 0.5935168 , 0.5617011 , 0.5256314 ,\n",
       "        0.48399213, 0.43474323, 0.37446743, 0.2967584 , 0.18723372,\n",
       "        0.        ], dtype=float32),\n",
       " array([0.        , 0.99644434, 0.98960555, 0.98258895, 0.9753853 ,\n",
       "        0.96798426, 0.96037465, 0.95254457, 0.94448066, 0.93616855,\n",
       "        0.9275926 , 0.9187354 , 0.9095778 , 0.90009886, 0.89027524,\n",
       "        0.8800808 , 0.86948645, 0.8584596 , 0.8469633 , 0.834956  ,\n",
       "        0.82238984, 0.80921066, 0.79535526, 0.7807506 , 0.7653108 ,\n",
       "        0.74893486, 0.73150164, 0.7128652 , 0.69284713, 0.67122585,\n",
       "        0.64772224, 0.621977  , 0.5935168 , 0.5617011 , 0.5256314 ,\n",
       "        0.48399213, 0.43474323, 0.37446743, 0.2967584 , 0.18723372,\n",
       "        0.        ], dtype=float32))"
      ]
     },
     "execution_count": 12,
     "metadata": {},
     "output_type": "execute_result"
    }
   ],
   "source": [
    "p_targets = quantity([1013.25, 850, 700, 500, 300], hPa)\n",
    "mask = np.isin(p_levels, p_targets)  # type: ignore\n",
    "x = normalize(log_p(p_levels))\n",
    "x, x % 1"
   ]
  },
  {
   "cell_type": "code",
   "execution_count": null,
   "metadata": {},
   "outputs": [],
   "source": [
    "log_p(p_levels)"
   ]
  },
  {
   "cell_type": "code",
   "execution_count": 14,
   "metadata": {},
   "outputs": [
    {
     "data": {
      "text/html": [
       "<table><tbody><tr><th>Magnitude</th><td style='text-align:left;'><pre>[1013.25 1000.0 975.0 950.0 925.0 900.0 875.0 850.0 825.0 800.0 775.0<br> 750.0 725.0 700.0 675.0 650.0 625.0 600.0 575.0 550.0 525.0 500.0 475.0<br> 450.0 425.0 400.0 375.0 350.0 325.0 300.0 275.0 250.0 225.0 200.0 175.0<br> 150.0 125.0 100.0 75.0 50.0 25.0]</pre></td></tr><tr><th>Units</th><td style='text-align:left;'>hPa</td></tr></tbody></table>"
      ],
      "text/latex": [
       "$\\begin{pmatrix} &  &  &  &  &  &  &  &  &  &  &  &  &  &  &  &  &  &  &  &  &  &  &  &  &  &  &  &  &  &  &  &  &  &  &  &  &  &  &  & \\end{pmatrix}\\ \\mathrm{hPa}$"
      ],
      "text/plain": [
       "array([1013.25, 1000.  ,  975.  ,  950.  ,  925.  ,  900.  ,  875.  ,\n",
       "        850.  ,  825.  ,  800.  ,  775.  ,  750.  ,  725.  ,  700.  ,\n",
       "        675.  ,  650.  ,  625.  ,  600.  ,  575.  ,  550.  ,  525.  ,\n",
       "        500.  ,  475.  ,  450.  ,  425.  ,  400.  ,  375.  ,  350.  ,\n",
       "        325.  ,  300.  ,  275.  ,  250.  ,  225.  ,  200.  ,  175.  ,\n",
       "        150.  ,  125.  ,  100.  ,   75.  ,   50.  ,   25.  ]) <Unit('hectopascal')>"
      ]
     },
     "execution_count": 14,
     "metadata": {},
     "output_type": "execute_result"
    }
   ],
   "source": [
    "p_levels"
   ]
  },
  {
   "cell_type": "code",
   "execution_count": null,
   "metadata": {},
   "outputs": [],
   "source": [
    "pressure2height(p_levels)"
   ]
  },
  {
   "cell_type": "code",
   "execution_count": null,
   "metadata": {},
   "outputs": [],
   "source": [
    "logh = np.log(pressure2height(p_levels).m + 1)\n",
    "(normalize(logh * 30) + 1) * 30"
   ]
  },
  {
   "cell_type": "code",
   "execution_count": null,
   "metadata": {},
   "outputs": [],
   "source": [
    "log_p(p_levels).magnitude"
   ]
  },
  {
   "cell_type": "code",
   "execution_count": 16,
   "metadata": {},
   "outputs": [
    {
     "data": {
      "text/plain": [
       "(array([1.       , 1.1872337, 1.2967584, 1.3744674, 1.4347432, 1.4839921,\n",
       "        1.5256314, 1.561701 , 1.5935168, 1.621977 , 1.6477222, 1.6712258,\n",
       "        1.6928471, 1.7128651, 1.7315016, 1.7489349, 1.7653108, 1.7807505,\n",
       "        1.7953553, 1.8092107, 1.8223898, 1.8349559, 1.8469633, 1.8584596,\n",
       "        1.8694865, 1.8800808, 1.8902752, 1.9000988, 1.9095778, 1.9187354,\n",
       "        1.9275925, 1.9361686, 1.9444807, 1.9525446, 1.9603746, 1.9679842,\n",
       "        1.9753853, 1.982589 , 1.9896055, 1.9964443, 2.       ],\n",
       "       dtype=float32),\n",
       " array([1.       , 1.0016568, 1.0048615, 1.0081738, 1.0116009, 1.0151497,\n",
       "        1.0188286, 1.0226461, 1.026612 , 1.0307372, 1.0350331, 1.0395132,\n",
       "        1.0441923, 1.0490865, 1.0542142, 1.0595964, 1.0652568, 1.0712218,\n",
       "        1.0775224, 1.0841938, 1.091277 , 1.09882  , 1.1068785, 1.1155194,\n",
       "        1.1248221, 1.1348832, 1.1458198, 1.1577777, 1.1709399, 1.1855406,\n",
       "        1.2018844, 1.2203782, 1.2415795, 1.2662787, 1.2956431, 1.3314879,\n",
       "        1.3768378, 1.4372284, 1.5242972, 1.6687572, 2.       ],\n",
       "       dtype=float32))"
      ]
     },
     "execution_count": 16,
     "metadata": {},
     "output_type": "execute_result"
    }
   ],
   "source": [
    "def create_scale(scale: NDArray[float], value: float = 1.0, ratio: float = 1.0):\n",
    "    return ((normalize(scale) * ratio) + 1) * value\n",
    "\n",
    "\n",
    "create_scale(log_p(p_levels).magnitude, value=1.0, ratio=1.0)[::-1]\n",
    "\n",
    "\n",
    "def create_scale2(scale: NDArray[float], value: float = 1.0, ratio: float = 1.0):\n",
    "    return normalize(value / scale) + 1\n",
    "\n",
    "\n",
    "create_scale(log_p(p_levels).magnitude, value=1.0, ratio=1.0)[::-1], create_scale2(log_p(p_levels).m, value=30)"
   ]
  },
  {
   "cell_type": "code",
   "execution_count": 17,
   "metadata": {},
   "outputs": [
    {
     "name": "stdout",
     "output_type": "stream",
     "text": [
      "URMA_GRID_SPACING = 2.5 km/pixel\n",
      "ERA5_GRID_SPACING = 30.0 km/pixel\n"
     ]
    },
    {
     "data": {
      "text/html": [
       "<div>\n",
       "<style scoped>\n",
       "    .dataframe tbody tr th:only-of-type {\n",
       "        vertical-align: middle;\n",
       "    }\n",
       "\n",
       "    .dataframe tbody tr th {\n",
       "        vertical-align: top;\n",
       "    }\n",
       "\n",
       "    .dataframe thead th {\n",
       "        text-align: right;\n",
       "    }\n",
       "</style>\n",
       "<table border=\"1\" class=\"dataframe\">\n",
       "  <thead>\n",
       "    <tr style=\"text-align: right;\">\n",
       "      <th></th>\n",
       "      <th>scale</th>\n",
       "      <th>extent</th>\n",
       "    </tr>\n",
       "  </thead>\n",
       "  <tbody>\n",
       "    <tr>\n",
       "      <th>300.00</th>\n",
       "      <td>30.062061</td>\n",
       "      <td>2404.964844</td>\n",
       "    </tr>\n",
       "    <tr>\n",
       "      <th>500.00</th>\n",
       "      <td>27.548679</td>\n",
       "      <td>2203.894531</td>\n",
       "    </tr>\n",
       "    <tr>\n",
       "      <th>700.00</th>\n",
       "      <td>23.885956</td>\n",
       "      <td>1910.876465</td>\n",
       "    </tr>\n",
       "    <tr>\n",
       "      <th>850.00</th>\n",
       "      <td>19.351034</td>\n",
       "      <td>1548.082764</td>\n",
       "    </tr>\n",
       "    <tr>\n",
       "      <th>1013.25</th>\n",
       "      <td>2.500000</td>\n",
       "      <td>200.000000</td>\n",
       "    </tr>\n",
       "  </tbody>\n",
       "</table>\n",
       "</div>"
      ],
      "text/plain": [
       "             scale       extent\n",
       "300.00   30.062061  2404.964844\n",
       "500.00   27.548679  2203.894531\n",
       "700.00   23.885956  1910.876465\n",
       "850.00   19.351034  1548.082764\n",
       "1013.25   2.500000   200.000000"
      ]
     },
     "execution_count": 17,
     "metadata": {},
     "output_type": "execute_result"
    },
    {
     "data": {
      "image/png": "[encoded data removed]",
      "text/plain": [
       "<Figure size 1200x600 with 2 Axes>"
      ]
     },
     "metadata": {},
     "output_type": "display_data"
    }
   ],
   "source": [
    "URMA_GRID_SPACING = 2.5 * km / px\n",
    "ERA5_GRID_SPACING = 30.0 * km / px\n",
    "TARGET = 200.0 * km\n",
    "RESAMPLE_RATIO = 12.0\n",
    "# In meteorology, the synoptic scale (also called the large scale or cyclonic scale)\n",
    "# is a horizontal length scale of the order of 1,000 km (620 mi) or more\n",
    "\n",
    "# Meso-alpha:\n",
    "#   200–2000 km scale of phenomena like fronts, squall lines, meso-scale\n",
    "#   convective systems (MCS), tropical cyclones at the edge of synoptic scale\n",
    "#\n",
    "# Meso-beta:\n",
    "#   20–200 km scale of phenomena like sea breezes, lake effect snow storms\n",
    "#\n",
    "# Meso-gamma:\n",
    "#   2–20 km scale of phenomena like thunderstorm convection, complex\n",
    "#   terrain flows (at the edge to micro-scale, also known as storm-scale)\n",
    "\n",
    "print(f\"{URMA_GRID_SPACING = :~P}\\n{ERA5_GRID_SPACING = :~P}\")\n",
    "\n",
    "logp_ = log_p(p_levels).m\n",
    "\n",
    "\n",
    "fig, (ax1, ax2) = plt.subplots(1, 2, figsize=(12, 6))\n",
    "ax1.invert_yaxis()\n",
    "ax2.invert_yaxis()\n",
    "Y = p_levels\n",
    "\n",
    "x1 = create_scale(logp_, URMA_GRID_SPACING, RESAMPLE_RATIO)[::-1]\n",
    "ax1.plot(x1, Y, **plot_kwargs)\n",
    "ax1.set_title(\"scale\")\n",
    "\n",
    "x2 = create_scale(logp_, TARGET, RESAMPLE_RATIO)[::-1]\n",
    "ax2.plot(x2, Y, **plot_kwargs)\n",
    "ax2.set_title(\"extent\")\n",
    "\n",
    "pd.DataFrame(dict(scale=x1, extent=x2), index=Y).loc[[300, 500, 700, 850, 1013.25]]  # type: ignore"
   ]
  },
  {
   "cell_type": "code",
   "execution_count": null,
   "metadata": {},
   "outputs": [],
   "source": [
    "300 / (normalize(log_p(p_levels)[::-1]) + 1)"
   ]
  },
  {
   "cell_type": "code",
   "execution_count": null,
   "metadata": {},
   "outputs": [],
   "source": [
    "def create_dataframe(\n",
    "    data: NDArray[float],\n",
    "    # extent: NDArray[float],\n",
    "    index: NDArray[float],\n",
    "    s: float,\n",
    "    e: float,\n",
    "    ratio: NDArray[float] | float = 1.0,\n",
    "    # ratio:float = 1.0,\n",
    "    # columns: NDArray[float],\n",
    "):\n",
    "    return pd.DataFrame(\n",
    "        dict(\n",
    "            scale=create_scale(data, value=s, ratio=ratio),\n",
    "            extent=create_scale(data, value=e, ratio=ratio),\n",
    "        ),\n",
    "        index=index,\n",
    "        # columns=columns,\n",
    "    )\n",
    "\n",
    "\n",
    "scaled_extent = (\n",
    "    create_dataframe(\n",
    "        log_p(p_levels).magnitude[::-1],\n",
    "        p_levels,\n",
    "        s=URMA_GRID_SPACING,\n",
    "        e=TARGET,\n",
    "        ratio=pressure2height(p_levels).magnitude * 10,\n",
    "        # columns=p_levels,\n",
    "    )\n",
    "    # .loc[[1013.25, 850, 700, 500, 300]]\n",
    ")\n",
    "\n",
    "\n",
    "fig, (ax1, ax2) = plt.subplots(1, 2, figsize=(12, 6))\n",
    "ax1.invert_yaxis()\n",
    "ax2.invert_yaxis()\n",
    "Y = scaled_extent.index.to_numpy() * hPa\n",
    "ax1.plot(scaled_extent[\"scale\"].to_numpy() * km, Y, **plot_kwargs)\n",
    "ax1.set_title(\"scale\")\n",
    "ax2.plot(scaled_extent[\"extent\"].to_numpy() * km, Y, **plot_kwargs)\n",
    "ax2.set_title(\"extent\")\n",
    "scaled_extent.loc[[1013.25, 850, 700, 500, 300]].sort_index()"
   ]
  },
  {
   "cell_type": "code",
   "execution_count": null,
   "metadata": {},
   "outputs": [],
   "source": [
    "import pandas as pd\n",
    "\n",
    "ax = plt.axes()\n",
    "ax.invert_yaxis()\n",
    "\n",
    "norm = X = (normalize(p_levels) + 1) * dimensionless  # type: ignore\n",
    "scale = Y = normalize(log_p(p_levels))[::-1] + 1 * dimensionless  # type: ignore\n",
    "\n",
    "\n",
    "df = data_frame(scale=scale, levels=p_levels)\n",
    "df.plot.line(x=\"scale\", y=\"levels\", ax=ax, label=\"scale\", **plot_kwargs)\n",
    "\n",
    "df.iloc[::4]"
   ]
  },
  {
   "cell_type": "code",
   "execution_count": null,
   "metadata": {},
   "outputs": [],
   "source": []
  },
  {
   "cell_type": "code",
   "execution_count": null,
   "metadata": {},
   "outputs": [],
   "source": [
    "p_targets = quantity([1013.25, 850, 700, 500, 300], hPa)\n",
    "mask = np.isin(p_levels, p_targets)  # type: ignore\n",
    "\n",
    "scale[mask]\n",
    "\n",
    "# (pressure2height(p_targets) * ((scale[mask] / 1.25) + 1) * 200)"
   ]
  }
 ],
 "metadata": {
  "kernelspec": {
   "display_name": ".venv",
   "language": "python",
   "name": "python3"
  },
  "language_info": {
   "codemirror_mode": {
    "name": "ipython",
    "version": 3
   },
   "file_extension": ".py",
   "mimetype": "text/x-python",
   "name": "python",
   "nbconvert_exporter": "python",
   "pygments_lexer": "ipython3",
   "version": "3.10.12"
  },
  "orig_nbformat": 4
 },
 "nbformat": 4,
 "nbformat_minor": 2
}
