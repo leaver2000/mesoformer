{
 "cells": [
  {
   "cell_type": "code",
   "execution_count": 1,
   "metadata": {},
   "outputs": [
    {
     "data": {
      "text/html": [
       "\n",
       "                <script type=\"application/javascript\" id=\"jupyter_black\">\n",
       "                (function() {\n",
       "                    if (window.IPython === undefined) {\n",
       "                        return\n",
       "                    }\n",
       "                    var msg = \"WARNING: it looks like you might have loaded \" +\n",
       "                        \"jupyter_black in a non-lab notebook with \" +\n",
       "                        \"`is_lab=True`. Please double check, and if \" +\n",
       "                        \"loading with `%load_ext` please review the README!\"\n",
       "                    console.log(msg)\n",
       "                    alert(msg)\n",
       "                })()\n",
       "                </script>\n",
       "                "
      ],
      "text/plain": [
       "<IPython.core.display.HTML object>"
      ]
     },
     "metadata": {},
     "output_type": "display_data"
    }
   ],
   "source": [
    "%load_ext jupyter_black\n",
    "%load_ext autoreload\n",
    "%autoreload 2"
   ]
  },
  {
   "cell_type": "code",
   "execution_count": 2,
   "metadata": {},
   "outputs": [],
   "source": [
    "from __future__ import annotations\n",
    "\n",
    "from typing import *  # pyright: ignore\n",
    "\n",
    "import numpy as np\n",
    "from numpy.typing import NDArray, ArrayLike, DTypeLike"
   ]
  },
  {
   "cell_type": "code",
   "execution_count": 6,
   "metadata": {},
   "outputs": [],
   "source": [
    "import metpy.units\n",
    "import metpy.calc\n",
    "\n",
    "import pint\n",
    "from pint.registry import Quantity\n",
    "from pint.facets.plain import PlainQuantity\n",
    "from pint.facets.plain.quantity import MagnitudeT, Scalar\n",
    "\n",
    "if TYPE_CHECKING:\n",
    "    from literal_unit import LiteralUnit\n",
    "else:\n",
    "    LiteralUnit = str"
   ]
  },
  {
   "cell_type": "code",
   "execution_count": 117,
   "metadata": {},
   "outputs": [],
   "source": [
    "import pint.registry\n",
    "\n",
    "\n",
    "ureg = pint.UnitRegistry()\n",
    "\n",
    "\n",
    "def unit(x: Any):\n",
    "    return ureg(x).units\n",
    "\n",
    "\n",
    "# ureg = pint.registry.GenericUnitRegistry()\n",
    "ureg.default_format = \".3f~P\"\n",
    "\n",
    "# • [time]\n",
    "s = unit(\"second\")\n",
    "min_ = unit(\"minute\")\n",
    "hr = unit(\"hour\")\n",
    "\n",
    "\n",
    "# • [temperature]\n",
    "K = unit(\"kelvin\")\n",
    "C = unit(\"celsius\")\n",
    "F = unit(\"fahrenheit\")\n",
    "\n",
    "\n",
    "# • [length]\n",
    "m = unit(\"meter\")\n",
    "km = unit(\"kilometer\")\n",
    "\n",
    "in_ = unit(\"inch\")\n",
    "ft = unit(\"foot\")\n",
    "mi = unit(\"mile\")\n",
    "\n",
    "\n",
    "# • pressure\n",
    "Pa = unit(\"pascal\")\n",
    "hPa = unit(\"hectopascal\")\n",
    "kPa = unit(\"kilopascal\")\n",
    "mbar = unit(\"millibar\")\n",
    "\n",
    "# • energy\n",
    "J = unit(\"joule\")\n",
    "kJ = unit(\"kilojoule\")\n",
    "cal = unit(\"calorie\")\n",
    "kcal = unit(\"kilocalorie\")\n",
    "mol = unit(\"mole\")\n",
    "\n",
    "# - [mass]\n",
    "kg = unit(\"kilogram\")\n",
    "\n",
    "\n",
    "# - angle\n",
    "deg = unit(\"degree\")\n",
    "rad = unit(\"radian\")\n",
    "\n",
    "\n",
    "dimensionless = unit(\"dimensionless\")\n",
    "# - speed\n",
    "mps = m / s\n",
    "kph = km / hr\n",
    "mph = mi / hr\n",
    "kts = unit(\"knot\")\n",
    "\n",
    "# - image processing\n",
    "px = unit(\"pixel\")\n",
    "dpi = unit(\"dot/inch\")\n",
    "ppi = unit(\"pixel/inch\")"
   ]
  },
  {
   "cell_type": "code",
   "execution_count": 115,
   "metadata": {},
   "outputs": [
    {
     "data": {
      "text/html": [
       "9.80665 m/s<sup>2</sup>"
      ],
      "text/latex": [
       "$9.80665\\ \\frac{\\mathrm{m}}{\\mathrm{s}^{2}}$"
      ],
      "text/plain": [
       "9.80665 <Unit('meter / second ** 2')>"
      ]
     },
     "execution_count": 115,
     "metadata": {},
     "output_type": "execute_result"
    }
   ],
   "source": [
    "# type(m.units / s.units**2)\n",
    "\n",
    "# 9.80665 * m.units / s.units**2"
   ]
  },
  {
   "cell_type": "code",
   "execution_count": 118,
   "metadata": {},
   "outputs": [
    {
     "data": {
      "text/html": [
       "9.80665 m/s<sup>2</sup>"
      ],
      "text/latex": [
       "$9.80665\\ \\frac{\\mathrm{m}}{\\mathrm{s}^{2}}$"
      ],
      "text/plain": [
       "9.80665 <Unit('meter / second ** 2')>"
      ]
     },
     "execution_count": 118,
     "metadata": {},
     "output_type": "execute_result"
    }
   ],
   "source": [
    "def unit(x: Any):\n",
    "    return ureg(x).units\n",
    "\n",
    "\n",
    "def isscaler(x: Any) -> TypeGuard[Scalar]:\n",
    "    return np.isscalar(x.magnitude if isinstance(x, Quantity) else x)\n",
    "\n",
    "\n",
    "def quantity(x: MagnitudeT, unit: pint.Unit | Quantity | LiteralUnit = dimensionless) -> PlainQuantity[MagnitudeT]:\n",
    "    unit = ureg(unit) if isinstance(unit, str) else unit\n",
    "    return (x if isscaler(x) else np.asanyarray(x)) * unit  # type: ignore\n",
    "\n",
    "\n",
    "quantity(9.80665, m / s**2)"
   ]
  },
  {
   "cell_type": "code",
   "execution_count": 73,
   "metadata": {},
   "outputs": [],
   "source": [
    "\n",
    "EARTH_GRAVITY = g = quantity(9.80665, m / s**2)\n",
    "\"\"\">>> EARTH_GRAVITY `little g`\"\"\"\n",
    "GRAVITATIONAL_CONSTANT = G = quantity(6.67408e-11, m**3 / kg / s**2)\n",
    "\"\"\"`big G`\"\"\"\"\"\n",
    "EARTH_RADIUS = Re = quantity(6371008.7714, m)\n",
    "GEOCENTRIC_GRAVITATIONAL_CONSTANT = GM = quantity(3986005e8, m**3 / s**2)\n",
    "EARTH_MASS = Me = GEOCENTRIC_GRAVITATIONAL_CONSTANT / GRAVITATIONAL_CONSTANT\n",
    "\n",
    "\n",
    "ABSOLUTE_ZERO = K0 = quantity(-273.15, K)\n",
    "MOLAR_GAS_CONSTANT = R = quantity(8.314462618, J / mol / K)\n",
    "\n",
    "\n",
    "STANDARD_TEMPERATURE = t0 = 288.0 * K\n",
    "\"\"\"Standard temperature at sea level.\"\"\"\n",
    "p0 = 1013.25 * hPa  # type: PlainQuantity[float]\n",
    "\"\"\"Standard pressure at sea level.\"\"\"\n",
    "LAPSE_RATE = gamma = 6.5 * K / km\n",
    "\"\"\"Standard lapse rate.\"\"\"\n",
    "\n",
    "MOLAR_GAS_CONSTANT = R = quantity(8.314462618, J / mol / K)\n",
    "DRY_AIR_MOLECULAR_WEIGHT_RATIO = Md = quantity(28.96546e-3, kg / mol)\n",
    "\n",
    "# Dry air\n",
    "\n",
    "DRY_AIR_GAS_CONST = Rd = R / Md\n",
    "# Md = dry_air_molecular_weight = units.Quantity(28.96546e-3, 'kg / mol')\n",
    "# Rd = dry_air_gas_constant = R / Md\n",
    "dry_air_spec_heat_ratio = 1.4 * dimensionless\n",
    "Cp_d = dry_air_spec_heat_press = dry_air_spec_heat_ratio * Rd / (dry_air_spec_heat_ratio - 1)\n",
    "Cv_d = dry_air_spec_heat_vol = Cp_d / dry_air_spec_heat_ratio\n",
    "P0 = pot_temp_ref_press = 1000.0 * mbar\n",
    "rho_d = dry_air_density_stp = (P0 / (Rd * -K0)).to(\"kg / m^3\")\n",
    "# Dry air\n",
    "DRY_AIR_MOLECULAR_WEIGHT_RATIO = Md = 28.96546e-3 * kg / mol\n",
    "DRY_AIR_GAS_CONST = Rd = R / Md\n",
    "# Md = dry_air_molecular_weight = units.Quantity(28.96546e-3, 'kg / mol')\n",
    "# Rd = dry_air_gas_constant = R / Md\n",
    "dry_air_spec_heat_ratio = 1.4 * dimensionless\n",
    "Cp_d = dry_air_spec_heat_press = dry_air_spec_heat_ratio * Rd / (dry_air_spec_heat_ratio - 1)\n",
    "Cv_d = dry_air_spec_heat_vol = Cp_d / dry_air_spec_heat_ratio\n",
    "P0 = pot_temp_ref_press = 1000.0 * mbar\n",
    "rho_d = dry_air_density_stp = (P0 / (Rd * -K0)).to(\"kg / m^3\")"
   ]
  },
  {
   "cell_type": "code",
   "execution_count": 101,
   "metadata": {},
   "outputs": [],
   "source": [
    "def pressure2height(pressure: PlainQuantity[float | int]) -> PlainQuantity[float]:\n",
    "    return t0 / gamma * (1 - (pressure / p0) ** (Rd * gamma / g))\n",
    "\n",
    "\n",
    "def height2pressure(height: PlainQuantity[float | int] | NDArray) -> PlainQuantity[float]:\n",
    "    return p0 * (1 - (gamma / t0) * height) ** (g / (Rd * gamma))\n",
    "\n",
    "\n",
    "levels = [850.0, 700.0, 500.0, 300.0]\n",
    "assert np.all(pressure2height(levels * hPa) == metpy.calc.pressure_to_height_std(levels * metpy.units.units.hPa))\n",
    "\n",
    "heights = pressure2height(levels * hPa)\n",
    "assert np.all(\n",
    "    metpy.calc.height_to_pressure_std(metpy.calc.pressure_to_height_std(levels * metpy.units.units.hPa))\n",
    "    == height2pressure(pressure2height(levels * hPa))\n",
    ")"
   ]
  }
 ],
 "metadata": {
  "kernelspec": {
   "display_name": ".venv",
   "language": "python",
   "name": "python3"
  },
  "language_info": {
   "codemirror_mode": {
    "name": "ipython",
    "version": 3
   },
   "file_extension": ".py",
   "mimetype": "text/x-python",
   "name": "python",
   "nbconvert_exporter": "python",
   "pygments_lexer": "ipython3",
   "version": "3.10.12"
  },
  "orig_nbformat": 4
 },
 "nbformat": 4,
 "nbformat_minor": 2
}
