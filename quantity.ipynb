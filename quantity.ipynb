{
 "cells": [
  {
   "cell_type": "code",
   "execution_count": 1,
   "metadata": {},
   "outputs": [
    {
     "data": {
      "text/html": [
       "\n",
       "                <script type=\"application/javascript\" id=\"jupyter_black\">\n",
       "                (function() {\n",
       "                    if (window.IPython === undefined) {\n",
       "                        return\n",
       "                    }\n",
       "                    var msg = \"WARNING: it looks like you might have loaded \" +\n",
       "                        \"jupyter_black in a non-lab notebook with \" +\n",
       "                        \"`is_lab=True`. Please double check, and if \" +\n",
       "                        \"loading with `%load_ext` please review the README!\"\n",
       "                    console.log(msg)\n",
       "                    alert(msg)\n",
       "                })()\n",
       "                </script>\n",
       "                "
      ],
      "text/plain": [
       "<IPython.core.display.HTML object>"
      ]
     },
     "metadata": {},
     "output_type": "display_data"
    }
   ],
   "source": [
    "%load_ext jupyter_black\n",
    "%load_ext autoreload\n",
    "%autoreload 2"
   ]
  },
  {
   "cell_type": "code",
   "execution_count": 2,
   "metadata": {},
   "outputs": [],
   "source": [
    "from __future__ import annotations\n",
    "\n",
    "from typing import *  # pyright: ignore\n",
    "from decimal import Decimal\n",
    "from fractions import Fraction\n",
    "\n",
    "import numpy as np\n",
    "from numpy.typing import NDArray as _NDArray\n",
    "\n",
    "_T = TypeVar(\"_T\", bound=Any)\n",
    "NDArray: TypeAlias = _NDArray[_T]\n",
    "NestedSequence: TypeAlias = \"Sequence[_T | NestedSequence[_T]]\"\n",
    "\n",
    "Scalar: TypeAlias = float | int | Decimal | Fraction | np.number[Any]\n",
    "ScalarT = TypeVar(\"ScalarT\", bound=Scalar)\n",
    "\n",
    "\n",
    "ArrayLike: TypeAlias = \"NDArray[ScalarT] | NestedSequence[ScalarT]\""
   ]
  },
  {
   "cell_type": "code",
   "execution_count": 3,
   "metadata": {},
   "outputs": [],
   "source": [
    "import metpy.units\n",
    "import metpy.calc\n",
    "\n",
    "import pint\n",
    "from pint.registry import Quantity, Unit\n",
    "from pint.facets.plain import PlainQuantity, PlainUnit\n",
    "\n",
    "\n",
    "if TYPE_CHECKING:\n",
    "    from literal_unit import LiteralUnit  # pyright: ignore\n",
    "else:\n",
    "    LiteralUnit = str"
   ]
  },
  {
   "cell_type": "code",
   "execution_count": 4,
   "metadata": {},
   "outputs": [],
   "source": [
    "import pint.registry\n",
    "\n",
    "\n",
    "ureg = pint.UnitRegistry()\n",
    "\n",
    "\n",
    "def unit(x: Any):\n",
    "    return ureg(x).units\n",
    "\n",
    "\n",
    "# ureg = pint.registry.GenericUnitRegistry()\n",
    "ureg.default_format = \".3f~P\"\n",
    "\n",
    "# • [time]\n",
    "s = unit(\"second\")\n",
    "min_ = unit(\"minute\")\n",
    "hr = unit(\"hour\")\n",
    "\n",
    "\n",
    "# • [temperature]\n",
    "K = unit(\"kelvin\")\n",
    "C = unit(\"celsius\")\n",
    "F = unit(\"fahrenheit\")\n",
    "\n",
    "\n",
    "# • [length]\n",
    "m = unit(\"meter\")\n",
    "km = unit(\"kilometer\")\n",
    "\n",
    "in_ = unit(\"inch\")\n",
    "ft = unit(\"foot\")\n",
    "mi = unit(\"mile\")\n",
    "\n",
    "\n",
    "# • pressure\n",
    "Pa = unit(\"pascal\")\n",
    "hPa = unit(\"hectopascal\")\n",
    "kPa = unit(\"kilopascal\")\n",
    "mbar = unit(\"millibar\")\n",
    "\n",
    "# • energy\n",
    "J = unit(\"joule\")\n",
    "kJ = unit(\"kilojoule\")\n",
    "cal = unit(\"calorie\")\n",
    "kcal = unit(\"kilocalorie\")\n",
    "mol = unit(\"mole\")\n",
    "\n",
    "# - [mass]\n",
    "kg = unit(\"kilogram\")\n",
    "\n",
    "\n",
    "# - angle\n",
    "deg = unit(\"degree\")\n",
    "rad = unit(\"radian\")\n",
    "\n",
    "\n",
    "dimensionless = unit(\"dimensionless\")\n",
    "# - speed\n",
    "mps = m / s\n",
    "kph = km / hr\n",
    "mph = mi / hr\n",
    "kts = unit(\"knot\")\n",
    "\n",
    "# - image processing\n",
    "px = unit(\"pixel\")\n",
    "dpi = unit(\"dot/inch\")\n",
    "ppi = unit(\"pixel/inch\")"
   ]
  },
  {
   "cell_type": "code",
   "execution_count": 5,
   "metadata": {},
   "outputs": [],
   "source": [
    "from src.mesoformer.utils import as_any_array\n",
    "\n",
    "\n",
    "def unit(x: Any):\n",
    "    return ureg(x).units\n",
    "\n",
    "\n",
    "def isscaler(x: Any) -> TypeGuard[Scalar]:\n",
    "    return np.isscalar(x.magnitude if isinstance(x, Quantity) else x)\n",
    "\n",
    "\n",
    "@overload\n",
    "def quantity(\n",
    "    x: ScalarT,\n",
    "    unit: pint.Unit | Quantity | LiteralUnit | PlainUnit | PlainQuantity = dimensionless,\n",
    ") -> PlainQuantity[ScalarT]:\n",
    "    ...\n",
    "\n",
    "\n",
    "@overload\n",
    "def quantity(\n",
    "    x: ArrayLike[ScalarT],\n",
    "    unit: pint.Unit | Quantity | LiteralUnit | PlainUnit | PlainQuantity = dimensionless,\n",
    ") -> PlainQuantity[NDArray[ScalarT]]:  # type: ignore\n",
    "    ...\n",
    "\n",
    "\n",
    "def quantity(\n",
    "    x: ScalarT | ArrayLike[ScalarT],\n",
    "    unit: pint.Unit | Quantity | LiteralUnit | PlainUnit | PlainQuantity = dimensionless,\n",
    ") -> PlainQuantity[ScalarT] | PlainQuantity[NDArray[ScalarT]]:  # type: ignore\n",
    "    unit = ureg(unit) if isinstance(unit, str) else unit\n",
    "    return (x if isscaler(x) else np.asanyarray(x)) * unit  # type: ignore\n",
    "\n",
    "\n",
    "@as_any_array(np.float32)\n",
    "def normalize(x: NDArray[np.number]) -> NDArray[np.float_]:\n",
    "    return (x - x.min(keepdims=True)) / (x.max(keepdims=True) - x.min(keepdims=True))\n",
    "\n",
    "\n",
    "@ureg.wraps(dimensionless, hPa)\n",
    "def log_p(x) -> Quantity:\n",
    "    return np.log(x)"
   ]
  },
  {
   "cell_type": "code",
   "execution_count": 6,
   "metadata": {},
   "outputs": [],
   "source": [
    "EARTH_GRAVITY = g = quantity(9.80665, m / s**2)\n",
    "\"\"\">>> EARTH_GRAVITY `little g`\"\"\"\n",
    "GRAVITATIONAL_CONSTANT = G = quantity(6.67408e-11, m**3 / kg / s**2)\n",
    "\"\"\"`big G`\"\"\" \"\"\n",
    "EARTH_RADIUS = Re = quantity(6371008.7714, m)\n",
    "GEOCENTRIC_GRAVITATIONAL_CONSTANT = GM = quantity(3986005e8, m**3 / s**2)\n",
    "EARTH_MASS = Me = GEOCENTRIC_GRAVITATIONAL_CONSTANT / GRAVITATIONAL_CONSTANT\n",
    "\n",
    "\n",
    "ABSOLUTE_ZERO = K0 = quantity(-273.15, K)\n",
    "MOLAR_GAS_CONSTANT = R = quantity(8.314462618, J / mol / K)\n",
    "\n",
    "\n",
    "STANDARD_TEMPERATURE = t0 = quantity(288.0, K)\n",
    "\"\"\"Standard temperature at sea level.\"\"\"\n",
    "STANDARD_PRESSURE = p0 = quantity(1013.25, hPa)\n",
    "\"\"\"Standard pressure at sea level.\"\"\"\n",
    "STANDARD_LAPSE_RATE = gamma = quantity(6.5, K / km)\n",
    "\"\"\"Standard lapse rate.\"\"\"\n",
    "\n",
    "MOLAR_GAS_CONSTANT = R = quantity(8.314462618, J / mol / K)\n",
    "DRY_AIR_MOLECULAR_WEIGHT_RATIO = Md = quantity(28.96546e-3, kg / mol)\n",
    "\n",
    "# Dry air\n",
    "\n",
    "DRY_AIR_GAS_CONST = Rd = quantity(R / Md)\n",
    "# Md = dry_air_molecular_weight = units.Quantity(28.96546e-3, 'kg / mol')\n",
    "# Rd = dry_air_gas_constant = R / Md\n",
    "DRY_AIR_SPECIFIC_HEAT_RATIO = dash_r = quantity(1.4)\n",
    "DRY_AIR_SPECIFIC_HEAT_PRESSURE = Cp_d = quantity(dash_r * Rd / (dash_r - 1))\n",
    "DRY_AIR_SPECIFIC_HEAT_VOLUME = Cv_d = quantity(Cp_d / dash_r)\n",
    "P0 = pot_temp_ref_press = 1000.0 * mbar\n",
    "DRY_AIR_DENSITY_STP = rho_d = quantity(P0 / (Rd * -K0)).to(kg / m**3)\n",
    "# rho_d = dry_air_density_stp = quantity(P0 / (Rd * -K0)).to(\"kg / m^3\")\n",
    "# Dry air\n",
    "DRY_AIR_MOLECULAR_WEIGHT_RATIO = Md = 28.96546e-3 * kg / mol\n",
    "DRY_AIR_GAS_CONST = Rd = R / Md\n",
    "# Md = dry_air_molecular_weight = units.Quantity(28.96546e-3, 'kg / mol')\n",
    "# Rd = dry_air_gas_constant = R / Md\n",
    "# dry_air_spec_heat_ratio = 1.4 * dimensionless\n",
    "# Cp_d = dry_air_spec_heat_press = dry_air_spec_heat_ratio * Rd / (dry_air_spec_heat_ratio - 1)\n",
    "# Cv_d = dry_air_spec_heat_vol = Cp_d / dry_air_spec_heat_ratio\n",
    "# P0 = pot_temp_ref_press = 1000.0 * mbar\n",
    "# rho_d = dry_air_density_stp = quantity(P0 / (Rd * -K0)).to(kg / m**3)\n",
    "# Cp_d, Cv_d, _CP, Cv_d / Cp_d"
   ]
  },
  {
   "cell_type": "code",
   "execution_count": 7,
   "metadata": {},
   "outputs": [],
   "source": [
    "from numbers import Number\n",
    "\n",
    "Numeric = Number | np.number[Any] | float | int | Decimal | Fraction\n",
    "\n",
    "\n",
    "def pressure2height(pressure: PlainQuantity[NDArray[Any]]) -> PlainQuantity[float]:\n",
    "    return t0 / gamma * (1 - (pressure / p0) ** (Rd * gamma / g))\n",
    "\n",
    "\n",
    "def height2pressure(height: PlainQuantity[float | int] | NDArray) -> PlainQuantity[float]:\n",
    "    return p0 * (1 - (gamma / t0) * height) ** (g / (Rd * gamma))\n",
    "\n",
    "\n",
    "STANDARD_ATMOSPHERE = p_levels = [1013.25, *map(float, range(1000, 25 - 11, -25))]\n",
    "# levels = [850.0, 700.0, 500.0, 300.0]\n",
    "assert np.all(pressure2height(p_levels * hPa) == metpy.calc.pressure_to_height_std(p_levels * metpy.units.units.hPa))\n",
    "\n",
    "heights = pressure2height(p_levels * hPa)\n",
    "assert np.all(\n",
    "    metpy.calc.height_to_pressure_std(metpy.calc.pressure_to_height_std(p_levels * metpy.units.units.hPa))\n",
    "    == height2pressure(pressure2height(p_levels * hPa))\n",
    ")"
   ]
  },
  {
   "cell_type": "code",
   "execution_count": 8,
   "metadata": {},
   "outputs": [
    {
     "data": {
      "text/html": [
       "<table><tbody><tr><th>Magnitude</th><td style='text-align:left;'><pre>[1013.25 1000.0 975.0 950.0 925.0 900.0 875.0 850.0 825.0 800.0 775.0<br> 750.0 725.0 700.0 675.0 650.0 625.0 600.0 575.0 550.0 525.0 500.0 475.0<br> 450.0 425.0 400.0 375.0 350.0 325.0 300.0 275.0 250.0 225.0 200.0 175.0<br> 150.0 125.0 100.0 75.0 50.0 25.0]</pre></td></tr><tr><th>Units</th><td style='text-align:left;'>hPa</td></tr></tbody></table>"
      ],
      "text/latex": [
       "$\\begin{pmatrix} &  &  &  &  &  &  &  &  &  &  &  &  &  &  &  &  &  &  &  &  &  &  &  &  &  &  &  &  &  &  &  &  &  &  &  &  &  &  &  & \\end{pmatrix}\\ \\mathrm{hPa}$"
      ],
      "text/plain": [
       "array([1013.25, 1000.  ,  975.  ,  950.  ,  925.  ,  900.  ,  875.  ,\n",
       "        850.  ,  825.  ,  800.  ,  775.  ,  750.  ,  725.  ,  700.  ,\n",
       "        675.  ,  650.  ,  625.  ,  600.  ,  575.  ,  550.  ,  525.  ,\n",
       "        500.  ,  475.  ,  450.  ,  425.  ,  400.  ,  375.  ,  350.  ,\n",
       "        325.  ,  300.  ,  275.  ,  250.  ,  225.  ,  200.  ,  175.  ,\n",
       "        150.  ,  125.  ,  100.  ,   75.  ,   50.  ,   25.  ]) <Unit('hectopascal')>"
      ]
     },
     "execution_count": 8,
     "metadata": {},
     "output_type": "execute_result"
    }
   ],
   "source": [
    "import matplotlib.pyplot as plt\n",
    "\n",
    "STANDARD_ATMOSPHERE_LEVELS = p_levels = quantity([1013.25, *map(float, range(1000, 25 - 11, -25))], hPa)\n",
    "p_levels\n",
    "# ax.line(p_levels.m)"
   ]
  },
  {
   "cell_type": "code",
   "execution_count": 9,
   "metadata": {},
   "outputs": [
    {
     "data": {
      "text/html": [
       "<table><tbody><tr><th>Magnitude</th><td style='text-align:left;'><pre>[-0.0 0.11082463191827029 0.3232070008045167 0.5400457639046125<br> 0.7615554828072729 0.9879671974242934 1.2195301902939262<br> 1.456513996284988 1.6992107001633152 1.947937573358983 2.2030401123457213<br> 2.464895554945448 2.7339169684442526 3.010558025783667 3.2953186148078832<br> 3.588751462706512 3.891470006302659 4.204157802769398 4.527579860480632<br> 4.862596384290676 5.21017958563185 5.571434423209206 5.947624441471662<br> 6.340204302290991 6.750861224061164 7.181568453172953 7.634655260977472<br> 8.112900062019325 8.619656564404572 9.159028242671468 9.736115444461602<br> 10.357375151717509 11.031162002595584 11.768573960438637<br> 12.584837720144355 13.501714709781766 14.55200350500616<br> 15.788845929720818 17.307853736092152 19.312405402539174<br> 22.400622183232443]</pre></td></tr><tr><th>Units</th><td style='text-align:left;'>km</td></tr></tbody></table>"
      ],
      "text/latex": [
       "$\\begin{pmatrix} &  &  &  &  &  &  &  &  &  &  &  &  &  &  &  &  &  &  &  &  &  &  &  &  &  &  &  &  &  &  &  &  &  &  &  &  &  &  &  & \\end{pmatrix}\\ \\mathrm{km}$"
      ],
      "text/plain": [
       "array([-0.        ,  0.11082463,  0.323207  ,  0.54004576,  0.76155548,\n",
       "        0.9879672 ,  1.21953019,  1.456514  ,  1.6992107 ,  1.94793757,\n",
       "        2.20304011,  2.46489555,  2.73391697,  3.01055803,  3.29531861,\n",
       "        3.58875146,  3.89147001,  4.2041578 ,  4.52757986,  4.86259638,\n",
       "        5.21017959,  5.57143442,  5.94762444,  6.3402043 ,  6.75086122,\n",
       "        7.18156845,  7.63465526,  8.11290006,  8.61965656,  9.15902824,\n",
       "        9.73611544, 10.35737515, 11.031162  , 11.76857396, 12.58483772,\n",
       "       13.50171471, 14.55200351, 15.78884593, 17.30785374, 19.3124054 ,\n",
       "       22.40062218]) <Unit('kilometer')>"
      ]
     },
     "execution_count": 9,
     "metadata": {},
     "output_type": "execute_result"
    }
   ],
   "source": [
    "STANDARD_HEIGHTS = heights = pressure2height(p_levels)\n",
    "heights"
   ]
  },
  {
   "cell_type": "code",
   "execution_count": 10,
   "metadata": {},
   "outputs": [],
   "source": [
    "import pandas as pd\n",
    "import matplotlib.pyplot as plt\n",
    "\n",
    "ureg.setup_matplotlib()\n",
    "plot_kwargs: dict[str, Any] = dict(marker=\".\", linestyle=\"-\", linewidth=0.75)\n",
    "\n",
    "\n",
    "def plot(x, y, legend, ax=None, **kwargs):\n",
    "    ax = ax or plt.gca()\n",
    "    ax.plot(x, y, **(plot_kwargs | kwargs))\n",
    "    ax.legend([legend] if isinstance(legend, str) else legend)"
   ]
  },
  {
   "cell_type": "code",
   "execution_count": 13,
   "metadata": {},
   "outputs": [
    {
     "data": {
      "image/png": "[encoded data removed]",
      "text/plain": [
       "<Figure size 640x480 with 1 Axes>"
      ]
     },
     "metadata": {},
     "output_type": "display_data"
    }
   ],
   "source": [
    "ax = plt.gca()\n",
    "ax.invert_yaxis()\n",
    "\n",
    "plot(heights, p_levels, \"hPa | km\", ax=ax)\n",
    "plt.show()"
   ]
  },
  {
   "cell_type": "code",
   "execution_count": 12,
   "metadata": {},
   "outputs": [
    {
     "ename": "NameError",
     "evalue": "name 'data_frame' is not defined",
     "output_type": "error",
     "traceback": [
      "\u001b[0;31m---------------------------------------------------------------------------\u001b[0m",
      "\u001b[0;31mNameError\u001b[0m                                 Traceback (most recent call last)",
      "\u001b[1;32m/home/leaver/mesoformer/quantity.ipynb Cell 12\u001b[0m line \u001b[0;36m9\n\u001b[1;32m      <a href='vscode-notebook-cell://wsl%2Bubuntu-22.04/home/leaver/mesoformer/quantity.ipynb#X22sdnNjb2RlLXJlbW90ZQ%3D%3D?line=5'>6</a>\u001b[0m ax\u001b[39m.\u001b[39minvert_yaxis()\n\u001b[1;32m      <a href='vscode-notebook-cell://wsl%2Bubuntu-22.04/home/leaver/mesoformer/quantity.ipynb#X22sdnNjb2RlLXJlbW90ZQ%3D%3D?line=6'>7</a>\u001b[0m plot_kwargs: \u001b[39mdict\u001b[39m[\u001b[39mstr\u001b[39m, Any] \u001b[39m=\u001b[39m \u001b[39mdict\u001b[39m(marker\u001b[39m=\u001b[39m\u001b[39m\"\u001b[39m\u001b[39m.\u001b[39m\u001b[39m\"\u001b[39m, linestyle\u001b[39m=\u001b[39m\u001b[39m\"\u001b[39m\u001b[39m-\u001b[39m\u001b[39m\"\u001b[39m, linewidth\u001b[39m=\u001b[39m\u001b[39m0.75\u001b[39m)\n\u001b[0;32m----> <a href='vscode-notebook-cell://wsl%2Bubuntu-22.04/home/leaver/mesoformer/quantity.ipynb#X22sdnNjb2RlLXJlbW90ZQ%3D%3D?line=8'>9</a>\u001b[0m df \u001b[39m=\u001b[39m data_frame(height\u001b[39m=\u001b[39mheights, pressure\u001b[39m=\u001b[39mp_levels)\n\u001b[1;32m     <a href='vscode-notebook-cell://wsl%2Bubuntu-22.04/home/leaver/mesoformer/quantity.ipynb#X22sdnNjb2RlLXJlbW90ZQ%3D%3D?line=9'>10</a>\u001b[0m ax\u001b[39m.\u001b[39myaxis\u001b[39m.\u001b[39mset_units(\u001b[39m\"\u001b[39m\u001b[39mhPa\u001b[39m\u001b[39m\"\u001b[39m)\n\u001b[1;32m     <a href='vscode-notebook-cell://wsl%2Bubuntu-22.04/home/leaver/mesoformer/quantity.ipynb#X22sdnNjb2RlLXJlbW90ZQ%3D%3D?line=10'>11</a>\u001b[0m ax\u001b[39m.\u001b[39mxaxis\u001b[39m.\u001b[39mset_units(\u001b[39m\"\u001b[39m\u001b[39mm\u001b[39m\u001b[39m\"\u001b[39m)\n",
      "\u001b[0;31mNameError\u001b[0m: name 'data_frame' is not defined"
     ]
    },
    {
     "data": {
      "image/png": "[encoded data removed]",
      "text/plain": [
       "<Figure size 640x480 with 1 Axes>"
      ]
     },
     "metadata": {},
     "output_type": "display_data"
    }
   ],
   "source": [
    "import matplotlib.pyplot as plt\n",
    "\n",
    "\n",
    "\n",
    "ax = plt.axes()\n",
    "ax.invert_yaxis()\n",
    "plot_kwargs: dict[str, Any] = dict(marker=\".\", linestyle=\"-\", linewidth=0.75)\n",
    "\n",
    "df = data_frame(height=heights, pressure=p_levels)\n",
    "ax.yaxis.set_units(\"hPa\")\n",
    "ax.xaxis.set_units(\"m\")\n",
    "df.plot.line(\n",
    "    x=\"height\",\n",
    "    y=\"pressure\",\n",
    "    ax=ax,\n",
    "    **plot_kwargs,\n",
    ")\n",
    "\n",
    "\n",
    "plt.show()"
   ]
  },
  {
   "cell_type": "code",
   "execution_count": null,
   "metadata": {},
   "outputs": [],
   "source": [
    "import pandas as pd\n",
    "\n",
    "ax = plt.axes()\n",
    "ax.invert_yaxis()\n",
    "\n",
    "norm = X = (normalize(p_levels) + 1) * dimensionless  # type: ignore\n",
    "scale = Y = normalize(log_p(p_levels))[::-1] + 1 * dimensionless  # type: ignore\n",
    "\n",
    "\n",
    "df = data_frame(scale=scale, levels=p_levels)\n",
    "df.plot.line(x=\"scale\", y=\"levels\", ax=ax, label=\"scale\", **plot_kwargs)\n",
    "\n",
    "df.iloc[::4]"
   ]
  },
  {
   "cell_type": "code",
   "execution_count": null,
   "metadata": {},
   "outputs": [],
   "source": []
  },
  {
   "cell_type": "code",
   "execution_count": null,
   "metadata": {},
   "outputs": [],
   "source": [
    "p_targets = quantity([p0.m, 850, 700, 500, 300], hPa)\n",
    "mask = np.isin(p_levels, p_targets)  # type: ignore\n",
    "\n",
    "scale[mask]\n",
    "\n",
    "# (pressure2height(p_targets) * ((scale[mask] / 1.25) + 1) * 200)"
   ]
  }
 ],
 "metadata": {
  "kernelspec": {
   "display_name": ".venv",
   "language": "python",
   "name": "python3"
  },
  "language_info": {
   "codemirror_mode": {
    "name": "ipython",
    "version": 3
   },
   "file_extension": ".py",
   "mimetype": "text/x-python",
   "name": "python",
   "nbconvert_exporter": "python",
   "pygments_lexer": "ipython3",
   "version": "3.10.12"
  },
  "orig_nbformat": 4
 },
 "nbformat": 4,
 "nbformat_minor": 2
}
